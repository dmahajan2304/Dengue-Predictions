{
 "cells": [
  {
   "cell_type": "markdown",
   "metadata": {},
   "source": [
    "# Assignment 4 - Questions\n",
    "**Use the merged data frame from Assignment 1,2 and 3 for this assignment**\n",
    "\n",
    "This Assignment focuses on data preprocessing and model building. Continue with the datasets loaded in Assignment 1, 2 and 3 (or reload with same steps and create merged data frame). In this assignment you need to use Neural Network."
   ]
  },
  {
   "cell_type": "code",
   "execution_count": 1,
   "metadata": {},
   "outputs": [],
   "source": [
    "#import required libraries like pandas, numpy, matplotlib\n",
    "import pandas as pd\n",
    "import numpy as np\n",
    "import matplotlib.pyplot as plt\n",
    "import seaborn as sns\n",
    "%matplotlib inline\n",
    "import random\n",
    "from numpy import mean\n",
    "from numpy import std\n",
    "from scipy import stats\n",
    "from sklearn.preprocessing import LabelEncoder \n",
    "from sklearn.model_selection import StratifiedShuffleSplit\n",
    "from sklearn.preprocessing import StandardScaler\n",
    "from sklearn.neural_network import MLPRegressor\n",
    "from sklearn.neural_network import MLPClassifier\n",
    "from sklearn.metrics import mean_absolute_error"
   ]
  },
  {
   "cell_type": "markdown",
   "metadata": {},
   "source": [
    "1.Load the data (both features and label data set as before)"
   ]
  },
  {
   "cell_type": "code",
   "execution_count": 2,
   "metadata": {},
   "outputs": [
    {
     "data": {
      "text/html": [
       "<div>\n",
       "<style scoped>\n",
       "    .dataframe tbody tr th:only-of-type {\n",
       "        vertical-align: middle;\n",
       "    }\n",
       "\n",
       "    .dataframe tbody tr th {\n",
       "        vertical-align: top;\n",
       "    }\n",
       "\n",
       "    .dataframe thead th {\n",
       "        text-align: right;\n",
       "    }\n",
       "</style>\n",
       "<table border=\"1\" class=\"dataframe\">\n",
       "  <thead>\n",
       "    <tr style=\"text-align: right;\">\n",
       "      <th></th>\n",
       "      <th>city</th>\n",
       "      <th>year</th>\n",
       "      <th>weekofyear</th>\n",
       "      <th>week_start_date</th>\n",
       "      <th>ndvi_ne</th>\n",
       "      <th>ndvi_nw</th>\n",
       "      <th>ndvi_se</th>\n",
       "      <th>ndvi_sw</th>\n",
       "      <th>precipitation_amt_mm</th>\n",
       "      <th>reanalysis_air_temp_k</th>\n",
       "      <th>...</th>\n",
       "      <th>reanalysis_precip_amt_kg_per_m2</th>\n",
       "      <th>reanalysis_relative_humidity_percent</th>\n",
       "      <th>reanalysis_sat_precip_amt_mm</th>\n",
       "      <th>reanalysis_specific_humidity_g_per_kg</th>\n",
       "      <th>reanalysis_tdtr_k</th>\n",
       "      <th>station_avg_temp_c</th>\n",
       "      <th>station_diur_temp_rng_c</th>\n",
       "      <th>station_max_temp_c</th>\n",
       "      <th>station_min_temp_c</th>\n",
       "      <th>station_precip_mm</th>\n",
       "    </tr>\n",
       "  </thead>\n",
       "  <tbody>\n",
       "    <tr>\n",
       "      <td>0</td>\n",
       "      <td>sj</td>\n",
       "      <td>1990</td>\n",
       "      <td>18</td>\n",
       "      <td>1990-04-30</td>\n",
       "      <td>0.12260</td>\n",
       "      <td>0.103725</td>\n",
       "      <td>0.198483</td>\n",
       "      <td>0.177617</td>\n",
       "      <td>12.42</td>\n",
       "      <td>297.572857</td>\n",
       "      <td>...</td>\n",
       "      <td>32.00</td>\n",
       "      <td>73.365714</td>\n",
       "      <td>12.42</td>\n",
       "      <td>14.012857</td>\n",
       "      <td>2.628571</td>\n",
       "      <td>25.442857</td>\n",
       "      <td>6.900000</td>\n",
       "      <td>29.4</td>\n",
       "      <td>20.0</td>\n",
       "      <td>16.0</td>\n",
       "    </tr>\n",
       "    <tr>\n",
       "      <td>1</td>\n",
       "      <td>sj</td>\n",
       "      <td>1990</td>\n",
       "      <td>19</td>\n",
       "      <td>1990-05-07</td>\n",
       "      <td>0.16990</td>\n",
       "      <td>0.142175</td>\n",
       "      <td>0.162357</td>\n",
       "      <td>0.155486</td>\n",
       "      <td>22.82</td>\n",
       "      <td>298.211429</td>\n",
       "      <td>...</td>\n",
       "      <td>17.94</td>\n",
       "      <td>77.368571</td>\n",
       "      <td>22.82</td>\n",
       "      <td>15.372857</td>\n",
       "      <td>2.371429</td>\n",
       "      <td>26.714286</td>\n",
       "      <td>6.371429</td>\n",
       "      <td>31.7</td>\n",
       "      <td>22.2</td>\n",
       "      <td>8.6</td>\n",
       "    </tr>\n",
       "    <tr>\n",
       "      <td>2</td>\n",
       "      <td>sj</td>\n",
       "      <td>1990</td>\n",
       "      <td>20</td>\n",
       "      <td>1990-05-14</td>\n",
       "      <td>0.03225</td>\n",
       "      <td>0.172967</td>\n",
       "      <td>0.157200</td>\n",
       "      <td>0.170843</td>\n",
       "      <td>34.54</td>\n",
       "      <td>298.781429</td>\n",
       "      <td>...</td>\n",
       "      <td>26.10</td>\n",
       "      <td>82.052857</td>\n",
       "      <td>34.54</td>\n",
       "      <td>16.848571</td>\n",
       "      <td>2.300000</td>\n",
       "      <td>26.714286</td>\n",
       "      <td>6.485714</td>\n",
       "      <td>32.2</td>\n",
       "      <td>22.8</td>\n",
       "      <td>41.4</td>\n",
       "    </tr>\n",
       "  </tbody>\n",
       "</table>\n",
       "<p>3 rows × 24 columns</p>\n",
       "</div>"
      ],
      "text/plain": [
       "  city  year  weekofyear week_start_date  ndvi_ne   ndvi_nw   ndvi_se  \\\n",
       "0   sj  1990          18      1990-04-30  0.12260  0.103725  0.198483   \n",
       "1   sj  1990          19      1990-05-07  0.16990  0.142175  0.162357   \n",
       "2   sj  1990          20      1990-05-14  0.03225  0.172967  0.157200   \n",
       "\n",
       "    ndvi_sw  precipitation_amt_mm  reanalysis_air_temp_k  ...  \\\n",
       "0  0.177617                 12.42             297.572857  ...   \n",
       "1  0.155486                 22.82             298.211429  ...   \n",
       "2  0.170843                 34.54             298.781429  ...   \n",
       "\n",
       "   reanalysis_precip_amt_kg_per_m2  reanalysis_relative_humidity_percent  \\\n",
       "0                            32.00                             73.365714   \n",
       "1                            17.94                             77.368571   \n",
       "2                            26.10                             82.052857   \n",
       "\n",
       "   reanalysis_sat_precip_amt_mm  reanalysis_specific_humidity_g_per_kg  \\\n",
       "0                         12.42                              14.012857   \n",
       "1                         22.82                              15.372857   \n",
       "2                         34.54                              16.848571   \n",
       "\n",
       "   reanalysis_tdtr_k  station_avg_temp_c  station_diur_temp_rng_c  \\\n",
       "0           2.628571           25.442857                 6.900000   \n",
       "1           2.371429           26.714286                 6.371429   \n",
       "2           2.300000           26.714286                 6.485714   \n",
       "\n",
       "   station_max_temp_c  station_min_temp_c  station_precip_mm  \n",
       "0                29.4                20.0               16.0  \n",
       "1                31.7                22.2                8.6  \n",
       "2                32.2                22.8               41.4  \n",
       "\n",
       "[3 rows x 24 columns]"
      ]
     },
     "execution_count": 2,
     "metadata": {},
     "output_type": "execute_result"
    }
   ],
   "source": [
    "#read the train data into dataframe\n",
    "dengue_train = pd.read_csv(\"dengue_features_train.csv\") \n",
    "#view first 3 rows of the dataframe\n",
    "dengue_train.head(3)"
   ]
  },
  {
   "cell_type": "code",
   "execution_count": 3,
   "metadata": {},
   "outputs": [
    {
     "data": {
      "text/html": [
       "<div>\n",
       "<style scoped>\n",
       "    .dataframe tbody tr th:only-of-type {\n",
       "        vertical-align: middle;\n",
       "    }\n",
       "\n",
       "    .dataframe tbody tr th {\n",
       "        vertical-align: top;\n",
       "    }\n",
       "\n",
       "    .dataframe thead th {\n",
       "        text-align: right;\n",
       "    }\n",
       "</style>\n",
       "<table border=\"1\" class=\"dataframe\">\n",
       "  <thead>\n",
       "    <tr style=\"text-align: right;\">\n",
       "      <th></th>\n",
       "      <th>city</th>\n",
       "      <th>year</th>\n",
       "      <th>weekofyear</th>\n",
       "      <th>total_cases</th>\n",
       "    </tr>\n",
       "  </thead>\n",
       "  <tbody>\n",
       "    <tr>\n",
       "      <td>0</td>\n",
       "      <td>sj</td>\n",
       "      <td>1990</td>\n",
       "      <td>18</td>\n",
       "      <td>4</td>\n",
       "    </tr>\n",
       "    <tr>\n",
       "      <td>1</td>\n",
       "      <td>sj</td>\n",
       "      <td>1990</td>\n",
       "      <td>19</td>\n",
       "      <td>5</td>\n",
       "    </tr>\n",
       "    <tr>\n",
       "      <td>2</td>\n",
       "      <td>sj</td>\n",
       "      <td>1990</td>\n",
       "      <td>20</td>\n",
       "      <td>4</td>\n",
       "    </tr>\n",
       "  </tbody>\n",
       "</table>\n",
       "</div>"
      ],
      "text/plain": [
       "  city  year  weekofyear  total_cases\n",
       "0   sj  1990          18            4\n",
       "1   sj  1990          19            5\n",
       "2   sj  1990          20            4"
      ]
     },
     "execution_count": 3,
     "metadata": {},
     "output_type": "execute_result"
    }
   ],
   "source": [
    "#read the dengue_labels_train dataset into another dataframe\n",
    "dengue_labels = pd.read_csv(\"dengue_labels_train.csv\")  \n",
    "dengue_labels.head(3)"
   ]
  },
  {
   "cell_type": "code",
   "execution_count": 4,
   "metadata": {},
   "outputs": [
    {
     "name": "stdout",
     "output_type": "stream",
     "text": [
      "(1456, 25)\n"
     ]
    }
   ],
   "source": [
    "#merge the above two dataframes on city, year and weekofyear and store it into new dataframe\n",
    "merged_train_labels = pd.merge(dengue_train,dengue_labels, on= [\"city\",'year','weekofyear'])\n",
    "print(merged_train_labels.shape)"
   ]
  },
  {
   "cell_type": "markdown",
   "metadata": {},
   "source": [
    "In previous assignment, we have removed outliers to perform further analysis and so we will be using dataframe without outliers for this model as well."
   ]
  },
  {
   "cell_type": "code",
   "execution_count": 5,
   "metadata": {},
   "outputs": [
    {
     "name": "stdout",
     "output_type": "stream",
     "text": [
      "520\n",
      "7.565384615384615\n",
      "10.765478342208679\n",
      "(array([230, 231, 391, 429, 431, 432, 433], dtype=int64),)\n",
      "(513, 25)\n"
     ]
    }
   ],
   "source": [
    "#calculating the z-score of total_cases for city iq\n",
    "city_iq = merged_train_labels[merged_train_labels[\"city\"] == \"iq\"]\n",
    "print(city_iq[\"total_cases\"].count())\n",
    "print(city_iq[\"total_cases\"].mean())\n",
    "print(city_iq[\"total_cases\"].std())\n",
    "z_iq = np.abs(stats.zscore(city_iq[\"total_cases\"])) \n",
    "threshold = 3\n",
    "print(np.where(z_iq > 3))\n",
    "#removing the outliers from city iq\n",
    "oulier_rem_city_iq = city_iq[(z_iq < 3)]\n",
    "print(oulier_rem_city_iq.shape)"
   ]
  },
  {
   "cell_type": "code",
   "execution_count": 6,
   "metadata": {},
   "outputs": [
    {
     "name": "stdout",
     "output_type": "stream",
     "text": [
      "936\n",
      "34.18055555555556\n",
      "51.38137249715158\n",
      "(array([227, 228, 229, 230, 231, 232, 233, 234, 235, 236, 237, 238, 239,\n",
      "       240, 428, 429, 430, 431, 432, 433], dtype=int64),)\n",
      "(916, 25)\n"
     ]
    }
   ],
   "source": [
    "#calculating the z-score of total_cases for city sj\n",
    "city_sj = merged_train_labels[merged_train_labels[\"city\"] == \"sj\"]\n",
    "print(city_sj[\"total_cases\"].count())\n",
    "print(city_sj[\"total_cases\"].mean())\n",
    "print(city_sj[\"total_cases\"].std())\n",
    "z_sj = np.abs(stats.zscore(city_sj[\"total_cases\"]))\n",
    "threshold = 3\n",
    "print(np.where(z_sj > 3))\n",
    "#removing the outliers from city sj\n",
    "oulier_rem_city_sj = city_sj[(z_sj < 3)]\n",
    "print(oulier_rem_city_sj.shape)"
   ]
  },
  {
   "cell_type": "code",
   "execution_count": 7,
   "metadata": {},
   "outputs": [
    {
     "name": "stdout",
     "output_type": "stream",
     "text": [
      "(1429, 25)\n"
     ]
    },
    {
     "data": {
      "text/html": [
       "<div>\n",
       "<style scoped>\n",
       "    .dataframe tbody tr th:only-of-type {\n",
       "        vertical-align: middle;\n",
       "    }\n",
       "\n",
       "    .dataframe tbody tr th {\n",
       "        vertical-align: top;\n",
       "    }\n",
       "\n",
       "    .dataframe thead th {\n",
       "        text-align: right;\n",
       "    }\n",
       "</style>\n",
       "<table border=\"1\" class=\"dataframe\">\n",
       "  <thead>\n",
       "    <tr style=\"text-align: right;\">\n",
       "      <th></th>\n",
       "      <th>city</th>\n",
       "      <th>year</th>\n",
       "      <th>weekofyear</th>\n",
       "      <th>week_start_date</th>\n",
       "      <th>ndvi_ne</th>\n",
       "      <th>ndvi_nw</th>\n",
       "      <th>ndvi_se</th>\n",
       "      <th>ndvi_sw</th>\n",
       "      <th>precipitation_amt_mm</th>\n",
       "      <th>reanalysis_air_temp_k</th>\n",
       "      <th>...</th>\n",
       "      <th>reanalysis_relative_humidity_percent</th>\n",
       "      <th>reanalysis_sat_precip_amt_mm</th>\n",
       "      <th>reanalysis_specific_humidity_g_per_kg</th>\n",
       "      <th>reanalysis_tdtr_k</th>\n",
       "      <th>station_avg_temp_c</th>\n",
       "      <th>station_diur_temp_rng_c</th>\n",
       "      <th>station_max_temp_c</th>\n",
       "      <th>station_min_temp_c</th>\n",
       "      <th>station_precip_mm</th>\n",
       "      <th>total_cases</th>\n",
       "    </tr>\n",
       "  </thead>\n",
       "  <tbody>\n",
       "    <tr>\n",
       "      <td>936</td>\n",
       "      <td>iq</td>\n",
       "      <td>2000</td>\n",
       "      <td>26</td>\n",
       "      <td>2000-07-01</td>\n",
       "      <td>0.192886</td>\n",
       "      <td>0.132257</td>\n",
       "      <td>0.340886</td>\n",
       "      <td>0.247200</td>\n",
       "      <td>25.41</td>\n",
       "      <td>296.740000</td>\n",
       "      <td>...</td>\n",
       "      <td>92.418571</td>\n",
       "      <td>25.41</td>\n",
       "      <td>16.651429</td>\n",
       "      <td>8.928571</td>\n",
       "      <td>26.400000</td>\n",
       "      <td>10.775000</td>\n",
       "      <td>32.5</td>\n",
       "      <td>20.7</td>\n",
       "      <td>3.0</td>\n",
       "      <td>0</td>\n",
       "    </tr>\n",
       "    <tr>\n",
       "      <td>937</td>\n",
       "      <td>iq</td>\n",
       "      <td>2000</td>\n",
       "      <td>27</td>\n",
       "      <td>2000-07-08</td>\n",
       "      <td>0.216833</td>\n",
       "      <td>0.276100</td>\n",
       "      <td>0.289457</td>\n",
       "      <td>0.241657</td>\n",
       "      <td>60.61</td>\n",
       "      <td>296.634286</td>\n",
       "      <td>...</td>\n",
       "      <td>93.581429</td>\n",
       "      <td>60.61</td>\n",
       "      <td>16.862857</td>\n",
       "      <td>10.314286</td>\n",
       "      <td>26.900000</td>\n",
       "      <td>11.566667</td>\n",
       "      <td>34.0</td>\n",
       "      <td>20.8</td>\n",
       "      <td>55.6</td>\n",
       "      <td>0</td>\n",
       "    </tr>\n",
       "    <tr>\n",
       "      <td>938</td>\n",
       "      <td>iq</td>\n",
       "      <td>2000</td>\n",
       "      <td>28</td>\n",
       "      <td>2000-07-15</td>\n",
       "      <td>0.176757</td>\n",
       "      <td>0.173129</td>\n",
       "      <td>0.204114</td>\n",
       "      <td>0.128014</td>\n",
       "      <td>55.52</td>\n",
       "      <td>296.415714</td>\n",
       "      <td>...</td>\n",
       "      <td>95.848571</td>\n",
       "      <td>55.52</td>\n",
       "      <td>17.120000</td>\n",
       "      <td>7.385714</td>\n",
       "      <td>26.800000</td>\n",
       "      <td>11.466667</td>\n",
       "      <td>33.0</td>\n",
       "      <td>20.7</td>\n",
       "      <td>38.1</td>\n",
       "      <td>0</td>\n",
       "    </tr>\n",
       "    <tr>\n",
       "      <td>939</td>\n",
       "      <td>iq</td>\n",
       "      <td>2000</td>\n",
       "      <td>29</td>\n",
       "      <td>2000-07-22</td>\n",
       "      <td>0.227729</td>\n",
       "      <td>0.145429</td>\n",
       "      <td>0.254200</td>\n",
       "      <td>0.200314</td>\n",
       "      <td>5.60</td>\n",
       "      <td>295.357143</td>\n",
       "      <td>...</td>\n",
       "      <td>87.234286</td>\n",
       "      <td>5.60</td>\n",
       "      <td>14.431429</td>\n",
       "      <td>9.114286</td>\n",
       "      <td>25.766667</td>\n",
       "      <td>10.533333</td>\n",
       "      <td>31.5</td>\n",
       "      <td>14.7</td>\n",
       "      <td>30.0</td>\n",
       "      <td>0</td>\n",
       "    </tr>\n",
       "    <tr>\n",
       "      <td>940</td>\n",
       "      <td>iq</td>\n",
       "      <td>2000</td>\n",
       "      <td>30</td>\n",
       "      <td>2000-07-29</td>\n",
       "      <td>0.328643</td>\n",
       "      <td>0.322129</td>\n",
       "      <td>0.254371</td>\n",
       "      <td>0.361043</td>\n",
       "      <td>62.76</td>\n",
       "      <td>296.432857</td>\n",
       "      <td>...</td>\n",
       "      <td>88.161429</td>\n",
       "      <td>62.76</td>\n",
       "      <td>15.444286</td>\n",
       "      <td>9.500000</td>\n",
       "      <td>26.600000</td>\n",
       "      <td>11.480000</td>\n",
       "      <td>33.3</td>\n",
       "      <td>19.1</td>\n",
       "      <td>4.0</td>\n",
       "      <td>0</td>\n",
       "    </tr>\n",
       "    <tr>\n",
       "      <td>...</td>\n",
       "      <td>...</td>\n",
       "      <td>...</td>\n",
       "      <td>...</td>\n",
       "      <td>...</td>\n",
       "      <td>...</td>\n",
       "      <td>...</td>\n",
       "      <td>...</td>\n",
       "      <td>...</td>\n",
       "      <td>...</td>\n",
       "      <td>...</td>\n",
       "      <td>...</td>\n",
       "      <td>...</td>\n",
       "      <td>...</td>\n",
       "      <td>...</td>\n",
       "      <td>...</td>\n",
       "      <td>...</td>\n",
       "      <td>...</td>\n",
       "      <td>...</td>\n",
       "      <td>...</td>\n",
       "      <td>...</td>\n",
       "      <td>...</td>\n",
       "    </tr>\n",
       "    <tr>\n",
       "      <td>931</td>\n",
       "      <td>sj</td>\n",
       "      <td>2008</td>\n",
       "      <td>13</td>\n",
       "      <td>2008-03-25</td>\n",
       "      <td>0.077850</td>\n",
       "      <td>-0.039900</td>\n",
       "      <td>0.310471</td>\n",
       "      <td>0.296243</td>\n",
       "      <td>27.19</td>\n",
       "      <td>296.958571</td>\n",
       "      <td>...</td>\n",
       "      <td>74.247143</td>\n",
       "      <td>27.19</td>\n",
       "      <td>13.644286</td>\n",
       "      <td>2.885714</td>\n",
       "      <td>25.042857</td>\n",
       "      <td>5.785714</td>\n",
       "      <td>30.0</td>\n",
       "      <td>21.1</td>\n",
       "      <td>1.8</td>\n",
       "      <td>4</td>\n",
       "    </tr>\n",
       "    <tr>\n",
       "      <td>932</td>\n",
       "      <td>sj</td>\n",
       "      <td>2008</td>\n",
       "      <td>14</td>\n",
       "      <td>2008-04-01</td>\n",
       "      <td>-0.038000</td>\n",
       "      <td>-0.016833</td>\n",
       "      <td>0.119371</td>\n",
       "      <td>0.066386</td>\n",
       "      <td>3.82</td>\n",
       "      <td>298.081429</td>\n",
       "      <td>...</td>\n",
       "      <td>74.600000</td>\n",
       "      <td>3.82</td>\n",
       "      <td>14.662857</td>\n",
       "      <td>2.714286</td>\n",
       "      <td>26.242857</td>\n",
       "      <td>6.814286</td>\n",
       "      <td>30.6</td>\n",
       "      <td>22.2</td>\n",
       "      <td>0.5</td>\n",
       "      <td>3</td>\n",
       "    </tr>\n",
       "    <tr>\n",
       "      <td>933</td>\n",
       "      <td>sj</td>\n",
       "      <td>2008</td>\n",
       "      <td>15</td>\n",
       "      <td>2008-04-08</td>\n",
       "      <td>-0.155200</td>\n",
       "      <td>-0.052750</td>\n",
       "      <td>0.137757</td>\n",
       "      <td>0.141214</td>\n",
       "      <td>16.96</td>\n",
       "      <td>297.460000</td>\n",
       "      <td>...</td>\n",
       "      <td>75.027143</td>\n",
       "      <td>16.96</td>\n",
       "      <td>14.184286</td>\n",
       "      <td>2.185714</td>\n",
       "      <td>25.000000</td>\n",
       "      <td>5.714286</td>\n",
       "      <td>29.4</td>\n",
       "      <td>21.7</td>\n",
       "      <td>30.7</td>\n",
       "      <td>1</td>\n",
       "    </tr>\n",
       "    <tr>\n",
       "      <td>934</td>\n",
       "      <td>sj</td>\n",
       "      <td>2008</td>\n",
       "      <td>16</td>\n",
       "      <td>2008-04-15</td>\n",
       "      <td>0.001800</td>\n",
       "      <td>NaN</td>\n",
       "      <td>0.203900</td>\n",
       "      <td>0.209843</td>\n",
       "      <td>0.00</td>\n",
       "      <td>297.630000</td>\n",
       "      <td>...</td>\n",
       "      <td>72.285714</td>\n",
       "      <td>0.00</td>\n",
       "      <td>13.858571</td>\n",
       "      <td>2.785714</td>\n",
       "      <td>25.314286</td>\n",
       "      <td>6.242857</td>\n",
       "      <td>29.4</td>\n",
       "      <td>21.7</td>\n",
       "      <td>11.2</td>\n",
       "      <td>3</td>\n",
       "    </tr>\n",
       "    <tr>\n",
       "      <td>935</td>\n",
       "      <td>sj</td>\n",
       "      <td>2008</td>\n",
       "      <td>17</td>\n",
       "      <td>2008-04-22</td>\n",
       "      <td>-0.037000</td>\n",
       "      <td>-0.010367</td>\n",
       "      <td>0.077314</td>\n",
       "      <td>0.090586</td>\n",
       "      <td>0.00</td>\n",
       "      <td>298.672857</td>\n",
       "      <td>...</td>\n",
       "      <td>76.960000</td>\n",
       "      <td>0.00</td>\n",
       "      <td>15.671429</td>\n",
       "      <td>3.957143</td>\n",
       "      <td>27.042857</td>\n",
       "      <td>7.514286</td>\n",
       "      <td>31.7</td>\n",
       "      <td>23.3</td>\n",
       "      <td>0.3</td>\n",
       "      <td>5</td>\n",
       "    </tr>\n",
       "  </tbody>\n",
       "</table>\n",
       "<p>1429 rows × 25 columns</p>\n",
       "</div>"
      ],
      "text/plain": [
       "    city  year  weekofyear week_start_date   ndvi_ne   ndvi_nw   ndvi_se  \\\n",
       "936   iq  2000          26      2000-07-01  0.192886  0.132257  0.340886   \n",
       "937   iq  2000          27      2000-07-08  0.216833  0.276100  0.289457   \n",
       "938   iq  2000          28      2000-07-15  0.176757  0.173129  0.204114   \n",
       "939   iq  2000          29      2000-07-22  0.227729  0.145429  0.254200   \n",
       "940   iq  2000          30      2000-07-29  0.328643  0.322129  0.254371   \n",
       "..   ...   ...         ...             ...       ...       ...       ...   \n",
       "931   sj  2008          13      2008-03-25  0.077850 -0.039900  0.310471   \n",
       "932   sj  2008          14      2008-04-01 -0.038000 -0.016833  0.119371   \n",
       "933   sj  2008          15      2008-04-08 -0.155200 -0.052750  0.137757   \n",
       "934   sj  2008          16      2008-04-15  0.001800       NaN  0.203900   \n",
       "935   sj  2008          17      2008-04-22 -0.037000 -0.010367  0.077314   \n",
       "\n",
       "      ndvi_sw  precipitation_amt_mm  reanalysis_air_temp_k  ...  \\\n",
       "936  0.247200                 25.41             296.740000  ...   \n",
       "937  0.241657                 60.61             296.634286  ...   \n",
       "938  0.128014                 55.52             296.415714  ...   \n",
       "939  0.200314                  5.60             295.357143  ...   \n",
       "940  0.361043                 62.76             296.432857  ...   \n",
       "..        ...                   ...                    ...  ...   \n",
       "931  0.296243                 27.19             296.958571  ...   \n",
       "932  0.066386                  3.82             298.081429  ...   \n",
       "933  0.141214                 16.96             297.460000  ...   \n",
       "934  0.209843                  0.00             297.630000  ...   \n",
       "935  0.090586                  0.00             298.672857  ...   \n",
       "\n",
       "     reanalysis_relative_humidity_percent  reanalysis_sat_precip_amt_mm  \\\n",
       "936                             92.418571                         25.41   \n",
       "937                             93.581429                         60.61   \n",
       "938                             95.848571                         55.52   \n",
       "939                             87.234286                          5.60   \n",
       "940                             88.161429                         62.76   \n",
       "..                                    ...                           ...   \n",
       "931                             74.247143                         27.19   \n",
       "932                             74.600000                          3.82   \n",
       "933                             75.027143                         16.96   \n",
       "934                             72.285714                          0.00   \n",
       "935                             76.960000                          0.00   \n",
       "\n",
       "     reanalysis_specific_humidity_g_per_kg  reanalysis_tdtr_k  \\\n",
       "936                              16.651429           8.928571   \n",
       "937                              16.862857          10.314286   \n",
       "938                              17.120000           7.385714   \n",
       "939                              14.431429           9.114286   \n",
       "940                              15.444286           9.500000   \n",
       "..                                     ...                ...   \n",
       "931                              13.644286           2.885714   \n",
       "932                              14.662857           2.714286   \n",
       "933                              14.184286           2.185714   \n",
       "934                              13.858571           2.785714   \n",
       "935                              15.671429           3.957143   \n",
       "\n",
       "     station_avg_temp_c  station_diur_temp_rng_c  station_max_temp_c  \\\n",
       "936           26.400000                10.775000                32.5   \n",
       "937           26.900000                11.566667                34.0   \n",
       "938           26.800000                11.466667                33.0   \n",
       "939           25.766667                10.533333                31.5   \n",
       "940           26.600000                11.480000                33.3   \n",
       "..                  ...                      ...                 ...   \n",
       "931           25.042857                 5.785714                30.0   \n",
       "932           26.242857                 6.814286                30.6   \n",
       "933           25.000000                 5.714286                29.4   \n",
       "934           25.314286                 6.242857                29.4   \n",
       "935           27.042857                 7.514286                31.7   \n",
       "\n",
       "     station_min_temp_c  station_precip_mm  total_cases  \n",
       "936                20.7                3.0            0  \n",
       "937                20.8               55.6            0  \n",
       "938                20.7               38.1            0  \n",
       "939                14.7               30.0            0  \n",
       "940                19.1                4.0            0  \n",
       "..                  ...                ...          ...  \n",
       "931                21.1                1.8            4  \n",
       "932                22.2                0.5            3  \n",
       "933                21.7               30.7            1  \n",
       "934                21.7               11.2            3  \n",
       "935                23.3                0.3            5  \n",
       "\n",
       "[1429 rows x 25 columns]"
      ]
     },
     "execution_count": 7,
     "metadata": {},
     "output_type": "execute_result"
    }
   ],
   "source": [
    "#creating a new dataframe without outliers\n",
    "df_without_outliers = pd.concat([oulier_rem_city_iq,oulier_rem_city_sj] )\n",
    "print(df_without_outliers.shape)\n",
    "df_without_outliers"
   ]
  },
  {
   "cell_type": "code",
   "execution_count": 8,
   "metadata": {},
   "outputs": [],
   "source": [
    "#create a copy of the original merged dataframe\n",
    "dengue = df_without_outliers.copy()"
   ]
  },
  {
   "cell_type": "markdown",
   "metadata": {},
   "source": [
    "2.Preprocess the data - briefly comment if any special preprocessing is adopted to suit Neural Network"
   ]
  },
  {
   "cell_type": "code",
   "execution_count": 9,
   "metadata": {},
   "outputs": [
    {
     "data": {
      "text/html": [
       "<div>\n",
       "<style scoped>\n",
       "    .dataframe tbody tr th:only-of-type {\n",
       "        vertical-align: middle;\n",
       "    }\n",
       "\n",
       "    .dataframe tbody tr th {\n",
       "        vertical-align: top;\n",
       "    }\n",
       "\n",
       "    .dataframe thead th {\n",
       "        text-align: right;\n",
       "    }\n",
       "</style>\n",
       "<table border=\"1\" class=\"dataframe\">\n",
       "  <thead>\n",
       "    <tr style=\"text-align: right;\">\n",
       "      <th></th>\n",
       "      <th>city</th>\n",
       "      <th>week_start_date</th>\n",
       "      <th>ndvi_ne</th>\n",
       "      <th>ndvi_nw</th>\n",
       "      <th>ndvi_se</th>\n",
       "      <th>ndvi_sw</th>\n",
       "      <th>reanalysis_air_temp_k</th>\n",
       "      <th>reanalysis_max_air_temp_k</th>\n",
       "      <th>reanalysis_min_air_temp_k</th>\n",
       "      <th>reanalysis_relative_humidity_percent</th>\n",
       "      <th>reanalysis_tdtr_k</th>\n",
       "      <th>station_diur_temp_rng_c</th>\n",
       "      <th>total_cases</th>\n",
       "    </tr>\n",
       "  </thead>\n",
       "  <tbody>\n",
       "    <tr>\n",
       "      <td>936</td>\n",
       "      <td>iq</td>\n",
       "      <td>2000-07-01</td>\n",
       "      <td>0.192886</td>\n",
       "      <td>0.132257</td>\n",
       "      <td>0.340886</td>\n",
       "      <td>0.247200</td>\n",
       "      <td>296.740000</td>\n",
       "      <td>307.3</td>\n",
       "      <td>293.1</td>\n",
       "      <td>92.418571</td>\n",
       "      <td>8.928571</td>\n",
       "      <td>10.775000</td>\n",
       "      <td>0</td>\n",
       "    </tr>\n",
       "    <tr>\n",
       "      <td>937</td>\n",
       "      <td>iq</td>\n",
       "      <td>2000-07-08</td>\n",
       "      <td>0.216833</td>\n",
       "      <td>0.276100</td>\n",
       "      <td>0.289457</td>\n",
       "      <td>0.241657</td>\n",
       "      <td>296.634286</td>\n",
       "      <td>306.6</td>\n",
       "      <td>291.1</td>\n",
       "      <td>93.581429</td>\n",
       "      <td>10.314286</td>\n",
       "      <td>11.566667</td>\n",
       "      <td>0</td>\n",
       "    </tr>\n",
       "    <tr>\n",
       "      <td>938</td>\n",
       "      <td>iq</td>\n",
       "      <td>2000-07-15</td>\n",
       "      <td>0.176757</td>\n",
       "      <td>0.173129</td>\n",
       "      <td>0.204114</td>\n",
       "      <td>0.128014</td>\n",
       "      <td>296.415714</td>\n",
       "      <td>304.5</td>\n",
       "      <td>292.6</td>\n",
       "      <td>95.848571</td>\n",
       "      <td>7.385714</td>\n",
       "      <td>11.466667</td>\n",
       "      <td>0</td>\n",
       "    </tr>\n",
       "    <tr>\n",
       "      <td>939</td>\n",
       "      <td>iq</td>\n",
       "      <td>2000-07-22</td>\n",
       "      <td>0.227729</td>\n",
       "      <td>0.145429</td>\n",
       "      <td>0.254200</td>\n",
       "      <td>0.200314</td>\n",
       "      <td>295.357143</td>\n",
       "      <td>303.6</td>\n",
       "      <td>288.6</td>\n",
       "      <td>87.234286</td>\n",
       "      <td>9.114286</td>\n",
       "      <td>10.533333</td>\n",
       "      <td>0</td>\n",
       "    </tr>\n",
       "    <tr>\n",
       "      <td>940</td>\n",
       "      <td>iq</td>\n",
       "      <td>2000-07-29</td>\n",
       "      <td>0.328643</td>\n",
       "      <td>0.322129</td>\n",
       "      <td>0.254371</td>\n",
       "      <td>0.361043</td>\n",
       "      <td>296.432857</td>\n",
       "      <td>307.0</td>\n",
       "      <td>291.5</td>\n",
       "      <td>88.161429</td>\n",
       "      <td>9.500000</td>\n",
       "      <td>11.480000</td>\n",
       "      <td>0</td>\n",
       "    </tr>\n",
       "  </tbody>\n",
       "</table>\n",
       "</div>"
      ],
      "text/plain": [
       "    city week_start_date   ndvi_ne   ndvi_nw   ndvi_se   ndvi_sw  \\\n",
       "936   iq      2000-07-01  0.192886  0.132257  0.340886  0.247200   \n",
       "937   iq      2000-07-08  0.216833  0.276100  0.289457  0.241657   \n",
       "938   iq      2000-07-15  0.176757  0.173129  0.204114  0.128014   \n",
       "939   iq      2000-07-22  0.227729  0.145429  0.254200  0.200314   \n",
       "940   iq      2000-07-29  0.328643  0.322129  0.254371  0.361043   \n",
       "\n",
       "     reanalysis_air_temp_k  reanalysis_max_air_temp_k  \\\n",
       "936             296.740000                      307.3   \n",
       "937             296.634286                      306.6   \n",
       "938             296.415714                      304.5   \n",
       "939             295.357143                      303.6   \n",
       "940             296.432857                      307.0   \n",
       "\n",
       "     reanalysis_min_air_temp_k  reanalysis_relative_humidity_percent  \\\n",
       "936                      293.1                             92.418571   \n",
       "937                      291.1                             93.581429   \n",
       "938                      292.6                             95.848571   \n",
       "939                      288.6                             87.234286   \n",
       "940                      291.5                             88.161429   \n",
       "\n",
       "     reanalysis_tdtr_k  station_diur_temp_rng_c  total_cases  \n",
       "936           8.928571                10.775000            0  \n",
       "937          10.314286                11.566667            0  \n",
       "938           7.385714                11.466667            0  \n",
       "939           9.114286                10.533333            0  \n",
       "940           9.500000                11.480000            0  "
      ]
     },
     "execution_count": 9,
     "metadata": {},
     "output_type": "execute_result"
    }
   ],
   "source": [
    "#dataset from previous assignment\n",
    "current_dataset = dengue.drop([\"precipitation_amt_mm\",\"reanalysis_sat_precip_amt_mm\",\"reanalysis_dew_point_temp_k\"\n",
    "                                                    ,\"reanalysis_specific_humidity_g_per_kg\",\"reanalysis_precip_amt_kg_per_m2\",\"reanalysis_avg_temp_k\",\n",
    "                                                    \"station_precip_mm\",\"station_min_temp_c\",\"station_max_temp_c\",\"station_avg_temp_c\",\"year\",\"weekofyear\"],axis=1)\n",
    "current_dataset.head()"
   ]
  },
  {
   "cell_type": "code",
   "execution_count": 10,
   "metadata": {},
   "outputs": [],
   "source": [
    "#converting the reanalysis_relative_humidity_percent value to decimal\n",
    "current_dataset[\"reanalysis_relative_humidity_percent\"] = current_dataset[\"reanalysis_relative_humidity_percent\"]/100"
   ]
  },
  {
   "cell_type": "code",
   "execution_count": 11,
   "metadata": {},
   "outputs": [],
   "source": [
    "current_dataset['ndvi_ne'] = np.where(current_dataset[\"ndvi_ne\"] <= 0.25, 0,1) \n",
    "current_dataset['ndvi_nw'] = np.where(current_dataset[\"ndvi_ne\"] <= 0.25, 0,1) \n",
    "current_dataset['ndvi_se'] = np.where(current_dataset[\"ndvi_se\"] <= 0.25, 0,1) \n",
    "current_dataset['ndvi_sw'] = np.where(current_dataset[\"ndvi_sw\"] <= 0.25, 0,1) "
   ]
  },
  {
   "cell_type": "code",
   "execution_count": 12,
   "metadata": {},
   "outputs": [],
   "source": [
    "#create new columns for seasonal features by extracting the month from week_start_date\n",
    "current_dataset[\"month\"] = pd.to_datetime(current_dataset[\"week_start_date\"]).dt.month\n",
    "current_dataset[\"Jan_Apr\"]= np.where(current_dataset[\"month\"].isin([1,2,3,4]),1,0)\n",
    "current_dataset[\"May_Aug\"]= np.where(current_dataset[\"month\"].isin([5,6,7,8]),1,0)\n",
    "current_dataset[\"Sep_Dec\"]= np.where(current_dataset[\"month\"].isin([9,10,11,12]),1,0)\n",
    "current_dataset = current_dataset.drop([\"month\",\"week_start_date\"],axis =1)"
   ]
  },
  {
   "cell_type": "code",
   "execution_count": 13,
   "metadata": {},
   "outputs": [
    {
     "name": "stdout",
     "output_type": "stream",
     "text": [
      "<class 'pandas.core.frame.DataFrame'>\n",
      "Int64Index: 1429 entries, 936 to 935\n",
      "Data columns (total 15 columns):\n",
      "city                                    1429 non-null object\n",
      "ndvi_ne                                 1429 non-null int32\n",
      "ndvi_nw                                 1429 non-null int32\n",
      "ndvi_se                                 1429 non-null int32\n",
      "ndvi_sw                                 1429 non-null int32\n",
      "reanalysis_air_temp_k                   1419 non-null float64\n",
      "reanalysis_max_air_temp_k               1419 non-null float64\n",
      "reanalysis_min_air_temp_k               1419 non-null float64\n",
      "reanalysis_relative_humidity_percent    1419 non-null float64\n",
      "reanalysis_tdtr_k                       1419 non-null float64\n",
      "station_diur_temp_rng_c                 1388 non-null float64\n",
      "total_cases                             1429 non-null int64\n",
      "Jan_Apr                                 1429 non-null int32\n",
      "May_Aug                                 1429 non-null int32\n",
      "Sep_Dec                                 1429 non-null int32\n",
      "dtypes: float64(6), int32(7), int64(1), object(1)\n",
      "memory usage: 139.6+ KB\n"
     ]
    }
   ],
   "source": [
    "current_dataset.info()"
   ]
  },
  {
   "cell_type": "code",
   "execution_count": 14,
   "metadata": {},
   "outputs": [],
   "source": [
    "#Label-Encoding on city attribute\n",
    "le = LabelEncoder() \n",
    "current_dataset['city']= le.fit_transform(current_dataset['city']) "
   ]
  },
  {
   "cell_type": "code",
   "execution_count": 15,
   "metadata": {},
   "outputs": [
    {
     "name": "stdout",
     "output_type": "stream",
     "text": [
      "<class 'pandas.core.frame.DataFrame'>\n",
      "Int64Index: 1429 entries, 936 to 935\n",
      "Data columns (total 15 columns):\n",
      "city                                    1429 non-null category\n",
      "ndvi_ne                                 1429 non-null category\n",
      "ndvi_nw                                 1429 non-null category\n",
      "ndvi_se                                 1429 non-null category\n",
      "ndvi_sw                                 1429 non-null category\n",
      "reanalysis_air_temp_k                   1419 non-null float64\n",
      "reanalysis_max_air_temp_k               1419 non-null float64\n",
      "reanalysis_min_air_temp_k               1419 non-null float64\n",
      "reanalysis_relative_humidity_percent    1419 non-null float64\n",
      "reanalysis_tdtr_k                       1419 non-null float64\n",
      "station_diur_temp_rng_c                 1388 non-null float64\n",
      "total_cases                             1429 non-null int64\n",
      "Jan_Apr                                 1429 non-null category\n",
      "May_Aug                                 1429 non-null category\n",
      "Sep_Dec                                 1429 non-null category\n",
      "dtypes: category(8), float64(6), int64(1)\n",
      "memory usage: 101.2 KB\n"
     ]
    }
   ],
   "source": [
    "#change the data type to category for categorical columns\n",
    "current_dataset.city = current_dataset[\"city\"].astype(\"category\")\n",
    "current_dataset.Jan_Apr = current_dataset[\"Jan_Apr\"].astype(\"category\")\n",
    "current_dataset.May_Aug = current_dataset[\"May_Aug\"].astype(\"category\")\n",
    "current_dataset.Sep_Dec = current_dataset[\"Sep_Dec\"].astype(\"category\")\n",
    "current_dataset.ndvi_ne = current_dataset[\"ndvi_ne\"].astype(\"category\")\n",
    "current_dataset.ndvi_nw = current_dataset[\"ndvi_nw\"].astype(\"category\")\n",
    "current_dataset.ndvi_se = current_dataset[\"ndvi_se\"].astype(\"category\")\n",
    "current_dataset.ndvi_sw = current_dataset[\"ndvi_sw\"].astype(\"category\")\n",
    "current_dataset.info()"
   ]
  },
  {
   "cell_type": "code",
   "execution_count": 16,
   "metadata": {},
   "outputs": [
    {
     "name": "stdout",
     "output_type": "stream",
     "text": [
      "<class 'pandas.core.frame.DataFrame'>\n",
      "Int64Index: 1429 entries, 936 to 935\n",
      "Data columns (total 15 columns):\n",
      "city                         1429 non-null category\n",
      "ndvi_ne                      1429 non-null category\n",
      "ndvi_nw                      1429 non-null category\n",
      "ndvi_se                      1429 non-null category\n",
      "ndvi_sw                      1429 non-null category\n",
      "re_an_air_temp_k             1419 non-null float64\n",
      "re_an_max_air_temp_k         1419 non-null float64\n",
      "re_an_min_air_temp_k         1419 non-null float64\n",
      "re_an_relative_hd_percent    1419 non-null float64\n",
      "re_an_tdtr_k                 1419 non-null float64\n",
      "stn_diur_temp_rng_c          1388 non-null float64\n",
      "total_cases                  1429 non-null int64\n",
      "Jan_Apr                      1429 non-null category\n",
      "May_Aug                      1429 non-null category\n",
      "Sep_Dec                      1429 non-null category\n",
      "dtypes: category(8), float64(6), int64(1)\n",
      "memory usage: 101.2 KB\n"
     ]
    }
   ],
   "source": [
    "#changing the column names\n",
    "current_dataset.columns = current_dataset.columns.str.replace(\"station\",\"stn\")\n",
    "current_dataset.columns = current_dataset.columns.str.replace(\"reanalysis\",\"re_an\")\n",
    "current_dataset.columns = current_dataset.columns.str.replace(\"humidity\",\"hd\")\n",
    "current_dataset.columns = current_dataset.columns.str.replace(\"precipitation\",\"prec\")\n",
    "current_dataset.info()"
   ]
  },
  {
   "cell_type": "code",
   "execution_count": 17,
   "metadata": {},
   "outputs": [],
   "source": [
    "#create a dataframe for numerical attribute\n",
    "dengue_num = current_dataset.drop([\"city\",\"Jan_Apr\",\"May_Aug\",\"Sep_Dec\",\"ndvi_ne\",\"ndvi_nw\",\"ndvi_se\",\"ndvi_sw\",\"re_an_relative_hd_percent\",\n",
    "                                   \"total_cases\"], axis =1)"
   ]
  },
  {
   "cell_type": "code",
   "execution_count": 18,
   "metadata": {},
   "outputs": [
    {
     "data": {
      "text/html": [
       "<div>\n",
       "<style scoped>\n",
       "    .dataframe tbody tr th:only-of-type {\n",
       "        vertical-align: middle;\n",
       "    }\n",
       "\n",
       "    .dataframe tbody tr th {\n",
       "        vertical-align: top;\n",
       "    }\n",
       "\n",
       "    .dataframe thead th {\n",
       "        text-align: right;\n",
       "    }\n",
       "</style>\n",
       "<table border=\"1\" class=\"dataframe\">\n",
       "  <thead>\n",
       "    <tr style=\"text-align: right;\">\n",
       "      <th></th>\n",
       "      <th>0</th>\n",
       "      <th>1</th>\n",
       "      <th>2</th>\n",
       "      <th>3</th>\n",
       "      <th>4</th>\n",
       "    </tr>\n",
       "  </thead>\n",
       "  <tbody>\n",
       "    <tr>\n",
       "      <td>0</td>\n",
       "      <td>-1.429226</td>\n",
       "      <td>1.195519</td>\n",
       "      <td>-1.012560</td>\n",
       "      <td>1.129120</td>\n",
       "      <td>1.265491</td>\n",
       "    </tr>\n",
       "    <tr>\n",
       "      <td>1</td>\n",
       "      <td>-1.506709</td>\n",
       "      <td>0.979471</td>\n",
       "      <td>-1.791536</td>\n",
       "      <td>1.519524</td>\n",
       "      <td>1.636138</td>\n",
       "    </tr>\n",
       "    <tr>\n",
       "      <td>2</td>\n",
       "      <td>-1.666911</td>\n",
       "      <td>0.331326</td>\n",
       "      <td>-1.207304</td>\n",
       "      <td>0.694444</td>\n",
       "      <td>1.589319</td>\n",
       "    </tr>\n",
       "    <tr>\n",
       "      <td>3</td>\n",
       "      <td>-2.442789</td>\n",
       "      <td>0.053550</td>\n",
       "      <td>-2.765257</td>\n",
       "      <td>1.181442</td>\n",
       "      <td>1.152347</td>\n",
       "    </tr>\n",
       "    <tr>\n",
       "      <td>4</td>\n",
       "      <td>-1.654346</td>\n",
       "      <td>1.102927</td>\n",
       "      <td>-1.635741</td>\n",
       "      <td>1.290111</td>\n",
       "      <td>1.595562</td>\n",
       "    </tr>\n",
       "    <tr>\n",
       "      <td>...</td>\n",
       "      <td>...</td>\n",
       "      <td>...</td>\n",
       "      <td>...</td>\n",
       "      <td>...</td>\n",
       "      <td>...</td>\n",
       "    </tr>\n",
       "    <tr>\n",
       "      <td>1424</td>\n",
       "      <td>-1.269025</td>\n",
       "      <td>-1.150148</td>\n",
       "      <td>-0.506225</td>\n",
       "      <td>-0.573363</td>\n",
       "      <td>-1.070416</td>\n",
       "    </tr>\n",
       "    <tr>\n",
       "      <td>1425</td>\n",
       "      <td>-0.446029</td>\n",
       "      <td>-1.119284</td>\n",
       "      <td>0.311700</td>\n",
       "      <td>-0.621660</td>\n",
       "      <td>-0.588854</td>\n",
       "    </tr>\n",
       "    <tr>\n",
       "      <td>1426</td>\n",
       "      <td>-0.901504</td>\n",
       "      <td>-1.242740</td>\n",
       "      <td>0.039059</td>\n",
       "      <td>-0.770577</td>\n",
       "      <td>-1.103858</td>\n",
       "    </tr>\n",
       "    <tr>\n",
       "      <td>1427</td>\n",
       "      <td>-0.776903</td>\n",
       "      <td>-1.150148</td>\n",
       "      <td>0.078007</td>\n",
       "      <td>-0.601536</td>\n",
       "      <td>-0.856388</td>\n",
       "    </tr>\n",
       "    <tr>\n",
       "      <td>1428</td>\n",
       "      <td>-0.012543</td>\n",
       "      <td>-0.779779</td>\n",
       "      <td>0.078007</td>\n",
       "      <td>-0.271504</td>\n",
       "      <td>-0.261125</td>\n",
       "    </tr>\n",
       "  </tbody>\n",
       "</table>\n",
       "<p>1429 rows × 5 columns</p>\n",
       "</div>"
      ],
      "text/plain": [
       "             0         1         2         3         4\n",
       "0    -1.429226  1.195519 -1.012560  1.129120  1.265491\n",
       "1    -1.506709  0.979471 -1.791536  1.519524  1.636138\n",
       "2    -1.666911  0.331326 -1.207304  0.694444  1.589319\n",
       "3    -2.442789  0.053550 -2.765257  1.181442  1.152347\n",
       "4    -1.654346  1.102927 -1.635741  1.290111  1.595562\n",
       "...        ...       ...       ...       ...       ...\n",
       "1424 -1.269025 -1.150148 -0.506225 -0.573363 -1.070416\n",
       "1425 -0.446029 -1.119284  0.311700 -0.621660 -0.588854\n",
       "1426 -0.901504 -1.242740  0.039059 -0.770577 -1.103858\n",
       "1427 -0.776903 -1.150148  0.078007 -0.601536 -0.856388\n",
       "1428 -0.012543 -0.779779  0.078007 -0.271504 -0.261125\n",
       "\n",
       "[1429 rows x 5 columns]"
      ]
     },
     "execution_count": 18,
     "metadata": {},
     "output_type": "execute_result"
    }
   ],
   "source": [
    "# Standardize the numerical attributes\n",
    "sd = StandardScaler()\n",
    "std_dataset = pd.DataFrame(sd.fit_transform(dengue_num))\n",
    "std_dataset"
   ]
  },
  {
   "cell_type": "code",
   "execution_count": 19,
   "metadata": {},
   "outputs": [
    {
     "data": {
      "text/html": [
       "<div>\n",
       "<style scoped>\n",
       "    .dataframe tbody tr th:only-of-type {\n",
       "        vertical-align: middle;\n",
       "    }\n",
       "\n",
       "    .dataframe tbody tr th {\n",
       "        vertical-align: top;\n",
       "    }\n",
       "\n",
       "    .dataframe thead th {\n",
       "        text-align: right;\n",
       "    }\n",
       "</style>\n",
       "<table border=\"1\" class=\"dataframe\">\n",
       "  <thead>\n",
       "    <tr style=\"text-align: right;\">\n",
       "      <th></th>\n",
       "      <th>re_an_air_temp_k</th>\n",
       "      <th>re_an_max_air_temp_k</th>\n",
       "      <th>re_an_min_air_temp_k</th>\n",
       "      <th>re_an_tdtr_k</th>\n",
       "      <th>stn_diur_temp_rng_c</th>\n",
       "    </tr>\n",
       "  </thead>\n",
       "  <tbody>\n",
       "    <tr>\n",
       "      <td>0</td>\n",
       "      <td>-1.429226</td>\n",
       "      <td>1.195519</td>\n",
       "      <td>-1.012560</td>\n",
       "      <td>1.129120</td>\n",
       "      <td>1.265491</td>\n",
       "    </tr>\n",
       "    <tr>\n",
       "      <td>1</td>\n",
       "      <td>-1.506709</td>\n",
       "      <td>0.979471</td>\n",
       "      <td>-1.791536</td>\n",
       "      <td>1.519524</td>\n",
       "      <td>1.636138</td>\n",
       "    </tr>\n",
       "  </tbody>\n",
       "</table>\n",
       "</div>"
      ],
      "text/plain": [
       "   re_an_air_temp_k  re_an_max_air_temp_k  re_an_min_air_temp_k  re_an_tdtr_k  \\\n",
       "0         -1.429226              1.195519             -1.012560      1.129120   \n",
       "1         -1.506709              0.979471             -1.791536      1.519524   \n",
       "\n",
       "   stn_diur_temp_rng_c  \n",
       "0             1.265491  \n",
       "1             1.636138  "
      ]
     },
     "execution_count": 19,
     "metadata": {},
     "output_type": "execute_result"
    }
   ],
   "source": [
    "# assigning the columnn names\n",
    "std_dataset.columns = dengue_num.columns\n",
    "std_dataset.head(2)"
   ]
  },
  {
   "cell_type": "code",
   "execution_count": 20,
   "metadata": {},
   "outputs": [],
   "source": [
    "re_an_relative_hd_percent = current_dataset[\"re_an_relative_hd_percent\"]\n",
    "std_dataset[\"re_an_relative_hd_percent\"] = re_an_relative_hd_percent"
   ]
  },
  {
   "cell_type": "code",
   "execution_count": 21,
   "metadata": {},
   "outputs": [
    {
     "data": {
      "text/plain": [
       "re_an_air_temp_k             10\n",
       "re_an_max_air_temp_k         10\n",
       "re_an_min_air_temp_k         10\n",
       "re_an_tdtr_k                 10\n",
       "stn_diur_temp_rng_c          41\n",
       "re_an_relative_hd_percent    36\n",
       "dtype: int64"
      ]
     },
     "execution_count": 21,
     "metadata": {},
     "output_type": "execute_result"
    }
   ],
   "source": [
    "std_dataset.isnull().sum()"
   ]
  },
  {
   "cell_type": "code",
   "execution_count": 22,
   "metadata": {},
   "outputs": [
    {
     "name": "stdout",
     "output_type": "stream",
     "text": [
      "<class 'pandas.core.frame.DataFrame'>\n",
      "RangeIndex: 1429 entries, 0 to 1428\n",
      "Data columns (total 6 columns):\n",
      "re_an_air_temp_k             1429 non-null float64\n",
      "re_an_max_air_temp_k         1429 non-null float64\n",
      "re_an_min_air_temp_k         1429 non-null float64\n",
      "re_an_tdtr_k                 1429 non-null float64\n",
      "stn_diur_temp_rng_c          1429 non-null float64\n",
      "re_an_relative_hd_percent    1429 non-null float64\n",
      "dtypes: float64(6)\n",
      "memory usage: 67.1 KB\n"
     ]
    }
   ],
   "source": [
    "std_dataset = std_dataset.fillna(std_dataset.mean())\n",
    "std_dataset.info()"
   ]
  },
  {
   "cell_type": "code",
   "execution_count": 23,
   "metadata": {},
   "outputs": [],
   "source": [
    "# extract categorical and target columns\n",
    "cat_dataset= current_dataset[['city','Jan_Apr','May_Aug','Sep_Dec','ndvi_sw','ndvi_se','ndvi_nw','ndvi_ne','total_cases']]\n",
    "#setting the same index for numeraical and categorical dataframe \n",
    "cat_dataset.index = std_dataset.index"
   ]
  },
  {
   "cell_type": "code",
   "execution_count": 24,
   "metadata": {
    "scrolled": true
   },
   "outputs": [
    {
     "name": "stdout",
     "output_type": "stream",
     "text": [
      "<class 'pandas.core.frame.DataFrame'>\n",
      "RangeIndex: 1429 entries, 0 to 1428\n",
      "Data columns (total 15 columns):\n",
      "re_an_air_temp_k             1429 non-null float64\n",
      "re_an_max_air_temp_k         1429 non-null float64\n",
      "re_an_min_air_temp_k         1429 non-null float64\n",
      "re_an_tdtr_k                 1429 non-null float64\n",
      "stn_diur_temp_rng_c          1429 non-null float64\n",
      "re_an_relative_hd_percent    1429 non-null float64\n",
      "city                         1429 non-null category\n",
      "Jan_Apr                      1429 non-null category\n",
      "May_Aug                      1429 non-null category\n",
      "Sep_Dec                      1429 non-null category\n",
      "ndvi_sw                      1429 non-null category\n",
      "ndvi_se                      1429 non-null category\n",
      "ndvi_nw                      1429 non-null category\n",
      "ndvi_ne                      1429 non-null category\n",
      "total_cases                  1429 non-null int64\n",
      "dtypes: category(8), float64(6), int64(1)\n",
      "memory usage: 90.2 KB\n"
     ]
    }
   ],
   "source": [
    "#concat the numerical, categorical and target attributes after transformations\n",
    "final_df = pd.concat([std_dataset,cat_dataset],axis=1)\n",
    "final_df.info()"
   ]
  },
  {
   "cell_type": "markdown",
   "metadata": {},
   "source": [
    "#### splitting the data"
   ]
  },
  {
   "cell_type": "markdown",
   "metadata": {},
   "source": [
    "Implemented the startified splitting to maintain the ratio of records for both the cities."
   ]
  },
  {
   "cell_type": "code",
   "execution_count": 25,
   "metadata": {},
   "outputs": [],
   "source": [
    "#performing stratified split on city to maintain the ratio of records for city sj and iq in train and test dataset\n",
    "split = StratifiedShuffleSplit(n_splits=1,test_size=0.2,random_state=42)\n",
    "for train_index, test_index in split.split(final_df,final_df[\"city\"]):\n",
    "    strat_train_set = final_df.loc[train_index]\n",
    "    strat_test_set = final_df.loc[test_index]"
   ]
  },
  {
   "cell_type": "code",
   "execution_count": 26,
   "metadata": {},
   "outputs": [
    {
     "name": "stdout",
     "output_type": "stream",
     "text": [
      "1    0.641295\n",
      "0    0.358705\n",
      "Name: city, dtype: float64\n",
      "1    0.63986\n",
      "0    0.36014\n",
      "Name: city, dtype: float64\n"
     ]
    }
   ],
   "source": [
    "#verifying the ratio \n",
    "print(strat_train_set[\"city\"].value_counts()/len(strat_train_set)) \n",
    "print(strat_test_set[\"city\"].value_counts()/len(strat_test_set)) "
   ]
  },
  {
   "cell_type": "code",
   "execution_count": 27,
   "metadata": {},
   "outputs": [
    {
     "name": "stdout",
     "output_type": "stream",
     "text": [
      "train : (1143, 14)\n",
      "train_target : (1143,)\n",
      "test : (286, 14)\n",
      "test_target : (286,)\n"
     ]
    }
   ],
   "source": [
    "# drop the target coulmn and create a target variable dataframe separately\n",
    "train = strat_train_set.drop(\"total_cases\", axis = 1)\n",
    "train_target = strat_train_set[\"total_cases\"].copy()\n",
    "test = strat_test_set.drop(\"total_cases\", axis = 1)\n",
    "test_target = strat_test_set[\"total_cases\"].copy()\n",
    "print(\"train :\",train.shape)\n",
    "print(\"train_target :\",train_target.shape)\n",
    "print(\"test :\",test.shape)\n",
    "print(\"test_target :\",test_target.shape)"
   ]
  },
  {
   "cell_type": "markdown",
   "metadata": {},
   "source": [
    "#### Train the Model"
   ]
  },
  {
   "cell_type": "markdown",
   "metadata": {},
   "source": [
    "3. Optional: Build a Neural Network Multi-Layer Perceptron Regressor model (you can use sklearn neural network MLP Regressor)"
   ]
  },
  {
   "cell_type": "code",
   "execution_count": 28,
   "metadata": {
    "scrolled": true
   },
   "outputs": [
    {
     "name": "stderr",
     "output_type": "stream",
     "text": [
      "C:\\Users\\ankit\\AppData\\Roaming\\Python\\Python37\\site-packages\\sklearn\\neural_network\\_multilayer_perceptron.py:571: ConvergenceWarning: Stochastic Optimizer: Maximum iterations (200) reached and the optimization hasn't converged yet.\n",
      "  % self.max_iter, ConvergenceWarning)\n"
     ]
    },
    {
     "data": {
      "text/plain": [
       "MLPRegressor(activation='relu', alpha=0.0001, batch_size='auto', beta_1=0.9,\n",
       "             beta_2=0.999, early_stopping=False, epsilon=1e-08,\n",
       "             hidden_layer_sizes=(100,), learning_rate='constant',\n",
       "             learning_rate_init=0.001, max_fun=15000, max_iter=200,\n",
       "             momentum=0.9, n_iter_no_change=10, nesterovs_momentum=True,\n",
       "             power_t=0.5, random_state=None, shuffle=True, solver='adam',\n",
       "             tol=0.0001, validation_fraction=0.1, verbose=False,\n",
       "             warm_start=False)"
      ]
     },
     "execution_count": 28,
     "metadata": {},
     "output_type": "execute_result"
    }
   ],
   "source": [
    "mlp_reg = MLPRegressor()\n",
    "#     hidden_layer_sizes=(200,100,50), activation='relu',max_iter=100, early_stopping=True,\n",
    "#                        solver='sgd')\n",
    "mlp_reg.fit(train,train_target)"
   ]
  },
  {
   "cell_type": "markdown",
   "metadata": {},
   "source": [
    "#### Fine-tuning the model"
   ]
  },
  {
   "cell_type": "markdown",
   "metadata": {},
   "source": [
    "I have used grid search to find out the best set of hyperparameters for this model."
   ]
  },
  {
   "cell_type": "code",
   "execution_count": 29,
   "metadata": {
    "scrolled": false
   },
   "outputs": [],
   "source": [
    "# from sklearn.model_selection import GridSearchCV\n",
    "# param_grid_LinearSVR = [\n",
    "#         {\"hidden_layer_sizes\" : [(200,),(200,100,50),(200,100),(100,80,50,20) ],\n",
    "#          \"activation\" : ['relu','tanh','identity','logistic'],\n",
    "#        \"solver\" : ['sgd','adam']\n",
    "#           }]\n",
    "# # \n",
    "# #\"max_iter\" :[10,50,100]\n",
    "# grid1 = GridSearchCV(mlp_reg, param_grid_LinearSVR,scoring = \"neg_mean_absolute_error\",\n",
    "#                     return_train_score= True)\n",
    "# grid1.fit(train,train_target) "
   ]
  },
  {
   "cell_type": "code",
   "execution_count": 30,
   "metadata": {},
   "outputs": [],
   "source": [
    "# # summarize the results of the grid search\n",
    "# print(grid1.best_score_)\n",
    "# print(grid1.best_params_)"
   ]
  },
  {
   "cell_type": "code",
   "execution_count": 31,
   "metadata": {
    "scrolled": true
   },
   "outputs": [
    {
     "name": "stderr",
     "output_type": "stream",
     "text": [
      "C:\\Users\\ankit\\AppData\\Roaming\\Python\\Python37\\site-packages\\sklearn\\neural_network\\_multilayer_perceptron.py:571: ConvergenceWarning: Stochastic Optimizer: Maximum iterations (200) reached and the optimization hasn't converged yet.\n",
      "  % self.max_iter, ConvergenceWarning)\n"
     ]
    },
    {
     "data": {
      "text/plain": [
       "MLPRegressor(activation='tanh', alpha=0.0001, batch_size='auto', beta_1=0.9,\n",
       "             beta_2=0.999, early_stopping=False, epsilon=1e-08,\n",
       "             hidden_layer_sizes=(200,), learning_rate='constant',\n",
       "             learning_rate_init=0.001, max_fun=15000, max_iter=200,\n",
       "             momentum=0.9, n_iter_no_change=10, nesterovs_momentum=True,\n",
       "             power_t=0.5, random_state=140, shuffle=True, solver='sgd',\n",
       "             tol=0.0001, validation_fraction=0.1, verbose=False,\n",
       "             warm_start=False)"
      ]
     },
     "execution_count": 31,
     "metadata": {},
     "output_type": "execute_result"
    }
   ],
   "source": [
    "mlp_reg = MLPRegressor( hidden_layer_sizes=(200,), activation='tanh',\n",
    "                       solver='sgd',random_state=140)\n",
    "mlp_reg.fit(train,train_target)"
   ]
  },
  {
   "cell_type": "code",
   "execution_count": 32,
   "metadata": {
    "scrolled": false
   },
   "outputs": [
    {
     "name": "stdout",
     "output_type": "stream",
     "text": [
      "mean absolute error: 13.798104404705644\n"
     ]
    }
   ],
   "source": [
    "# predictions on test data\n",
    "dengue_predictions_mlp_reg =  mlp_reg.predict(test)\n",
    "mlp_reg_mae = mean_absolute_error(test_target,dengue_predictions_mlp_reg)\n",
    "print(\"mean absolute error:\",mlp_reg_mae)"
   ]
  },
  {
   "cell_type": "markdown",
   "metadata": {},
   "source": [
    "4. Optional: Evaluate the model and compare it with the previous three assignments"
   ]
  },
  {
   "cell_type": "markdown",
   "metadata": {},
   "source": [
    "On tuning the hyperparameters of the MLP Regressor model, there is slight decrease in MAE.\n",
    "\n",
    "The best MAE received from 3 models are below on test:-\n",
    "\n",
    "SGD - 15.85\n",
    "\n",
    "Linear SVR - 14.799\n",
    "\n",
    "SVR with Linear Kernel - 14.785\n",
    "\n",
    "**MLP Regressor - 13.79**\n",
    "\n",
    "MLP Regressor model worked better than other models used in our analysis.In this model we have 3 layers, input layer, hidden layer of 200 nodes and an output layer. Since, we only have 1143 data points to train using more hidden layers makes the complex and doesn't improve on results.The activation function used is tanh.The range of the tanh function is from (-1 to 1). sgd (stochastic gradient descent) is used for weight optimization."
   ]
  },
  {
   "cell_type": "markdown",
   "metadata": {},
   "source": [
    "5. Add a new column called 'above_average' with value 1 or 0. 1 if the total_cases > median of total_cases"
   ]
  },
  {
   "cell_type": "code",
   "execution_count": 33,
   "metadata": {},
   "outputs": [],
   "source": [
    "final_df['above_average'] = [1 if x >=final_df[\"total_cases\"].median() else 0 for x in final_df['total_cases']] "
   ]
  },
  {
   "cell_type": "code",
   "execution_count": 34,
   "metadata": {},
   "outputs": [
    {
     "name": "stdout",
     "output_type": "stream",
     "text": [
      "Median of total cases: 11.0\n"
     ]
    },
    {
     "data": {
      "text/html": [
       "<div>\n",
       "<style scoped>\n",
       "    .dataframe tbody tr th:only-of-type {\n",
       "        vertical-align: middle;\n",
       "    }\n",
       "\n",
       "    .dataframe tbody tr th {\n",
       "        vertical-align: top;\n",
       "    }\n",
       "\n",
       "    .dataframe thead th {\n",
       "        text-align: right;\n",
       "    }\n",
       "</style>\n",
       "<table border=\"1\" class=\"dataframe\">\n",
       "  <thead>\n",
       "    <tr style=\"text-align: right;\">\n",
       "      <th></th>\n",
       "      <th>re_an_air_temp_k</th>\n",
       "      <th>re_an_max_air_temp_k</th>\n",
       "      <th>re_an_min_air_temp_k</th>\n",
       "      <th>re_an_tdtr_k</th>\n",
       "      <th>stn_diur_temp_rng_c</th>\n",
       "      <th>re_an_relative_hd_percent</th>\n",
       "      <th>city</th>\n",
       "      <th>Jan_Apr</th>\n",
       "      <th>May_Aug</th>\n",
       "      <th>Sep_Dec</th>\n",
       "      <th>ndvi_sw</th>\n",
       "      <th>ndvi_se</th>\n",
       "      <th>ndvi_nw</th>\n",
       "      <th>ndvi_ne</th>\n",
       "      <th>total_cases</th>\n",
       "      <th>above_average</th>\n",
       "    </tr>\n",
       "  </thead>\n",
       "  <tbody>\n",
       "    <tr>\n",
       "      <td>0</td>\n",
       "      <td>-1.429226</td>\n",
       "      <td>1.195519</td>\n",
       "      <td>-1.012560</td>\n",
       "      <td>1.129120</td>\n",
       "      <td>1.265491</td>\n",
       "      <td>0.733657</td>\n",
       "      <td>0</td>\n",
       "      <td>0</td>\n",
       "      <td>1</td>\n",
       "      <td>0</td>\n",
       "      <td>0</td>\n",
       "      <td>1</td>\n",
       "      <td>0</td>\n",
       "      <td>0</td>\n",
       "      <td>0</td>\n",
       "      <td>0</td>\n",
       "    </tr>\n",
       "    <tr>\n",
       "      <td>1</td>\n",
       "      <td>-1.506709</td>\n",
       "      <td>0.979471</td>\n",
       "      <td>-1.791536</td>\n",
       "      <td>1.519524</td>\n",
       "      <td>1.636138</td>\n",
       "      <td>0.773686</td>\n",
       "      <td>0</td>\n",
       "      <td>0</td>\n",
       "      <td>1</td>\n",
       "      <td>0</td>\n",
       "      <td>0</td>\n",
       "      <td>1</td>\n",
       "      <td>0</td>\n",
       "      <td>0</td>\n",
       "      <td>0</td>\n",
       "      <td>0</td>\n",
       "    </tr>\n",
       "    <tr>\n",
       "      <td>2</td>\n",
       "      <td>-1.666911</td>\n",
       "      <td>0.331326</td>\n",
       "      <td>-1.207304</td>\n",
       "      <td>0.694444</td>\n",
       "      <td>1.589319</td>\n",
       "      <td>0.820529</td>\n",
       "      <td>0</td>\n",
       "      <td>0</td>\n",
       "      <td>1</td>\n",
       "      <td>0</td>\n",
       "      <td>0</td>\n",
       "      <td>0</td>\n",
       "      <td>0</td>\n",
       "      <td>0</td>\n",
       "      <td>0</td>\n",
       "      <td>0</td>\n",
       "    </tr>\n",
       "    <tr>\n",
       "      <td>3</td>\n",
       "      <td>-2.442789</td>\n",
       "      <td>0.053550</td>\n",
       "      <td>-2.765257</td>\n",
       "      <td>1.181442</td>\n",
       "      <td>1.152347</td>\n",
       "      <td>0.803371</td>\n",
       "      <td>0</td>\n",
       "      <td>0</td>\n",
       "      <td>1</td>\n",
       "      <td>0</td>\n",
       "      <td>0</td>\n",
       "      <td>1</td>\n",
       "      <td>0</td>\n",
       "      <td>0</td>\n",
       "      <td>0</td>\n",
       "      <td>0</td>\n",
       "    </tr>\n",
       "    <tr>\n",
       "      <td>4</td>\n",
       "      <td>-1.654346</td>\n",
       "      <td>1.102927</td>\n",
       "      <td>-1.635741</td>\n",
       "      <td>1.290111</td>\n",
       "      <td>1.595562</td>\n",
       "      <td>0.804600</td>\n",
       "      <td>0</td>\n",
       "      <td>0</td>\n",
       "      <td>1</td>\n",
       "      <td>0</td>\n",
       "      <td>1</td>\n",
       "      <td>1</td>\n",
       "      <td>1</td>\n",
       "      <td>1</td>\n",
       "      <td>0</td>\n",
       "      <td>0</td>\n",
       "    </tr>\n",
       "  </tbody>\n",
       "</table>\n",
       "</div>"
      ],
      "text/plain": [
       "   re_an_air_temp_k  re_an_max_air_temp_k  re_an_min_air_temp_k  re_an_tdtr_k  \\\n",
       "0         -1.429226              1.195519             -1.012560      1.129120   \n",
       "1         -1.506709              0.979471             -1.791536      1.519524   \n",
       "2         -1.666911              0.331326             -1.207304      0.694444   \n",
       "3         -2.442789              0.053550             -2.765257      1.181442   \n",
       "4         -1.654346              1.102927             -1.635741      1.290111   \n",
       "\n",
       "   stn_diur_temp_rng_c  re_an_relative_hd_percent city Jan_Apr May_Aug  \\\n",
       "0             1.265491                   0.733657    0       0       1   \n",
       "1             1.636138                   0.773686    0       0       1   \n",
       "2             1.589319                   0.820529    0       0       1   \n",
       "3             1.152347                   0.803371    0       0       1   \n",
       "4             1.595562                   0.804600    0       0       1   \n",
       "\n",
       "  Sep_Dec ndvi_sw ndvi_se ndvi_nw ndvi_ne  total_cases  above_average  \n",
       "0       0       0       1       0       0            0              0  \n",
       "1       0       0       1       0       0            0              0  \n",
       "2       0       0       0       0       0            0              0  \n",
       "3       0       0       1       0       0            0              0  \n",
       "4       0       1       1       1       1            0              0  "
      ]
     },
     "execution_count": 34,
     "metadata": {},
     "output_type": "execute_result"
    }
   ],
   "source": [
    "print(\"Median of total cases:\",final_df['total_cases'].median())\n",
    "final_df.head()"
   ]
  },
  {
   "cell_type": "markdown",
   "metadata": {},
   "source": [
    "6. Build a Neural Network MLP Classifier on the 'above_average' column with 80/20 train/test split"
   ]
  },
  {
   "cell_type": "code",
   "execution_count": 35,
   "metadata": {},
   "outputs": [],
   "source": [
    "#performing stratified split on city to maintain the ratio of records for city sj and iq in train and test dataset\n",
    "split = StratifiedShuffleSplit(n_splits=1,test_size=0.2,random_state=42)\n",
    "for train_index, test_index in split.split(final_df,final_df[\"city\"]):\n",
    "    strat_train_set = final_df.loc[train_index]\n",
    "    strat_test_set = final_df.loc[test_index]"
   ]
  },
  {
   "cell_type": "code",
   "execution_count": 36,
   "metadata": {},
   "outputs": [
    {
     "name": "stdout",
     "output_type": "stream",
     "text": [
      "1    0.641295\n",
      "0    0.358705\n",
      "Name: city, dtype: float64\n",
      "1    0.63986\n",
      "0    0.36014\n",
      "Name: city, dtype: float64\n"
     ]
    }
   ],
   "source": [
    "#verifying the ratio \n",
    "print(strat_train_set[\"city\"].value_counts()/len(strat_train_set)) \n",
    "print(strat_test_set[\"city\"].value_counts()/len(strat_test_set)) "
   ]
  },
  {
   "cell_type": "code",
   "execution_count": 37,
   "metadata": {
    "scrolled": true
   },
   "outputs": [
    {
     "name": "stdout",
     "output_type": "stream",
     "text": [
      "train : (1143, 14)\n",
      "train_target : (1143,)\n",
      "test : (286, 14)\n",
      "test_target : (286,)\n"
     ]
    }
   ],
   "source": [
    "# drop the target coulmn and create a target variable dataframe separately\n",
    "train = strat_train_set.drop([\"total_cases\",\"above_average\"], axis = 1)\n",
    "train_target = strat_train_set[\"above_average\"].copy()\n",
    "test = strat_test_set.drop([\"total_cases\",\"above_average\"], axis = 1)\n",
    "test_target = strat_test_set[\"above_average\"].copy()\n",
    "print(\"train :\",train.shape)\n",
    "print(\"train_target :\",train_target.shape)\n",
    "print(\"test :\",test.shape)\n",
    "print(\"test_target :\",test_target.shape)"
   ]
  },
  {
   "cell_type": "markdown",
   "metadata": {},
   "source": [
    "Using the set of hyperparameters that resulted in least MAE achieved from hit and trial"
   ]
  },
  {
   "cell_type": "code",
   "execution_count": 38,
   "metadata": {
    "scrolled": false
   },
   "outputs": [
    {
     "name": "stderr",
     "output_type": "stream",
     "text": [
      "C:\\Users\\ankit\\AppData\\Roaming\\Python\\Python37\\site-packages\\sklearn\\neural_network\\_multilayer_perceptron.py:571: ConvergenceWarning: Stochastic Optimizer: Maximum iterations (1000) reached and the optimization hasn't converged yet.\n",
      "  % self.max_iter, ConvergenceWarning)\n"
     ]
    },
    {
     "data": {
      "text/plain": [
       "MLPClassifier(activation='relu', alpha=0.0001, batch_size='auto', beta_1=0.9,\n",
       "              beta_2=0.999, early_stopping=False, epsilon=1e-08,\n",
       "              hidden_layer_sizes=(200, 100, 80), learning_rate='constant',\n",
       "              learning_rate_init=0.001, max_fun=15000, max_iter=1000,\n",
       "              momentum=0.9, n_iter_no_change=10, nesterovs_momentum=True,\n",
       "              power_t=0.5, random_state=42, shuffle=True, solver='sgd',\n",
       "              tol=0.0001, validation_fraction=0.1, verbose=False,\n",
       "              warm_start=False)"
      ]
     },
     "execution_count": 38,
     "metadata": {},
     "output_type": "execute_result"
    }
   ],
   "source": [
    "mlp_clf = MLPClassifier(hidden_layer_sizes=(200,100,80,),max_iter=1000,activation='relu',solver='sgd',\n",
    "                        random_state=42)\n",
    "\n",
    "mlp_clf.fit(train, train_target)"
   ]
  },
  {
   "cell_type": "code",
   "execution_count": 39,
   "metadata": {},
   "outputs": [],
   "source": [
    "y_pred = mlp_clf.predict(test)"
   ]
  },
  {
   "cell_type": "code",
   "execution_count": 40,
   "metadata": {},
   "outputs": [
    {
     "data": {
      "text/plain": [
       "array([[103,  39],\n",
       "       [ 24, 120]], dtype=int64)"
      ]
     },
     "execution_count": 40,
     "metadata": {},
     "output_type": "execute_result"
    }
   ],
   "source": [
    "from sklearn.metrics import confusion_matrix\n",
    "\n",
    "confusion_matrix(test_target, y_pred)"
   ]
  },
  {
   "cell_type": "markdown",
   "metadata": {},
   "source": [
    "From above confusion matrix we can infer that-\n",
    "\n",
    "* The model has correctly classified 103 data points for which the total cases were below the median of all total cases and 120 data points for which the total cases were above the median of all the total cases.\n",
    "\n",
    "\n",
    "* The model misclassified 24 records as total cases above median of total cases when it is below actually and misclassified 39 data points as total cases below median of total cases when it is above actually."
   ]
  },
  {
   "cell_type": "code",
   "execution_count": 41,
   "metadata": {},
   "outputs": [
    {
     "name": "stdout",
     "output_type": "stream",
     "text": [
      "0.7797202797202797\n"
     ]
    }
   ],
   "source": [
    "from sklearn.metrics import accuracy_score\n",
    "print(accuracy_score(test_target, y_pred))"
   ]
  },
  {
   "cell_type": "code",
   "execution_count": 42,
   "metadata": {
    "scrolled": false
   },
   "outputs": [
    {
     "name": "stdout",
     "output_type": "stream",
     "text": [
      "              precision    recall  f1-score   support\n",
      "\n",
      "           0       0.81      0.73      0.77       142\n",
      "           1       0.75      0.83      0.79       144\n",
      "\n",
      "    accuracy                           0.78       286\n",
      "   macro avg       0.78      0.78      0.78       286\n",
      "weighted avg       0.78      0.78      0.78       286\n",
      "\n"
     ]
    }
   ],
   "source": [
    "from sklearn.metrics import classification_report\n",
    "print(classification_report(test_target, y_pred))"
   ]
  },
  {
   "cell_type": "markdown",
   "metadata": {},
   "source": [
    "7. Explain the meaning of Precision, Recall and F1-Score and why these are used to evaluate Classification models (instead of using Accuracy as a metric). Evaluate the classifier using Precision, Recall and F1 score values"
   ]
  },
  {
   "cell_type": "markdown",
   "metadata": {},
   "source": [
    "**Precision-** \n",
    "\n",
    "*Precision = TP/TP+FP*\n",
    "\n",
    "Precision is the ratio of correctly predicted positive observations to the total predicted positive observations.This metric helps to answer that out of all the cases labeled as above average, how many actually is above average.High precision relates to the low false positive rate.\n",
    "\n",
    "**Recall-** \n",
    "\n",
    "*Recall = TP/TP+FN*\n",
    "\n",
    "Recall is the ratio of correctly predicted positive observations to the all observations in actual true positive. Recall helps to understand of all the total_cases records that were above average how many did we labeled correctly.\n",
    "\n",
    "**F1-Score-**\n",
    "\n",
    "*F1 = 2 * (precision * recall) / (precision + recall)*\n",
    "\n",
    "F1 Score is the weighted average of both Precision and Recall.\n",
    "These metrics are used to evaluate classification models instead of accuracy because accuracy might include huge contribution of true negatives when there is uneven class distribution in the dataset while these metrics focuses on both false positives and false negatives.\n",
    "\n",
    "\n",
    "\n",
    "**As per the classification report of our model-**\n",
    "\n",
    "* The precision achieved for class 0 is better than class 1 and vice versa for recall.\n",
    "\n",
    "\n",
    "* The precision for our model is 0.78 i.e 78% of the data points were correctly classified.\n",
    "\n",
    "\n",
    "* The recall for our model is 0.78 i.e. 78% of the data points were correctly predicted of all the observed points actually in a particular class.\n",
    "\n",
    "\n",
    "* The weighted average of both precision and recall i.e. F1 score is 78%."
   ]
  },
  {
   "cell_type": "markdown",
   "metadata": {},
   "source": [
    "## Perform the same analysis on dengue_features_test and create submission file"
   ]
  },
  {
   "cell_type": "code",
   "execution_count": 43,
   "metadata": {
    "scrolled": true
   },
   "outputs": [
    {
     "name": "stdout",
     "output_type": "stream",
     "text": [
      "(416, 24)\n"
     ]
    },
    {
     "data": {
      "text/html": [
       "<div>\n",
       "<style scoped>\n",
       "    .dataframe tbody tr th:only-of-type {\n",
       "        vertical-align: middle;\n",
       "    }\n",
       "\n",
       "    .dataframe tbody tr th {\n",
       "        vertical-align: top;\n",
       "    }\n",
       "\n",
       "    .dataframe thead th {\n",
       "        text-align: right;\n",
       "    }\n",
       "</style>\n",
       "<table border=\"1\" class=\"dataframe\">\n",
       "  <thead>\n",
       "    <tr style=\"text-align: right;\">\n",
       "      <th></th>\n",
       "      <th>city</th>\n",
       "      <th>year</th>\n",
       "      <th>weekofyear</th>\n",
       "      <th>week_start_date</th>\n",
       "      <th>ndvi_ne</th>\n",
       "      <th>ndvi_nw</th>\n",
       "      <th>ndvi_se</th>\n",
       "      <th>ndvi_sw</th>\n",
       "      <th>precipitation_amt_mm</th>\n",
       "      <th>reanalysis_air_temp_k</th>\n",
       "      <th>...</th>\n",
       "      <th>reanalysis_precip_amt_kg_per_m2</th>\n",
       "      <th>reanalysis_relative_humidity_percent</th>\n",
       "      <th>reanalysis_sat_precip_amt_mm</th>\n",
       "      <th>reanalysis_specific_humidity_g_per_kg</th>\n",
       "      <th>reanalysis_tdtr_k</th>\n",
       "      <th>station_avg_temp_c</th>\n",
       "      <th>station_diur_temp_rng_c</th>\n",
       "      <th>station_max_temp_c</th>\n",
       "      <th>station_min_temp_c</th>\n",
       "      <th>station_precip_mm</th>\n",
       "    </tr>\n",
       "  </thead>\n",
       "  <tbody>\n",
       "    <tr>\n",
       "      <td>0</td>\n",
       "      <td>sj</td>\n",
       "      <td>2008</td>\n",
       "      <td>18</td>\n",
       "      <td>2008-04-29</td>\n",
       "      <td>-0.0189</td>\n",
       "      <td>-0.018900</td>\n",
       "      <td>0.102729</td>\n",
       "      <td>0.091200</td>\n",
       "      <td>78.60</td>\n",
       "      <td>298.492857</td>\n",
       "      <td>...</td>\n",
       "      <td>25.37</td>\n",
       "      <td>78.781429</td>\n",
       "      <td>78.60</td>\n",
       "      <td>15.918571</td>\n",
       "      <td>3.128571</td>\n",
       "      <td>26.528571</td>\n",
       "      <td>7.057143</td>\n",
       "      <td>33.3</td>\n",
       "      <td>21.7</td>\n",
       "      <td>75.2</td>\n",
       "    </tr>\n",
       "    <tr>\n",
       "      <td>1</td>\n",
       "      <td>sj</td>\n",
       "      <td>2008</td>\n",
       "      <td>19</td>\n",
       "      <td>2008-05-06</td>\n",
       "      <td>-0.0180</td>\n",
       "      <td>-0.012400</td>\n",
       "      <td>0.082043</td>\n",
       "      <td>0.072314</td>\n",
       "      <td>12.56</td>\n",
       "      <td>298.475714</td>\n",
       "      <td>...</td>\n",
       "      <td>21.83</td>\n",
       "      <td>78.230000</td>\n",
       "      <td>12.56</td>\n",
       "      <td>15.791429</td>\n",
       "      <td>2.571429</td>\n",
       "      <td>26.071429</td>\n",
       "      <td>5.557143</td>\n",
       "      <td>30.0</td>\n",
       "      <td>22.2</td>\n",
       "      <td>34.3</td>\n",
       "    </tr>\n",
       "    <tr>\n",
       "      <td>2</td>\n",
       "      <td>sj</td>\n",
       "      <td>2008</td>\n",
       "      <td>20</td>\n",
       "      <td>2008-05-13</td>\n",
       "      <td>-0.0015</td>\n",
       "      <td>NaN</td>\n",
       "      <td>0.151083</td>\n",
       "      <td>0.091529</td>\n",
       "      <td>3.66</td>\n",
       "      <td>299.455714</td>\n",
       "      <td>...</td>\n",
       "      <td>4.12</td>\n",
       "      <td>78.270000</td>\n",
       "      <td>3.66</td>\n",
       "      <td>16.674286</td>\n",
       "      <td>4.428571</td>\n",
       "      <td>27.928571</td>\n",
       "      <td>7.785714</td>\n",
       "      <td>32.8</td>\n",
       "      <td>22.8</td>\n",
       "      <td>3.0</td>\n",
       "    </tr>\n",
       "    <tr>\n",
       "      <td>3</td>\n",
       "      <td>sj</td>\n",
       "      <td>2008</td>\n",
       "      <td>21</td>\n",
       "      <td>2008-05-20</td>\n",
       "      <td>NaN</td>\n",
       "      <td>-0.019867</td>\n",
       "      <td>0.124329</td>\n",
       "      <td>0.125686</td>\n",
       "      <td>0.00</td>\n",
       "      <td>299.690000</td>\n",
       "      <td>...</td>\n",
       "      <td>2.20</td>\n",
       "      <td>73.015714</td>\n",
       "      <td>0.00</td>\n",
       "      <td>15.775714</td>\n",
       "      <td>4.342857</td>\n",
       "      <td>28.057143</td>\n",
       "      <td>6.271429</td>\n",
       "      <td>33.3</td>\n",
       "      <td>24.4</td>\n",
       "      <td>0.3</td>\n",
       "    </tr>\n",
       "    <tr>\n",
       "      <td>4</td>\n",
       "      <td>sj</td>\n",
       "      <td>2008</td>\n",
       "      <td>22</td>\n",
       "      <td>2008-05-27</td>\n",
       "      <td>0.0568</td>\n",
       "      <td>0.039833</td>\n",
       "      <td>0.062267</td>\n",
       "      <td>0.075914</td>\n",
       "      <td>0.76</td>\n",
       "      <td>299.780000</td>\n",
       "      <td>...</td>\n",
       "      <td>4.36</td>\n",
       "      <td>74.084286</td>\n",
       "      <td>0.76</td>\n",
       "      <td>16.137143</td>\n",
       "      <td>3.542857</td>\n",
       "      <td>27.614286</td>\n",
       "      <td>7.085714</td>\n",
       "      <td>33.3</td>\n",
       "      <td>23.3</td>\n",
       "      <td>84.1</td>\n",
       "    </tr>\n",
       "  </tbody>\n",
       "</table>\n",
       "<p>5 rows × 24 columns</p>\n",
       "</div>"
      ],
      "text/plain": [
       "  city  year  weekofyear week_start_date  ndvi_ne   ndvi_nw   ndvi_se  \\\n",
       "0   sj  2008          18      2008-04-29  -0.0189 -0.018900  0.102729   \n",
       "1   sj  2008          19      2008-05-06  -0.0180 -0.012400  0.082043   \n",
       "2   sj  2008          20      2008-05-13  -0.0015       NaN  0.151083   \n",
       "3   sj  2008          21      2008-05-20      NaN -0.019867  0.124329   \n",
       "4   sj  2008          22      2008-05-27   0.0568  0.039833  0.062267   \n",
       "\n",
       "    ndvi_sw  precipitation_amt_mm  reanalysis_air_temp_k  ...  \\\n",
       "0  0.091200                 78.60             298.492857  ...   \n",
       "1  0.072314                 12.56             298.475714  ...   \n",
       "2  0.091529                  3.66             299.455714  ...   \n",
       "3  0.125686                  0.00             299.690000  ...   \n",
       "4  0.075914                  0.76             299.780000  ...   \n",
       "\n",
       "   reanalysis_precip_amt_kg_per_m2  reanalysis_relative_humidity_percent  \\\n",
       "0                            25.37                             78.781429   \n",
       "1                            21.83                             78.230000   \n",
       "2                             4.12                             78.270000   \n",
       "3                             2.20                             73.015714   \n",
       "4                             4.36                             74.084286   \n",
       "\n",
       "   reanalysis_sat_precip_amt_mm  reanalysis_specific_humidity_g_per_kg  \\\n",
       "0                         78.60                              15.918571   \n",
       "1                         12.56                              15.791429   \n",
       "2                          3.66                              16.674286   \n",
       "3                          0.00                              15.775714   \n",
       "4                          0.76                              16.137143   \n",
       "\n",
       "   reanalysis_tdtr_k  station_avg_temp_c  station_diur_temp_rng_c  \\\n",
       "0           3.128571           26.528571                 7.057143   \n",
       "1           2.571429           26.071429                 5.557143   \n",
       "2           4.428571           27.928571                 7.785714   \n",
       "3           4.342857           28.057143                 6.271429   \n",
       "4           3.542857           27.614286                 7.085714   \n",
       "\n",
       "   station_max_temp_c  station_min_temp_c  station_precip_mm  \n",
       "0                33.3                21.7               75.2  \n",
       "1                30.0                22.2               34.3  \n",
       "2                32.8                22.8                3.0  \n",
       "3                33.3                24.4                0.3  \n",
       "4                33.3                23.3               84.1  \n",
       "\n",
       "[5 rows x 24 columns]"
      ]
     },
     "execution_count": 43,
     "metadata": {},
     "output_type": "execute_result"
    }
   ],
   "source": [
    "dengue_features_test = pd.read_csv(\"dengue_features_test.csv\")\n",
    "print(dengue_features_test.shape)\n",
    "dengue_features_test.head()"
   ]
  },
  {
   "cell_type": "code",
   "execution_count": 44,
   "metadata": {},
   "outputs": [
    {
     "data": {
      "text/html": [
       "<div>\n",
       "<style scoped>\n",
       "    .dataframe tbody tr th:only-of-type {\n",
       "        vertical-align: middle;\n",
       "    }\n",
       "\n",
       "    .dataframe tbody tr th {\n",
       "        vertical-align: top;\n",
       "    }\n",
       "\n",
       "    .dataframe thead th {\n",
       "        text-align: right;\n",
       "    }\n",
       "</style>\n",
       "<table border=\"1\" class=\"dataframe\">\n",
       "  <thead>\n",
       "    <tr style=\"text-align: right;\">\n",
       "      <th></th>\n",
       "      <th>city</th>\n",
       "      <th>week_start_date</th>\n",
       "      <th>ndvi_ne</th>\n",
       "      <th>ndvi_nw</th>\n",
       "      <th>ndvi_se</th>\n",
       "      <th>ndvi_sw</th>\n",
       "      <th>reanalysis_air_temp_k</th>\n",
       "      <th>reanalysis_max_air_temp_k</th>\n",
       "      <th>reanalysis_min_air_temp_k</th>\n",
       "      <th>reanalysis_relative_humidity_percent</th>\n",
       "      <th>reanalysis_tdtr_k</th>\n",
       "      <th>station_diur_temp_rng_c</th>\n",
       "    </tr>\n",
       "  </thead>\n",
       "  <tbody>\n",
       "    <tr>\n",
       "      <td>0</td>\n",
       "      <td>sj</td>\n",
       "      <td>2008-04-29</td>\n",
       "      <td>-0.0189</td>\n",
       "      <td>-0.018900</td>\n",
       "      <td>0.102729</td>\n",
       "      <td>0.091200</td>\n",
       "      <td>298.492857</td>\n",
       "      <td>301.1</td>\n",
       "      <td>296.4</td>\n",
       "      <td>78.781429</td>\n",
       "      <td>3.128571</td>\n",
       "      <td>7.057143</td>\n",
       "    </tr>\n",
       "    <tr>\n",
       "      <td>1</td>\n",
       "      <td>sj</td>\n",
       "      <td>2008-05-06</td>\n",
       "      <td>-0.0180</td>\n",
       "      <td>-0.012400</td>\n",
       "      <td>0.082043</td>\n",
       "      <td>0.072314</td>\n",
       "      <td>298.475714</td>\n",
       "      <td>300.8</td>\n",
       "      <td>296.7</td>\n",
       "      <td>78.230000</td>\n",
       "      <td>2.571429</td>\n",
       "      <td>5.557143</td>\n",
       "    </tr>\n",
       "    <tr>\n",
       "      <td>2</td>\n",
       "      <td>sj</td>\n",
       "      <td>2008-05-13</td>\n",
       "      <td>-0.0015</td>\n",
       "      <td>NaN</td>\n",
       "      <td>0.151083</td>\n",
       "      <td>0.091529</td>\n",
       "      <td>299.455714</td>\n",
       "      <td>302.2</td>\n",
       "      <td>296.4</td>\n",
       "      <td>78.270000</td>\n",
       "      <td>4.428571</td>\n",
       "      <td>7.785714</td>\n",
       "    </tr>\n",
       "    <tr>\n",
       "      <td>3</td>\n",
       "      <td>sj</td>\n",
       "      <td>2008-05-20</td>\n",
       "      <td>NaN</td>\n",
       "      <td>-0.019867</td>\n",
       "      <td>0.124329</td>\n",
       "      <td>0.125686</td>\n",
       "      <td>299.690000</td>\n",
       "      <td>303.0</td>\n",
       "      <td>296.9</td>\n",
       "      <td>73.015714</td>\n",
       "      <td>4.342857</td>\n",
       "      <td>6.271429</td>\n",
       "    </tr>\n",
       "    <tr>\n",
       "      <td>4</td>\n",
       "      <td>sj</td>\n",
       "      <td>2008-05-27</td>\n",
       "      <td>0.0568</td>\n",
       "      <td>0.039833</td>\n",
       "      <td>0.062267</td>\n",
       "      <td>0.075914</td>\n",
       "      <td>299.780000</td>\n",
       "      <td>302.3</td>\n",
       "      <td>297.3</td>\n",
       "      <td>74.084286</td>\n",
       "      <td>3.542857</td>\n",
       "      <td>7.085714</td>\n",
       "    </tr>\n",
       "  </tbody>\n",
       "</table>\n",
       "</div>"
      ],
      "text/plain": [
       "  city week_start_date  ndvi_ne   ndvi_nw   ndvi_se   ndvi_sw  \\\n",
       "0   sj      2008-04-29  -0.0189 -0.018900  0.102729  0.091200   \n",
       "1   sj      2008-05-06  -0.0180 -0.012400  0.082043  0.072314   \n",
       "2   sj      2008-05-13  -0.0015       NaN  0.151083  0.091529   \n",
       "3   sj      2008-05-20      NaN -0.019867  0.124329  0.125686   \n",
       "4   sj      2008-05-27   0.0568  0.039833  0.062267  0.075914   \n",
       "\n",
       "   reanalysis_air_temp_k  reanalysis_max_air_temp_k  \\\n",
       "0             298.492857                      301.1   \n",
       "1             298.475714                      300.8   \n",
       "2             299.455714                      302.2   \n",
       "3             299.690000                      303.0   \n",
       "4             299.780000                      302.3   \n",
       "\n",
       "   reanalysis_min_air_temp_k  reanalysis_relative_humidity_percent  \\\n",
       "0                      296.4                             78.781429   \n",
       "1                      296.7                             78.230000   \n",
       "2                      296.4                             78.270000   \n",
       "3                      296.9                             73.015714   \n",
       "4                      297.3                             74.084286   \n",
       "\n",
       "   reanalysis_tdtr_k  station_diur_temp_rng_c  \n",
       "0           3.128571                 7.057143  \n",
       "1           2.571429                 5.557143  \n",
       "2           4.428571                 7.785714  \n",
       "3           4.342857                 6.271429  \n",
       "4           3.542857                 7.085714  "
      ]
     },
     "execution_count": 44,
     "metadata": {},
     "output_type": "execute_result"
    }
   ],
   "source": [
    "dengue_features_test_final = dengue_features_test.drop([\"precipitation_amt_mm\",\"reanalysis_sat_precip_amt_mm\",\"reanalysis_dew_point_temp_k\"\n",
    "                                                    ,\"reanalysis_specific_humidity_g_per_kg\",\"reanalysis_precip_amt_kg_per_m2\",\"reanalysis_avg_temp_k\",\n",
    "                                                    \"station_precip_mm\",\"station_max_temp_c\",\"station_avg_temp_c\",\"station_min_temp_c\",\"year\",\"weekofyear\"],axis=1)\n",
    "dengue_features_test_final.head()"
   ]
  },
  {
   "cell_type": "code",
   "execution_count": 45,
   "metadata": {},
   "outputs": [],
   "source": [
    "dengue_features_test_final[\"reanalysis_relative_humidity_percent\"] = dengue_features_test_final[\"reanalysis_relative_humidity_percent\"]/100"
   ]
  },
  {
   "cell_type": "code",
   "execution_count": 46,
   "metadata": {},
   "outputs": [],
   "source": [
    "dengue_features_test_final['ndvi_ne'] = np.where(dengue_features_test_final[\"ndvi_ne\"] <= 0.25, 0,1) \n",
    "dengue_features_test_final['ndvi_nw'] = np.where(dengue_features_test_final[\"ndvi_ne\"] <= 0.25, 0,1) \n",
    "dengue_features_test_final['ndvi_se'] = np.where(dengue_features_test_final[\"ndvi_se\"] <= 0.25, 0,1) \n",
    "dengue_features_test_final['ndvi_sw'] = np.where(dengue_features_test_final[\"ndvi_sw\"] <= 0.25, 0,1) "
   ]
  },
  {
   "cell_type": "code",
   "execution_count": 47,
   "metadata": {},
   "outputs": [],
   "source": [
    "#create new columns by extracting the month from week_start_date\n",
    "dengue_features_test_final[\"month\"] = pd.to_datetime(dengue_features_test_final[\"week_start_date\"]).dt.month\n",
    "dengue_features_test_final[\"Jan_Apr\"]= np.where(dengue_features_test_final[\"month\"].isin([1,2,3,4]),1,0)\n",
    "dengue_features_test_final[\"May_Aug\"]= np.where(dengue_features_test_final[\"month\"].isin([5,6,7,8]),1,0)\n",
    "dengue_features_test_final[\"Sep_Dec\"]= np.where(dengue_features_test_final[\"month\"].isin([9,10,11,12]),1,0)\n",
    "dengue_features_test_final = dengue_features_test_final.drop([\"month\",\"week_start_date\"],axis =1)"
   ]
  },
  {
   "cell_type": "code",
   "execution_count": 48,
   "metadata": {},
   "outputs": [],
   "source": [
    "#Label-Encoding on city attribute\n",
    "le = LabelEncoder() \n",
    "dengue_features_test_final['city']= le.fit_transform(dengue_features_test_final['city']) "
   ]
  },
  {
   "cell_type": "code",
   "execution_count": 49,
   "metadata": {},
   "outputs": [],
   "source": [
    "dengue_features_test_final.city = dengue_features_test_final[\"city\"].astype(\"category\")\n",
    "dengue_features_test_final.Jan_Apr = dengue_features_test_final[\"Jan_Apr\"].astype(\"category\")\n",
    "dengue_features_test_final.May_Aug = dengue_features_test_final[\"May_Aug\"].astype(\"category\")\n",
    "dengue_features_test_final.Sep_Dec = dengue_features_test_final[\"Sep_Dec\"].astype(\"category\")\n",
    "dengue_features_test_final.ndvi_ne = dengue_features_test_final[\"ndvi_ne\"].astype(\"category\")\n",
    "dengue_features_test_final.ndvi_nw = dengue_features_test_final[\"ndvi_nw\"].astype(\"category\")\n",
    "dengue_features_test_final.ndvi_se = dengue_features_test_final[\"ndvi_se\"].astype(\"category\")\n",
    "dengue_features_test_final.ndvi_sw = dengue_features_test_final[\"ndvi_sw\"].astype(\"category\")"
   ]
  },
  {
   "cell_type": "code",
   "execution_count": 50,
   "metadata": {},
   "outputs": [],
   "source": [
    "dengue_features_test_final.columns = dengue_features_test_final.columns.str.replace(\"station\",\"stn\")\n",
    "dengue_features_test_final.columns = dengue_features_test_final.columns.str.replace(\"reanalysis\",\"re_an\")\n",
    "dengue_features_test_final.columns = dengue_features_test_final.columns.str.replace(\"humidity\",\"hd\")\n",
    "dengue_features_test_final.columns = dengue_features_test_final.columns.str.replace(\"precipitation\",\"prec\")"
   ]
  },
  {
   "cell_type": "code",
   "execution_count": 51,
   "metadata": {},
   "outputs": [
    {
     "name": "stdout",
     "output_type": "stream",
     "text": [
      "<class 'pandas.core.frame.DataFrame'>\n",
      "RangeIndex: 416 entries, 0 to 415\n",
      "Data columns (total 14 columns):\n",
      "city                         416 non-null category\n",
      "ndvi_ne                      416 non-null category\n",
      "ndvi_nw                      416 non-null category\n",
      "ndvi_se                      416 non-null category\n",
      "ndvi_sw                      416 non-null category\n",
      "re_an_air_temp_k             414 non-null float64\n",
      "re_an_max_air_temp_k         414 non-null float64\n",
      "re_an_min_air_temp_k         414 non-null float64\n",
      "re_an_relative_hd_percent    414 non-null float64\n",
      "re_an_tdtr_k                 414 non-null float64\n",
      "stn_diur_temp_rng_c          404 non-null float64\n",
      "Jan_Apr                      416 non-null category\n",
      "May_Aug                      416 non-null category\n",
      "Sep_Dec                      416 non-null category\n",
      "dtypes: category(8), float64(6)\n",
      "memory usage: 23.6 KB\n"
     ]
    }
   ],
   "source": [
    "dengue_features_test_final.info()"
   ]
  },
  {
   "cell_type": "code",
   "execution_count": 52,
   "metadata": {},
   "outputs": [],
   "source": [
    "#create a dataframe for numerical attribute\n",
    "dengue_num_test = dengue_features_test_final.drop([\"city\",\"Jan_Apr\",\"May_Aug\",\"Sep_Dec\",\"ndvi_ne\",\"ndvi_nw\",\"ndvi_se\",\"ndvi_sw\",\"re_an_relative_hd_percent\"], axis =1)"
   ]
  },
  {
   "cell_type": "code",
   "execution_count": 53,
   "metadata": {},
   "outputs": [],
   "source": [
    "# Standardize the numerical attributes\n",
    "sd = StandardScaler()\n",
    "std_dataset_test = pd.DataFrame(sd.fit_transform(dengue_num_test))"
   ]
  },
  {
   "cell_type": "code",
   "execution_count": 54,
   "metadata": {},
   "outputs": [],
   "source": [
    "std_dataset_test.columns = dengue_num_test.columns"
   ]
  },
  {
   "cell_type": "code",
   "execution_count": 55,
   "metadata": {},
   "outputs": [],
   "source": [
    "re_an_relative_hd_percent = dengue_features_test_final[\"re_an_relative_hd_percent\"]\n",
    "std_dataset_test[\"re_an_relative_hd_percent\"] = re_an_relative_hd_percent"
   ]
  },
  {
   "cell_type": "code",
   "execution_count": 56,
   "metadata": {},
   "outputs": [
    {
     "data": {
      "text/plain": [
       "re_an_air_temp_k              2\n",
       "re_an_max_air_temp_k          2\n",
       "re_an_min_air_temp_k          2\n",
       "re_an_tdtr_k                  2\n",
       "stn_diur_temp_rng_c          12\n",
       "re_an_relative_hd_percent     2\n",
       "dtype: int64"
      ]
     },
     "execution_count": 56,
     "metadata": {},
     "output_type": "execute_result"
    }
   ],
   "source": [
    "std_dataset_test.isnull().sum()"
   ]
  },
  {
   "cell_type": "code",
   "execution_count": 57,
   "metadata": {},
   "outputs": [],
   "source": [
    "std_dataset_test = std_dataset_test.fillna(std_dataset_test.mean())"
   ]
  },
  {
   "cell_type": "code",
   "execution_count": 58,
   "metadata": {},
   "outputs": [],
   "source": [
    "# extract categorical and target columns\n",
    "cat_dataset_test= dengue_features_test_final[['city','Jan_Apr','May_Aug','Sep_Dec','ndvi_sw','ndvi_se','ndvi_nw','ndvi_ne']]"
   ]
  },
  {
   "cell_type": "code",
   "execution_count": 59,
   "metadata": {},
   "outputs": [],
   "source": [
    "cat_dataset_test.index = std_dataset_test.index"
   ]
  },
  {
   "cell_type": "code",
   "execution_count": 60,
   "metadata": {},
   "outputs": [
    {
     "name": "stdout",
     "output_type": "stream",
     "text": [
      "<class 'pandas.core.frame.DataFrame'>\n",
      "RangeIndex: 416 entries, 0 to 415\n",
      "Data columns (total 14 columns):\n",
      "re_an_air_temp_k             416 non-null float64\n",
      "re_an_max_air_temp_k         416 non-null float64\n",
      "re_an_min_air_temp_k         416 non-null float64\n",
      "re_an_tdtr_k                 416 non-null float64\n",
      "stn_diur_temp_rng_c          416 non-null float64\n",
      "re_an_relative_hd_percent    416 non-null float64\n",
      "city                         416 non-null category\n",
      "Jan_Apr                      416 non-null category\n",
      "May_Aug                      416 non-null category\n",
      "Sep_Dec                      416 non-null category\n",
      "ndvi_sw                      416 non-null category\n",
      "ndvi_se                      416 non-null category\n",
      "ndvi_nw                      416 non-null category\n",
      "ndvi_ne                      416 non-null category\n",
      "dtypes: category(8), float64(6)\n",
      "memory usage: 23.6 KB\n"
     ]
    }
   ],
   "source": [
    "#concat the numerical, categorical and target attributes after transformations\n",
    "final_df_test = pd.concat([std_dataset_test,cat_dataset_test],axis=1)\n",
    "\n",
    "final_df_test.info()"
   ]
  },
  {
   "cell_type": "code",
   "execution_count": 61,
   "metadata": {},
   "outputs": [],
   "source": [
    "mlp_reg_test = MLPRegressor( hidden_layer_sizes=(200,), activation='tanh',\n",
    "                       solver='sgd',random_state=140)\n",
    "mlp_reg_test.fit(train,train_target)\n",
    "# predictions on test data\n",
    "dengue_predictions_mlp_reg_test =  mlp_reg.predict(final_df_test)"
   ]
  },
  {
   "cell_type": "code",
   "execution_count": 62,
   "metadata": {
    "scrolled": false
   },
   "outputs": [
    {
     "data": {
      "text/html": [
       "<div>\n",
       "<style scoped>\n",
       "    .dataframe tbody tr th:only-of-type {\n",
       "        vertical-align: middle;\n",
       "    }\n",
       "\n",
       "    .dataframe tbody tr th {\n",
       "        vertical-align: top;\n",
       "    }\n",
       "\n",
       "    .dataframe thead th {\n",
       "        text-align: right;\n",
       "    }\n",
       "</style>\n",
       "<table border=\"1\" class=\"dataframe\">\n",
       "  <thead>\n",
       "    <tr style=\"text-align: right;\">\n",
       "      <th></th>\n",
       "      <th>city</th>\n",
       "      <th>year</th>\n",
       "      <th>weekofyear</th>\n",
       "      <th>total_cases</th>\n",
       "    </tr>\n",
       "  </thead>\n",
       "  <tbody>\n",
       "    <tr>\n",
       "      <td>0</td>\n",
       "      <td>sj</td>\n",
       "      <td>2008</td>\n",
       "      <td>18</td>\n",
       "      <td>16.712229</td>\n",
       "    </tr>\n",
       "    <tr>\n",
       "      <td>1</td>\n",
       "      <td>sj</td>\n",
       "      <td>2008</td>\n",
       "      <td>19</td>\n",
       "      <td>6.195672</td>\n",
       "    </tr>\n",
       "    <tr>\n",
       "      <td>2</td>\n",
       "      <td>sj</td>\n",
       "      <td>2008</td>\n",
       "      <td>20</td>\n",
       "      <td>5.367394</td>\n",
       "    </tr>\n",
       "    <tr>\n",
       "      <td>3</td>\n",
       "      <td>sj</td>\n",
       "      <td>2008</td>\n",
       "      <td>21</td>\n",
       "      <td>10.831094</td>\n",
       "    </tr>\n",
       "    <tr>\n",
       "      <td>4</td>\n",
       "      <td>sj</td>\n",
       "      <td>2008</td>\n",
       "      <td>22</td>\n",
       "      <td>10.836622</td>\n",
       "    </tr>\n",
       "  </tbody>\n",
       "</table>\n",
       "</div>"
      ],
      "text/plain": [
       "  city  year  weekofyear  total_cases\n",
       "0   sj  2008          18    16.712229\n",
       "1   sj  2008          19     6.195672\n",
       "2   sj  2008          20     5.367394\n",
       "3   sj  2008          21    10.831094\n",
       "4   sj  2008          22    10.836622"
      ]
     },
     "execution_count": 62,
     "metadata": {},
     "output_type": "execute_result"
    }
   ],
   "source": [
    "#Create a  DataFrame with the city,months divided,and total cases\n",
    "submission = pd.DataFrame({'city':dengue_features_test['city'],'year': dengue_features_test['year'],'weekofyear':dengue_features_test['weekofyear'],\n",
    "                           'total_cases':dengue_predictions_mlp_reg_test})\n",
    "#Visualize the first 5 rows\n",
    "submission.head()"
   ]
  },
  {
   "cell_type": "markdown",
   "metadata": {},
   "source": [
    "#### Evaluate the results achieved"
   ]
  },
  {
   "cell_type": "code",
   "execution_count": 63,
   "metadata": {
    "scrolled": true
   },
   "outputs": [
    {
     "name": "stdout",
     "output_type": "stream",
     "text": [
      "    city  year  weekofyear  total_cases\n",
      "191   sj  2012          52    20.148273\n",
      "192   sj  2012           1    18.973758\n",
      "193   sj  2012           2    19.750297\n",
      "194   sj  2012           3    20.374665\n",
      "195   sj  2012           4    18.180819\n",
      "..   ...   ...         ...          ...\n",
      "385   iq  2012          47     6.759028\n",
      "386   iq  2012          48     6.761670\n",
      "387   iq  2012          49     6.984058\n",
      "388   iq  2012          50     8.538365\n",
      "389   iq  2012          51    10.251537\n",
      "\n",
      "[104 rows x 4 columns]\n"
     ]
    }
   ],
   "source": [
    "comparison = submission[(submission['year'] == 2012)]\n",
    "print(comparison)"
   ]
  },
  {
   "cell_type": "markdown",
   "metadata": {},
   "source": [
    "We know that the seasons of both the cities varies throughout the year and that has different impact of season on the total cases of dengue in that city. \n",
    "On comparing the results for both the cities for 2012 in test data we can conclude that- \n",
    "\n",
    "* Like we saw in our training data, the number of total cases of dengue predicted seems to be more in San Juan than Iquitos.\n",
    "\n",
    "\n",
    "* Similarly, our model predicted that there are more number of dengue cases during initial few weeks of the year and then lesser cases for weeks in middle until 25 to 30th week of the year for both the cities, followed with increase in number of cases in later weeks of several years in the data."
   ]
  },
  {
   "cell_type": "code",
   "execution_count": 66,
   "metadata": {},
   "outputs": [
    {
     "name": "stdout",
     "output_type": "stream",
     "text": [
      "Saved file: Dengue_Prediction_Submission_final3.csv\n"
     ]
    }
   ],
   "source": [
    "#Convert DataFrame to a csv file that can be uploaded\n",
    "#This is saved in the same directory as notebook\n",
    "filename = 'Dengue_Prediction_Submission_final3.csv'\n",
    "submission.to_csv(filename,index=False)\n",
    "print('Saved file: ' + filename)"
   ]
  },
  {
   "cell_type": "markdown",
   "metadata": {},
   "source": [
    "Submitted the file in competition and got a score of 25.95 and current rank 1518."
   ]
  }
 ],
 "metadata": {
  "kernelspec": {
   "display_name": "Python 3",
   "language": "python",
   "name": "python3"
  },
  "language_info": {
   "codemirror_mode": {
    "name": "ipython",
    "version": 3
   },
   "file_extension": ".py",
   "mimetype": "text/x-python",
   "name": "python",
   "nbconvert_exporter": "python",
   "pygments_lexer": "ipython3",
   "version": "3.7.4"
  }
 },
 "nbformat": 4,
 "nbformat_minor": 2
}
