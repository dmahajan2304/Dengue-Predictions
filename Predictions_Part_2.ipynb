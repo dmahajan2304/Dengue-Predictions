{
 "cells": [
  {
   "cell_type": "markdown",
   "metadata": {},
   "source": [
    "## Assignment 3 - Questions\n",
    "Use the merged data frame from Assignment 1 (and 2) for this assignment\n",
    "\n",
    "This Assignment focuses on data preprocessing and model building. Continue with the datasets loaded in Assignment 1 and 2 (or reload with same steps and create merged data frame). In this assignment you need to use both i). Linear SVR regressor and ii) SVR with Linear kernel. Provide your intepretations."
   ]
  },
  {
   "cell_type": "code",
   "execution_count": 1,
   "metadata": {},
   "outputs": [],
   "source": [
    "#import required libraries like pandas, numpy, matplotlib\n",
    "import pandas as pd\n",
    "import numpy as np\n",
    "import matplotlib.pyplot as plt\n",
    "import seaborn as sns\n",
    "%matplotlib inline\n",
    "import random\n",
    "from numpy import mean\n",
    "from numpy import std\n",
    "from scipy import stats\n",
    "from sklearn.model_selection import learning_curve\n",
    "from sklearn.model_selection import GridSearchCV\n",
    "from sklearn.preprocessing import LabelEncoder \n",
    "from sklearn.model_selection import StratifiedShuffleSplit\n",
    "from sklearn.preprocessing import StandardScaler\n",
    "from sklearn.model_selection import learning_curve\n",
    "from sklearn.svm import LinearSVR\n",
    "from sklearn.svm import SVR\n",
    "from sklearn.metrics import mean_absolute_error"
   ]
  },
  {
   "cell_type": "code",
   "execution_count": 2,
   "metadata": {},
   "outputs": [
    {
     "data": {
      "text/html": [
       "<div>\n",
       "<style scoped>\n",
       "    .dataframe tbody tr th:only-of-type {\n",
       "        vertical-align: middle;\n",
       "    }\n",
       "\n",
       "    .dataframe tbody tr th {\n",
       "        vertical-align: top;\n",
       "    }\n",
       "\n",
       "    .dataframe thead th {\n",
       "        text-align: right;\n",
       "    }\n",
       "</style>\n",
       "<table border=\"1\" class=\"dataframe\">\n",
       "  <thead>\n",
       "    <tr style=\"text-align: right;\">\n",
       "      <th></th>\n",
       "      <th>city</th>\n",
       "      <th>year</th>\n",
       "      <th>weekofyear</th>\n",
       "      <th>week_start_date</th>\n",
       "      <th>ndvi_ne</th>\n",
       "      <th>ndvi_nw</th>\n",
       "      <th>ndvi_se</th>\n",
       "      <th>ndvi_sw</th>\n",
       "      <th>precipitation_amt_mm</th>\n",
       "      <th>reanalysis_air_temp_k</th>\n",
       "      <th>...</th>\n",
       "      <th>reanalysis_precip_amt_kg_per_m2</th>\n",
       "      <th>reanalysis_relative_humidity_percent</th>\n",
       "      <th>reanalysis_sat_precip_amt_mm</th>\n",
       "      <th>reanalysis_specific_humidity_g_per_kg</th>\n",
       "      <th>reanalysis_tdtr_k</th>\n",
       "      <th>station_avg_temp_c</th>\n",
       "      <th>station_diur_temp_rng_c</th>\n",
       "      <th>station_max_temp_c</th>\n",
       "      <th>station_min_temp_c</th>\n",
       "      <th>station_precip_mm</th>\n",
       "    </tr>\n",
       "  </thead>\n",
       "  <tbody>\n",
       "    <tr>\n",
       "      <td>0</td>\n",
       "      <td>sj</td>\n",
       "      <td>1990</td>\n",
       "      <td>18</td>\n",
       "      <td>1990-04-30</td>\n",
       "      <td>0.12260</td>\n",
       "      <td>0.103725</td>\n",
       "      <td>0.198483</td>\n",
       "      <td>0.177617</td>\n",
       "      <td>12.42</td>\n",
       "      <td>297.572857</td>\n",
       "      <td>...</td>\n",
       "      <td>32.00</td>\n",
       "      <td>73.365714</td>\n",
       "      <td>12.42</td>\n",
       "      <td>14.012857</td>\n",
       "      <td>2.628571</td>\n",
       "      <td>25.442857</td>\n",
       "      <td>6.900000</td>\n",
       "      <td>29.4</td>\n",
       "      <td>20.0</td>\n",
       "      <td>16.0</td>\n",
       "    </tr>\n",
       "    <tr>\n",
       "      <td>1</td>\n",
       "      <td>sj</td>\n",
       "      <td>1990</td>\n",
       "      <td>19</td>\n",
       "      <td>1990-05-07</td>\n",
       "      <td>0.16990</td>\n",
       "      <td>0.142175</td>\n",
       "      <td>0.162357</td>\n",
       "      <td>0.155486</td>\n",
       "      <td>22.82</td>\n",
       "      <td>298.211429</td>\n",
       "      <td>...</td>\n",
       "      <td>17.94</td>\n",
       "      <td>77.368571</td>\n",
       "      <td>22.82</td>\n",
       "      <td>15.372857</td>\n",
       "      <td>2.371429</td>\n",
       "      <td>26.714286</td>\n",
       "      <td>6.371429</td>\n",
       "      <td>31.7</td>\n",
       "      <td>22.2</td>\n",
       "      <td>8.6</td>\n",
       "    </tr>\n",
       "    <tr>\n",
       "      <td>2</td>\n",
       "      <td>sj</td>\n",
       "      <td>1990</td>\n",
       "      <td>20</td>\n",
       "      <td>1990-05-14</td>\n",
       "      <td>0.03225</td>\n",
       "      <td>0.172967</td>\n",
       "      <td>0.157200</td>\n",
       "      <td>0.170843</td>\n",
       "      <td>34.54</td>\n",
       "      <td>298.781429</td>\n",
       "      <td>...</td>\n",
       "      <td>26.10</td>\n",
       "      <td>82.052857</td>\n",
       "      <td>34.54</td>\n",
       "      <td>16.848571</td>\n",
       "      <td>2.300000</td>\n",
       "      <td>26.714286</td>\n",
       "      <td>6.485714</td>\n",
       "      <td>32.2</td>\n",
       "      <td>22.8</td>\n",
       "      <td>41.4</td>\n",
       "    </tr>\n",
       "  </tbody>\n",
       "</table>\n",
       "<p>3 rows × 24 columns</p>\n",
       "</div>"
      ],
      "text/plain": [
       "  city  year  weekofyear week_start_date  ndvi_ne   ndvi_nw   ndvi_se  \\\n",
       "0   sj  1990          18      1990-04-30  0.12260  0.103725  0.198483   \n",
       "1   sj  1990          19      1990-05-07  0.16990  0.142175  0.162357   \n",
       "2   sj  1990          20      1990-05-14  0.03225  0.172967  0.157200   \n",
       "\n",
       "    ndvi_sw  precipitation_amt_mm  reanalysis_air_temp_k  ...  \\\n",
       "0  0.177617                 12.42             297.572857  ...   \n",
       "1  0.155486                 22.82             298.211429  ...   \n",
       "2  0.170843                 34.54             298.781429  ...   \n",
       "\n",
       "   reanalysis_precip_amt_kg_per_m2  reanalysis_relative_humidity_percent  \\\n",
       "0                            32.00                             73.365714   \n",
       "1                            17.94                             77.368571   \n",
       "2                            26.10                             82.052857   \n",
       "\n",
       "   reanalysis_sat_precip_amt_mm  reanalysis_specific_humidity_g_per_kg  \\\n",
       "0                         12.42                              14.012857   \n",
       "1                         22.82                              15.372857   \n",
       "2                         34.54                              16.848571   \n",
       "\n",
       "   reanalysis_tdtr_k  station_avg_temp_c  station_diur_temp_rng_c  \\\n",
       "0           2.628571           25.442857                 6.900000   \n",
       "1           2.371429           26.714286                 6.371429   \n",
       "2           2.300000           26.714286                 6.485714   \n",
       "\n",
       "   station_max_temp_c  station_min_temp_c  station_precip_mm  \n",
       "0                29.4                20.0               16.0  \n",
       "1                31.7                22.2                8.6  \n",
       "2                32.2                22.8               41.4  \n",
       "\n",
       "[3 rows x 24 columns]"
      ]
     },
     "execution_count": 2,
     "metadata": {},
     "output_type": "execute_result"
    }
   ],
   "source": [
    "#read the train data into dataframe\n",
    "dengue_train = pd.read_csv(\"dengue_features_train.csv\") \n",
    "#view first 3 rows of the dataframe\n",
    "dengue_train.head(3)"
   ]
  },
  {
   "cell_type": "code",
   "execution_count": 3,
   "metadata": {
    "scrolled": true
   },
   "outputs": [
    {
     "data": {
      "text/html": [
       "<div>\n",
       "<style scoped>\n",
       "    .dataframe tbody tr th:only-of-type {\n",
       "        vertical-align: middle;\n",
       "    }\n",
       "\n",
       "    .dataframe tbody tr th {\n",
       "        vertical-align: top;\n",
       "    }\n",
       "\n",
       "    .dataframe thead th {\n",
       "        text-align: right;\n",
       "    }\n",
       "</style>\n",
       "<table border=\"1\" class=\"dataframe\">\n",
       "  <thead>\n",
       "    <tr style=\"text-align: right;\">\n",
       "      <th></th>\n",
       "      <th>city</th>\n",
       "      <th>year</th>\n",
       "      <th>weekofyear</th>\n",
       "      <th>total_cases</th>\n",
       "    </tr>\n",
       "  </thead>\n",
       "  <tbody>\n",
       "    <tr>\n",
       "      <td>0</td>\n",
       "      <td>sj</td>\n",
       "      <td>1990</td>\n",
       "      <td>18</td>\n",
       "      <td>4</td>\n",
       "    </tr>\n",
       "    <tr>\n",
       "      <td>1</td>\n",
       "      <td>sj</td>\n",
       "      <td>1990</td>\n",
       "      <td>19</td>\n",
       "      <td>5</td>\n",
       "    </tr>\n",
       "    <tr>\n",
       "      <td>2</td>\n",
       "      <td>sj</td>\n",
       "      <td>1990</td>\n",
       "      <td>20</td>\n",
       "      <td>4</td>\n",
       "    </tr>\n",
       "    <tr>\n",
       "      <td>3</td>\n",
       "      <td>sj</td>\n",
       "      <td>1990</td>\n",
       "      <td>21</td>\n",
       "      <td>3</td>\n",
       "    </tr>\n",
       "    <tr>\n",
       "      <td>4</td>\n",
       "      <td>sj</td>\n",
       "      <td>1990</td>\n",
       "      <td>22</td>\n",
       "      <td>6</td>\n",
       "    </tr>\n",
       "  </tbody>\n",
       "</table>\n",
       "</div>"
      ],
      "text/plain": [
       "  city  year  weekofyear  total_cases\n",
       "0   sj  1990          18            4\n",
       "1   sj  1990          19            5\n",
       "2   sj  1990          20            4\n",
       "3   sj  1990          21            3\n",
       "4   sj  1990          22            6"
      ]
     },
     "execution_count": 3,
     "metadata": {},
     "output_type": "execute_result"
    }
   ],
   "source": [
    "#read the dengue_labels_train dataset into another dataframe\n",
    "dengue_labels = pd.read_csv(\"dengue_labels_train.csv\")  \n",
    "dengue_labels.head()"
   ]
  },
  {
   "cell_type": "code",
   "execution_count": 4,
   "metadata": {},
   "outputs": [
    {
     "name": "stdout",
     "output_type": "stream",
     "text": [
      "(1456, 25)\n"
     ]
    }
   ],
   "source": [
    "#merge the above two dataframes on city, year and weekofyear and store it into new dataframe\n",
    "merged_train_labels = pd.merge(dengue_train,dengue_labels, on= [\"city\",'year','weekofyear'])\n",
    "print(merged_train_labels.shape)"
   ]
  },
  {
   "cell_type": "code",
   "execution_count": 5,
   "metadata": {
    "scrolled": true
   },
   "outputs": [
    {
     "data": {
      "text/html": [
       "<div>\n",
       "<style scoped>\n",
       "    .dataframe tbody tr th:only-of-type {\n",
       "        vertical-align: middle;\n",
       "    }\n",
       "\n",
       "    .dataframe tbody tr th {\n",
       "        vertical-align: top;\n",
       "    }\n",
       "\n",
       "    .dataframe thead th {\n",
       "        text-align: right;\n",
       "    }\n",
       "</style>\n",
       "<table border=\"1\" class=\"dataframe\">\n",
       "  <thead>\n",
       "    <tr style=\"text-align: right;\">\n",
       "      <th></th>\n",
       "      <th>city</th>\n",
       "      <th>year</th>\n",
       "      <th>weekofyear</th>\n",
       "      <th>week_start_date</th>\n",
       "      <th>ndvi_ne</th>\n",
       "      <th>ndvi_nw</th>\n",
       "      <th>ndvi_se</th>\n",
       "      <th>ndvi_sw</th>\n",
       "      <th>precipitation_amt_mm</th>\n",
       "      <th>reanalysis_air_temp_k</th>\n",
       "      <th>...</th>\n",
       "      <th>reanalysis_relative_humidity_percent</th>\n",
       "      <th>reanalysis_sat_precip_amt_mm</th>\n",
       "      <th>reanalysis_specific_humidity_g_per_kg</th>\n",
       "      <th>reanalysis_tdtr_k</th>\n",
       "      <th>station_avg_temp_c</th>\n",
       "      <th>station_diur_temp_rng_c</th>\n",
       "      <th>station_max_temp_c</th>\n",
       "      <th>station_min_temp_c</th>\n",
       "      <th>station_precip_mm</th>\n",
       "      <th>total_cases</th>\n",
       "    </tr>\n",
       "  </thead>\n",
       "  <tbody>\n",
       "    <tr>\n",
       "      <td>0</td>\n",
       "      <td>sj</td>\n",
       "      <td>1990</td>\n",
       "      <td>18</td>\n",
       "      <td>1990-04-30</td>\n",
       "      <td>0.122600</td>\n",
       "      <td>0.103725</td>\n",
       "      <td>0.198483</td>\n",
       "      <td>0.177617</td>\n",
       "      <td>12.42</td>\n",
       "      <td>297.572857</td>\n",
       "      <td>...</td>\n",
       "      <td>73.365714</td>\n",
       "      <td>12.42</td>\n",
       "      <td>14.012857</td>\n",
       "      <td>2.628571</td>\n",
       "      <td>25.442857</td>\n",
       "      <td>6.900000</td>\n",
       "      <td>29.4</td>\n",
       "      <td>20.0</td>\n",
       "      <td>16.0</td>\n",
       "      <td>4</td>\n",
       "    </tr>\n",
       "    <tr>\n",
       "      <td>1</td>\n",
       "      <td>sj</td>\n",
       "      <td>1990</td>\n",
       "      <td>19</td>\n",
       "      <td>1990-05-07</td>\n",
       "      <td>0.169900</td>\n",
       "      <td>0.142175</td>\n",
       "      <td>0.162357</td>\n",
       "      <td>0.155486</td>\n",
       "      <td>22.82</td>\n",
       "      <td>298.211429</td>\n",
       "      <td>...</td>\n",
       "      <td>77.368571</td>\n",
       "      <td>22.82</td>\n",
       "      <td>15.372857</td>\n",
       "      <td>2.371429</td>\n",
       "      <td>26.714286</td>\n",
       "      <td>6.371429</td>\n",
       "      <td>31.7</td>\n",
       "      <td>22.2</td>\n",
       "      <td>8.6</td>\n",
       "      <td>5</td>\n",
       "    </tr>\n",
       "    <tr>\n",
       "      <td>2</td>\n",
       "      <td>sj</td>\n",
       "      <td>1990</td>\n",
       "      <td>20</td>\n",
       "      <td>1990-05-14</td>\n",
       "      <td>0.032250</td>\n",
       "      <td>0.172967</td>\n",
       "      <td>0.157200</td>\n",
       "      <td>0.170843</td>\n",
       "      <td>34.54</td>\n",
       "      <td>298.781429</td>\n",
       "      <td>...</td>\n",
       "      <td>82.052857</td>\n",
       "      <td>34.54</td>\n",
       "      <td>16.848571</td>\n",
       "      <td>2.300000</td>\n",
       "      <td>26.714286</td>\n",
       "      <td>6.485714</td>\n",
       "      <td>32.2</td>\n",
       "      <td>22.8</td>\n",
       "      <td>41.4</td>\n",
       "      <td>4</td>\n",
       "    </tr>\n",
       "    <tr>\n",
       "      <td>3</td>\n",
       "      <td>sj</td>\n",
       "      <td>1990</td>\n",
       "      <td>21</td>\n",
       "      <td>1990-05-21</td>\n",
       "      <td>0.128633</td>\n",
       "      <td>0.245067</td>\n",
       "      <td>0.227557</td>\n",
       "      <td>0.235886</td>\n",
       "      <td>15.36</td>\n",
       "      <td>298.987143</td>\n",
       "      <td>...</td>\n",
       "      <td>80.337143</td>\n",
       "      <td>15.36</td>\n",
       "      <td>16.672857</td>\n",
       "      <td>2.428571</td>\n",
       "      <td>27.471429</td>\n",
       "      <td>6.771429</td>\n",
       "      <td>33.3</td>\n",
       "      <td>23.3</td>\n",
       "      <td>4.0</td>\n",
       "      <td>3</td>\n",
       "    </tr>\n",
       "    <tr>\n",
       "      <td>4</td>\n",
       "      <td>sj</td>\n",
       "      <td>1990</td>\n",
       "      <td>22</td>\n",
       "      <td>1990-05-28</td>\n",
       "      <td>0.196200</td>\n",
       "      <td>0.262200</td>\n",
       "      <td>0.251200</td>\n",
       "      <td>0.247340</td>\n",
       "      <td>7.52</td>\n",
       "      <td>299.518571</td>\n",
       "      <td>...</td>\n",
       "      <td>80.460000</td>\n",
       "      <td>7.52</td>\n",
       "      <td>17.210000</td>\n",
       "      <td>3.014286</td>\n",
       "      <td>28.942857</td>\n",
       "      <td>9.371429</td>\n",
       "      <td>35.0</td>\n",
       "      <td>23.9</td>\n",
       "      <td>5.8</td>\n",
       "      <td>6</td>\n",
       "    </tr>\n",
       "  </tbody>\n",
       "</table>\n",
       "<p>5 rows × 25 columns</p>\n",
       "</div>"
      ],
      "text/plain": [
       "  city  year  weekofyear week_start_date   ndvi_ne   ndvi_nw   ndvi_se  \\\n",
       "0   sj  1990          18      1990-04-30  0.122600  0.103725  0.198483   \n",
       "1   sj  1990          19      1990-05-07  0.169900  0.142175  0.162357   \n",
       "2   sj  1990          20      1990-05-14  0.032250  0.172967  0.157200   \n",
       "3   sj  1990          21      1990-05-21  0.128633  0.245067  0.227557   \n",
       "4   sj  1990          22      1990-05-28  0.196200  0.262200  0.251200   \n",
       "\n",
       "    ndvi_sw  precipitation_amt_mm  reanalysis_air_temp_k  ...  \\\n",
       "0  0.177617                 12.42             297.572857  ...   \n",
       "1  0.155486                 22.82             298.211429  ...   \n",
       "2  0.170843                 34.54             298.781429  ...   \n",
       "3  0.235886                 15.36             298.987143  ...   \n",
       "4  0.247340                  7.52             299.518571  ...   \n",
       "\n",
       "   reanalysis_relative_humidity_percent  reanalysis_sat_precip_amt_mm  \\\n",
       "0                             73.365714                         12.42   \n",
       "1                             77.368571                         22.82   \n",
       "2                             82.052857                         34.54   \n",
       "3                             80.337143                         15.36   \n",
       "4                             80.460000                          7.52   \n",
       "\n",
       "   reanalysis_specific_humidity_g_per_kg  reanalysis_tdtr_k  \\\n",
       "0                              14.012857           2.628571   \n",
       "1                              15.372857           2.371429   \n",
       "2                              16.848571           2.300000   \n",
       "3                              16.672857           2.428571   \n",
       "4                              17.210000           3.014286   \n",
       "\n",
       "   station_avg_temp_c  station_diur_temp_rng_c  station_max_temp_c  \\\n",
       "0           25.442857                 6.900000                29.4   \n",
       "1           26.714286                 6.371429                31.7   \n",
       "2           26.714286                 6.485714                32.2   \n",
       "3           27.471429                 6.771429                33.3   \n",
       "4           28.942857                 9.371429                35.0   \n",
       "\n",
       "   station_min_temp_c  station_precip_mm  total_cases  \n",
       "0                20.0               16.0            4  \n",
       "1                22.2                8.6            5  \n",
       "2                22.8               41.4            4  \n",
       "3                23.3                4.0            3  \n",
       "4                23.9                5.8            6  \n",
       "\n",
       "[5 rows x 25 columns]"
      ]
     },
     "execution_count": 5,
     "metadata": {},
     "output_type": "execute_result"
    }
   ],
   "source": [
    "merged_train_labels.head()"
   ]
  },
  {
   "cell_type": "markdown",
   "metadata": {},
   "source": [
    "In previous assignment, we saw few outliers and I will be removing those and using the data without outliers in my further analysis."
   ]
  },
  {
   "cell_type": "code",
   "execution_count": 6,
   "metadata": {},
   "outputs": [
    {
     "name": "stdout",
     "output_type": "stream",
     "text": [
      "520\n",
      "7.565384615384615\n",
      "10.765478342208679\n"
     ]
    }
   ],
   "source": [
    "#calculating the z-score of total_cases for city iq\n",
    "city_iq = merged_train_labels[merged_train_labels[\"city\"] == \"iq\"]\n",
    "print(city_iq[\"total_cases\"].count())\n",
    "print(city_iq[\"total_cases\"].mean())\n",
    "print(city_iq[\"total_cases\"].std())"
   ]
  },
  {
   "cell_type": "code",
   "execution_count": 7,
   "metadata": {},
   "outputs": [
    {
     "name": "stdout",
     "output_type": "stream",
     "text": [
      "(array([230, 231, 391, 429, 431, 432, 433], dtype=int64),)\n"
     ]
    }
   ],
   "source": [
    "z_iq = np.abs(stats.zscore(city_iq[\"total_cases\"])) \n",
    "threshold = 3\n",
    "print(np.where(z_iq > 3))"
   ]
  },
  {
   "cell_type": "code",
   "execution_count": 8,
   "metadata": {},
   "outputs": [
    {
     "name": "stdout",
     "output_type": "stream",
     "text": [
      "(513, 25)\n"
     ]
    }
   ],
   "source": [
    "#removing the outliers from city iq\n",
    "oulier_rem_city_iq = city_iq[(z_iq < 3)]\n",
    "print(oulier_rem_city_iq.shape)"
   ]
  },
  {
   "cell_type": "code",
   "execution_count": 9,
   "metadata": {
    "scrolled": true
   },
   "outputs": [
    {
     "name": "stdout",
     "output_type": "stream",
     "text": [
      "936\n",
      "34.18055555555556\n",
      "51.38137249715158\n"
     ]
    }
   ],
   "source": [
    "#calculating the z-score of total_cases for city sj\n",
    "city_sj = merged_train_labels[merged_train_labels[\"city\"] == \"sj\"]\n",
    "print(city_sj[\"total_cases\"].count())\n",
    "print(city_sj[\"total_cases\"].mean())\n",
    "print(city_sj[\"total_cases\"].std())"
   ]
  },
  {
   "cell_type": "code",
   "execution_count": 10,
   "metadata": {},
   "outputs": [
    {
     "name": "stdout",
     "output_type": "stream",
     "text": [
      "(array([227, 228, 229, 230, 231, 232, 233, 234, 235, 236, 237, 238, 239,\n",
      "       240, 428, 429, 430, 431, 432, 433], dtype=int64),)\n"
     ]
    }
   ],
   "source": [
    "z_sj = np.abs(stats.zscore(city_sj[\"total_cases\"]))\n",
    "threshold = 3\n",
    "print(np.where(z_sj > 3))"
   ]
  },
  {
   "cell_type": "code",
   "execution_count": 11,
   "metadata": {},
   "outputs": [
    {
     "name": "stdout",
     "output_type": "stream",
     "text": [
      "(916, 25)\n"
     ]
    }
   ],
   "source": [
    "#removing the outliers from city sj\n",
    "oulier_rem_city_sj = city_sj[(z_sj < 3)]\n",
    "print(oulier_rem_city_sj.shape)"
   ]
  },
  {
   "cell_type": "code",
   "execution_count": 12,
   "metadata": {},
   "outputs": [
    {
     "data": {
      "text/plain": [
       "(1429, 25)"
      ]
     },
     "execution_count": 12,
     "metadata": {},
     "output_type": "execute_result"
    }
   ],
   "source": [
    "#creating a new dataframe without outliers\n",
    "df_without_outliers = pd.concat([oulier_rem_city_iq,oulier_rem_city_sj] )\n",
    "df_without_outliers.shape"
   ]
  },
  {
   "cell_type": "code",
   "execution_count": 13,
   "metadata": {},
   "outputs": [],
   "source": [
    "#create a copy of the original merged dataframe\n",
    "dengue = df_without_outliers.copy()"
   ]
  },
  {
   "cell_type": "markdown",
   "metadata": {},
   "source": [
    "1. Write a brief statement: Is it required to consider the repeating features in the model? (For example: precipitation_amt_mm and reanalysis_sat_precip_amt_mm. Similarly there are others). List which features you will choose in this model. Select the required columns in the dataframe and drop the others."
   ]
  },
  {
   "cell_type": "markdown",
   "metadata": {},
   "source": [
    "### Previous analysis\n",
    "\n",
    "I have extracted the month information from week_start_date and created 3 new columns for capturing the seasonal information combining 4 months together i.e **\"Jan-Apr\", \"May- Aug\" and \"Sep-Dec\"**. So I have dropped existing columns *week_start_date* and *weekofyear* because it will be the repetetive information.\n",
    "\n",
    "I have dropped *year* column in my analysis assuming the year information doesn't impact the number of total_cases of dengue for implementing modeling on this dataset, it can just be useful in analyzing dengue_cases for a particular year.\n",
    "\n",
    "I also dropped below columns having positive or negative relation below .15 with the target variable total_cases,considering the correlation matrix created in previous analysis and few repetitive columns.\n",
    "\n",
    "\"prec_amt_mm\",\"re_an_dew_point_temp_k\",\"re_an_precip_amt_kg_per_m2\",\"re_an_sat_precip_amt_mm\",\"re_an_specific_hd_g_per_kg\",\"stn_avg_temp_c\",\"stn_max_temp_c\",\"stn_precip_mm\"."
   ]
  },
  {
   "cell_type": "code",
   "execution_count": 14,
   "metadata": {},
   "outputs": [
    {
     "data": {
      "text/html": [
       "<div>\n",
       "<style scoped>\n",
       "    .dataframe tbody tr th:only-of-type {\n",
       "        vertical-align: middle;\n",
       "    }\n",
       "\n",
       "    .dataframe tbody tr th {\n",
       "        vertical-align: top;\n",
       "    }\n",
       "\n",
       "    .dataframe thead th {\n",
       "        text-align: right;\n",
       "    }\n",
       "</style>\n",
       "<table border=\"1\" class=\"dataframe\">\n",
       "  <thead>\n",
       "    <tr style=\"text-align: right;\">\n",
       "      <th></th>\n",
       "      <th>city</th>\n",
       "      <th>week_start_date</th>\n",
       "      <th>ndvi_ne</th>\n",
       "      <th>ndvi_nw</th>\n",
       "      <th>ndvi_se</th>\n",
       "      <th>ndvi_sw</th>\n",
       "      <th>reanalysis_air_temp_k</th>\n",
       "      <th>reanalysis_max_air_temp_k</th>\n",
       "      <th>reanalysis_min_air_temp_k</th>\n",
       "      <th>reanalysis_relative_humidity_percent</th>\n",
       "      <th>reanalysis_tdtr_k</th>\n",
       "      <th>station_diur_temp_rng_c</th>\n",
       "      <th>station_min_temp_c</th>\n",
       "      <th>total_cases</th>\n",
       "    </tr>\n",
       "  </thead>\n",
       "  <tbody>\n",
       "    <tr>\n",
       "      <td>936</td>\n",
       "      <td>iq</td>\n",
       "      <td>2000-07-01</td>\n",
       "      <td>0.192886</td>\n",
       "      <td>0.132257</td>\n",
       "      <td>0.340886</td>\n",
       "      <td>0.247200</td>\n",
       "      <td>296.740000</td>\n",
       "      <td>307.3</td>\n",
       "      <td>293.1</td>\n",
       "      <td>92.418571</td>\n",
       "      <td>8.928571</td>\n",
       "      <td>10.775000</td>\n",
       "      <td>20.7</td>\n",
       "      <td>0</td>\n",
       "    </tr>\n",
       "    <tr>\n",
       "      <td>937</td>\n",
       "      <td>iq</td>\n",
       "      <td>2000-07-08</td>\n",
       "      <td>0.216833</td>\n",
       "      <td>0.276100</td>\n",
       "      <td>0.289457</td>\n",
       "      <td>0.241657</td>\n",
       "      <td>296.634286</td>\n",
       "      <td>306.6</td>\n",
       "      <td>291.1</td>\n",
       "      <td>93.581429</td>\n",
       "      <td>10.314286</td>\n",
       "      <td>11.566667</td>\n",
       "      <td>20.8</td>\n",
       "      <td>0</td>\n",
       "    </tr>\n",
       "    <tr>\n",
       "      <td>938</td>\n",
       "      <td>iq</td>\n",
       "      <td>2000-07-15</td>\n",
       "      <td>0.176757</td>\n",
       "      <td>0.173129</td>\n",
       "      <td>0.204114</td>\n",
       "      <td>0.128014</td>\n",
       "      <td>296.415714</td>\n",
       "      <td>304.5</td>\n",
       "      <td>292.6</td>\n",
       "      <td>95.848571</td>\n",
       "      <td>7.385714</td>\n",
       "      <td>11.466667</td>\n",
       "      <td>20.7</td>\n",
       "      <td>0</td>\n",
       "    </tr>\n",
       "    <tr>\n",
       "      <td>939</td>\n",
       "      <td>iq</td>\n",
       "      <td>2000-07-22</td>\n",
       "      <td>0.227729</td>\n",
       "      <td>0.145429</td>\n",
       "      <td>0.254200</td>\n",
       "      <td>0.200314</td>\n",
       "      <td>295.357143</td>\n",
       "      <td>303.6</td>\n",
       "      <td>288.6</td>\n",
       "      <td>87.234286</td>\n",
       "      <td>9.114286</td>\n",
       "      <td>10.533333</td>\n",
       "      <td>14.7</td>\n",
       "      <td>0</td>\n",
       "    </tr>\n",
       "    <tr>\n",
       "      <td>940</td>\n",
       "      <td>iq</td>\n",
       "      <td>2000-07-29</td>\n",
       "      <td>0.328643</td>\n",
       "      <td>0.322129</td>\n",
       "      <td>0.254371</td>\n",
       "      <td>0.361043</td>\n",
       "      <td>296.432857</td>\n",
       "      <td>307.0</td>\n",
       "      <td>291.5</td>\n",
       "      <td>88.161429</td>\n",
       "      <td>9.500000</td>\n",
       "      <td>11.480000</td>\n",
       "      <td>19.1</td>\n",
       "      <td>0</td>\n",
       "    </tr>\n",
       "  </tbody>\n",
       "</table>\n",
       "</div>"
      ],
      "text/plain": [
       "    city week_start_date   ndvi_ne   ndvi_nw   ndvi_se   ndvi_sw  \\\n",
       "936   iq      2000-07-01  0.192886  0.132257  0.340886  0.247200   \n",
       "937   iq      2000-07-08  0.216833  0.276100  0.289457  0.241657   \n",
       "938   iq      2000-07-15  0.176757  0.173129  0.204114  0.128014   \n",
       "939   iq      2000-07-22  0.227729  0.145429  0.254200  0.200314   \n",
       "940   iq      2000-07-29  0.328643  0.322129  0.254371  0.361043   \n",
       "\n",
       "     reanalysis_air_temp_k  reanalysis_max_air_temp_k  \\\n",
       "936             296.740000                      307.3   \n",
       "937             296.634286                      306.6   \n",
       "938             296.415714                      304.5   \n",
       "939             295.357143                      303.6   \n",
       "940             296.432857                      307.0   \n",
       "\n",
       "     reanalysis_min_air_temp_k  reanalysis_relative_humidity_percent  \\\n",
       "936                      293.1                             92.418571   \n",
       "937                      291.1                             93.581429   \n",
       "938                      292.6                             95.848571   \n",
       "939                      288.6                             87.234286   \n",
       "940                      291.5                             88.161429   \n",
       "\n",
       "     reanalysis_tdtr_k  station_diur_temp_rng_c  station_min_temp_c  \\\n",
       "936           8.928571                10.775000                20.7   \n",
       "937          10.314286                11.566667                20.8   \n",
       "938           7.385714                11.466667                20.7   \n",
       "939           9.114286                10.533333                14.7   \n",
       "940           9.500000                11.480000                19.1   \n",
       "\n",
       "     total_cases  \n",
       "936            0  \n",
       "937            0  \n",
       "938            0  \n",
       "939            0  \n",
       "940            0  "
      ]
     },
     "execution_count": 14,
     "metadata": {},
     "output_type": "execute_result"
    }
   ],
   "source": [
    "#dataset from previous assignment\n",
    "previous_dataset_columns = dengue.drop([\"precipitation_amt_mm\",\"reanalysis_sat_precip_amt_mm\",\"reanalysis_dew_point_temp_k\"\n",
    "                                                    ,\"reanalysis_specific_humidity_g_per_kg\",\"reanalysis_precip_amt_kg_per_m2\",\"reanalysis_avg_temp_k\",\n",
    "                                                    \"station_precip_mm\",\"station_max_temp_c\",\"station_avg_temp_c\",\"year\",\"weekofyear\"],axis=1)\n",
    "previous_dataset_columns.head()"
   ]
  },
  {
   "cell_type": "markdown",
   "metadata": {},
   "source": [
    "### Current Analysis\n",
    "\n",
    "There are few columns that seems to be repetitive like reanalysis_min_air_temp_k and station_min_temp_c. I would like to check the correlation of these columns to the target variable total_cases and remove the less related one accordingly. "
   ]
  },
  {
   "cell_type": "code",
   "execution_count": 15,
   "metadata": {
    "scrolled": true
   },
   "outputs": [
    {
     "data": {
      "text/plain": [
       "<matplotlib.axes._subplots.AxesSubplot at 0x20a033c2f88>"
      ]
     },
     "execution_count": 15,
     "metadata": {},
     "output_type": "execute_result"
    },
    {
     "data": {
      "image/png": "[encoded data removed]",
      "text/plain": [
       "<Figure size 1440x1440 with 2 Axes>"
      ]
     },
     "metadata": {
      "needs_background": "light"
     },
     "output_type": "display_data"
    }
   ],
   "source": [
    "f, ax = plt.subplots(figsize=(20,20))\n",
    "sns.heatmap(previous_dataset_columns.corr(), cmap=\"coolwarm\",annot=True,fmt = \".2\" ,linewidths=.3, ax=ax)"
   ]
  },
  {
   "cell_type": "code",
   "execution_count": 16,
   "metadata": {
    "scrolled": false
   },
   "outputs": [
    {
     "data": {
      "text/plain": [
       "total_cases                             1.000000\n",
       "reanalysis_min_air_temp_k               0.430512\n",
       "reanalysis_air_temp_k                   0.339467\n",
       "station_min_temp_c                      0.314665\n",
       "ndvi_se                                -0.201549\n",
       "reanalysis_relative_humidity_percent   -0.202465\n",
       "ndvi_nw                                -0.232438\n",
       "ndvi_sw                                -0.245064\n",
       "reanalysis_max_air_temp_k              -0.275001\n",
       "ndvi_ne                                -0.277485\n",
       "station_diur_temp_rng_c                -0.324019\n",
       "reanalysis_tdtr_k                      -0.373125\n",
       "Name: total_cases, dtype: float64"
      ]
     },
     "execution_count": 16,
     "metadata": {},
     "output_type": "execute_result"
    }
   ],
   "source": [
    "corr = previous_dataset_columns.corr()\n",
    "corr[\"total_cases\"].sort_values(ascending= False)"
   ]
  },
  {
   "cell_type": "markdown",
   "metadata": {},
   "source": [
    "From above correlation matrix, reanalysis_min_air_temp_k seems to be more related to total_cases than station_min_temp_c, so I will proceed dropping station_min_temp_c from further analysis so as to avoid repetition of same information."
   ]
  },
  {
   "cell_type": "code",
   "execution_count": 17,
   "metadata": {
    "scrolled": true
   },
   "outputs": [],
   "source": [
    "current_dataset = previous_dataset_columns.drop([\"station_min_temp_c\"],axis=1)"
   ]
  },
  {
   "cell_type": "markdown",
   "metadata": {},
   "source": [
    "2.Preprocess the data"
   ]
  },
  {
   "cell_type": "markdown",
   "metadata": {},
   "source": [
    "2.A.Convert percentage to value/100 (check which option gives better result, as-is or divided/100)"
   ]
  },
  {
   "cell_type": "code",
   "execution_count": 18,
   "metadata": {},
   "outputs": [],
   "source": [
    "#converting the reanalysis_relative_humidity_percent value to decimal\n",
    "current_dataset[\"reanalysis_relative_humidity_percent\"] = current_dataset[\"reanalysis_relative_humidity_percent\"]/100"
   ]
  },
  {
   "cell_type": "code",
   "execution_count": 19,
   "metadata": {
    "scrolled": true
   },
   "outputs": [
    {
     "data": {
      "text/html": [
       "<div>\n",
       "<style scoped>\n",
       "    .dataframe tbody tr th:only-of-type {\n",
       "        vertical-align: middle;\n",
       "    }\n",
       "\n",
       "    .dataframe tbody tr th {\n",
       "        vertical-align: top;\n",
       "    }\n",
       "\n",
       "    .dataframe thead th {\n",
       "        text-align: right;\n",
       "    }\n",
       "</style>\n",
       "<table border=\"1\" class=\"dataframe\">\n",
       "  <thead>\n",
       "    <tr style=\"text-align: right;\">\n",
       "      <th></th>\n",
       "      <th>city</th>\n",
       "      <th>week_start_date</th>\n",
       "      <th>ndvi_ne</th>\n",
       "      <th>ndvi_nw</th>\n",
       "      <th>ndvi_se</th>\n",
       "      <th>ndvi_sw</th>\n",
       "      <th>reanalysis_air_temp_k</th>\n",
       "      <th>reanalysis_max_air_temp_k</th>\n",
       "      <th>reanalysis_min_air_temp_k</th>\n",
       "      <th>reanalysis_relative_humidity_percent</th>\n",
       "      <th>reanalysis_tdtr_k</th>\n",
       "      <th>station_diur_temp_rng_c</th>\n",
       "      <th>total_cases</th>\n",
       "    </tr>\n",
       "  </thead>\n",
       "  <tbody>\n",
       "    <tr>\n",
       "      <td>936</td>\n",
       "      <td>iq</td>\n",
       "      <td>2000-07-01</td>\n",
       "      <td>0.192886</td>\n",
       "      <td>0.132257</td>\n",
       "      <td>0.340886</td>\n",
       "      <td>0.247200</td>\n",
       "      <td>296.740000</td>\n",
       "      <td>307.3</td>\n",
       "      <td>293.1</td>\n",
       "      <td>0.924186</td>\n",
       "      <td>8.928571</td>\n",
       "      <td>10.775000</td>\n",
       "      <td>0</td>\n",
       "    </tr>\n",
       "    <tr>\n",
       "      <td>937</td>\n",
       "      <td>iq</td>\n",
       "      <td>2000-07-08</td>\n",
       "      <td>0.216833</td>\n",
       "      <td>0.276100</td>\n",
       "      <td>0.289457</td>\n",
       "      <td>0.241657</td>\n",
       "      <td>296.634286</td>\n",
       "      <td>306.6</td>\n",
       "      <td>291.1</td>\n",
       "      <td>0.935814</td>\n",
       "      <td>10.314286</td>\n",
       "      <td>11.566667</td>\n",
       "      <td>0</td>\n",
       "    </tr>\n",
       "  </tbody>\n",
       "</table>\n",
       "</div>"
      ],
      "text/plain": [
       "    city week_start_date   ndvi_ne   ndvi_nw   ndvi_se   ndvi_sw  \\\n",
       "936   iq      2000-07-01  0.192886  0.132257  0.340886  0.247200   \n",
       "937   iq      2000-07-08  0.216833  0.276100  0.289457  0.241657   \n",
       "\n",
       "     reanalysis_air_temp_k  reanalysis_max_air_temp_k  \\\n",
       "936             296.740000                      307.3   \n",
       "937             296.634286                      306.6   \n",
       "\n",
       "     reanalysis_min_air_temp_k  reanalysis_relative_humidity_percent  \\\n",
       "936                      293.1                              0.924186   \n",
       "937                      291.1                              0.935814   \n",
       "\n",
       "     reanalysis_tdtr_k  station_diur_temp_rng_c  total_cases  \n",
       "936           8.928571                10.775000            0  \n",
       "937          10.314286                11.566667            0  "
      ]
     },
     "execution_count": 19,
     "metadata": {},
     "output_type": "execute_result"
    }
   ],
   "source": [
    "current_dataset.head(2)"
   ]
  },
  {
   "cell_type": "markdown",
   "metadata": {},
   "source": [
    "2.B Scale the vegetation features (ndvi*) as 0, 1 (0 <= 0.25 and 1 > 0.25) as it is in scale of 0 to 0.5. Retain as is or use other scaling based on how model performs."
   ]
  },
  {
   "cell_type": "code",
   "execution_count": 20,
   "metadata": {},
   "outputs": [],
   "source": [
    "current_dataset['ndvi_ne'] = np.where(current_dataset[\"ndvi_ne\"] <= 0.25, 0,1) \n",
    "current_dataset['ndvi_nw'] = np.where(current_dataset[\"ndvi_ne\"] <= 0.25, 0,1) \n",
    "current_dataset['ndvi_se'] = np.where(current_dataset[\"ndvi_se\"] <= 0.25, 0,1) \n",
    "current_dataset['ndvi_sw'] = np.where(current_dataset[\"ndvi_sw\"] <= 0.25, 0,1) \n",
    "#df['First Season'] = np.where(df['First Season'] > 1990, 1, df['First Season'])"
   ]
  },
  {
   "cell_type": "code",
   "execution_count": 21,
   "metadata": {},
   "outputs": [
    {
     "data": {
      "text/html": [
       "<div>\n",
       "<style scoped>\n",
       "    .dataframe tbody tr th:only-of-type {\n",
       "        vertical-align: middle;\n",
       "    }\n",
       "\n",
       "    .dataframe tbody tr th {\n",
       "        vertical-align: top;\n",
       "    }\n",
       "\n",
       "    .dataframe thead th {\n",
       "        text-align: right;\n",
       "    }\n",
       "</style>\n",
       "<table border=\"1\" class=\"dataframe\">\n",
       "  <thead>\n",
       "    <tr style=\"text-align: right;\">\n",
       "      <th></th>\n",
       "      <th>city</th>\n",
       "      <th>week_start_date</th>\n",
       "      <th>ndvi_ne</th>\n",
       "      <th>ndvi_nw</th>\n",
       "      <th>ndvi_se</th>\n",
       "      <th>ndvi_sw</th>\n",
       "      <th>reanalysis_air_temp_k</th>\n",
       "      <th>reanalysis_max_air_temp_k</th>\n",
       "      <th>reanalysis_min_air_temp_k</th>\n",
       "      <th>reanalysis_relative_humidity_percent</th>\n",
       "      <th>reanalysis_tdtr_k</th>\n",
       "      <th>station_diur_temp_rng_c</th>\n",
       "      <th>total_cases</th>\n",
       "    </tr>\n",
       "  </thead>\n",
       "  <tbody>\n",
       "    <tr>\n",
       "      <td>936</td>\n",
       "      <td>iq</td>\n",
       "      <td>2000-07-01</td>\n",
       "      <td>0</td>\n",
       "      <td>0</td>\n",
       "      <td>1</td>\n",
       "      <td>0</td>\n",
       "      <td>296.740000</td>\n",
       "      <td>307.3</td>\n",
       "      <td>293.1</td>\n",
       "      <td>0.924186</td>\n",
       "      <td>8.928571</td>\n",
       "      <td>10.775000</td>\n",
       "      <td>0</td>\n",
       "    </tr>\n",
       "    <tr>\n",
       "      <td>937</td>\n",
       "      <td>iq</td>\n",
       "      <td>2000-07-08</td>\n",
       "      <td>0</td>\n",
       "      <td>0</td>\n",
       "      <td>1</td>\n",
       "      <td>0</td>\n",
       "      <td>296.634286</td>\n",
       "      <td>306.6</td>\n",
       "      <td>291.1</td>\n",
       "      <td>0.935814</td>\n",
       "      <td>10.314286</td>\n",
       "      <td>11.566667</td>\n",
       "      <td>0</td>\n",
       "    </tr>\n",
       "  </tbody>\n",
       "</table>\n",
       "</div>"
      ],
      "text/plain": [
       "    city week_start_date  ndvi_ne  ndvi_nw  ndvi_se  ndvi_sw  \\\n",
       "936   iq      2000-07-01        0        0        1        0   \n",
       "937   iq      2000-07-08        0        0        1        0   \n",
       "\n",
       "     reanalysis_air_temp_k  reanalysis_max_air_temp_k  \\\n",
       "936             296.740000                      307.3   \n",
       "937             296.634286                      306.6   \n",
       "\n",
       "     reanalysis_min_air_temp_k  reanalysis_relative_humidity_percent  \\\n",
       "936                      293.1                              0.924186   \n",
       "937                      291.1                              0.935814   \n",
       "\n",
       "     reanalysis_tdtr_k  station_diur_temp_rng_c  total_cases  \n",
       "936           8.928571                10.775000            0  \n",
       "937          10.314286                11.566667            0  "
      ]
     },
     "execution_count": 21,
     "metadata": {},
     "output_type": "execute_result"
    }
   ],
   "source": [
    "current_dataset.head(2)"
   ]
  },
  {
   "cell_type": "markdown",
   "metadata": {},
   "source": [
    "2.C Encode the categorical features"
   ]
  },
  {
   "cell_type": "code",
   "execution_count": 22,
   "metadata": {},
   "outputs": [],
   "source": [
    "#create new columns by extracting the month from week_start_date\n",
    "current_dataset[\"month\"] = pd.to_datetime(current_dataset[\"week_start_date\"]).dt.month\n",
    "current_dataset[\"Jan_Apr\"]= np.where(current_dataset[\"month\"].isin([1,2,3,4]),1,0)\n",
    "current_dataset[\"May_Aug\"]= np.where(current_dataset[\"month\"].isin([5,6,7,8]),1,0)\n",
    "current_dataset[\"Sep_Dec\"]= np.where(current_dataset[\"month\"].isin([9,10,11,12]),1,0)\n",
    "current_dataset = current_dataset.drop([\"month\",\"week_start_date\"],axis =1)"
   ]
  },
  {
   "cell_type": "code",
   "execution_count": 23,
   "metadata": {
    "scrolled": true
   },
   "outputs": [
    {
     "name": "stdout",
     "output_type": "stream",
     "text": [
      "<class 'pandas.core.frame.DataFrame'>\n",
      "Int64Index: 1429 entries, 936 to 935\n",
      "Data columns (total 15 columns):\n",
      "city                                    1429 non-null object\n",
      "ndvi_ne                                 1429 non-null int32\n",
      "ndvi_nw                                 1429 non-null int32\n",
      "ndvi_se                                 1429 non-null int32\n",
      "ndvi_sw                                 1429 non-null int32\n",
      "reanalysis_air_temp_k                   1419 non-null float64\n",
      "reanalysis_max_air_temp_k               1419 non-null float64\n",
      "reanalysis_min_air_temp_k               1419 non-null float64\n",
      "reanalysis_relative_humidity_percent    1419 non-null float64\n",
      "reanalysis_tdtr_k                       1419 non-null float64\n",
      "station_diur_temp_rng_c                 1388 non-null float64\n",
      "total_cases                             1429 non-null int64\n",
      "Jan_Apr                                 1429 non-null int32\n",
      "May_Aug                                 1429 non-null int32\n",
      "Sep_Dec                                 1429 non-null int32\n",
      "dtypes: float64(6), int32(7), int64(1), object(1)\n",
      "memory usage: 139.6+ KB\n"
     ]
    }
   ],
   "source": [
    "current_dataset.info()"
   ]
  },
  {
   "cell_type": "code",
   "execution_count": 24,
   "metadata": {},
   "outputs": [],
   "source": [
    "#Label-Encoding on city attribute\n",
    "le = LabelEncoder() \n",
    "current_dataset['city']= le.fit_transform(current_dataset['city']) "
   ]
  },
  {
   "cell_type": "code",
   "execution_count": 25,
   "metadata": {},
   "outputs": [
    {
     "name": "stdout",
     "output_type": "stream",
     "text": [
      "<class 'pandas.core.frame.DataFrame'>\n",
      "Int64Index: 1429 entries, 936 to 935\n",
      "Data columns (total 15 columns):\n",
      "city                                    1429 non-null category\n",
      "ndvi_ne                                 1429 non-null category\n",
      "ndvi_nw                                 1429 non-null category\n",
      "ndvi_se                                 1429 non-null category\n",
      "ndvi_sw                                 1429 non-null category\n",
      "reanalysis_air_temp_k                   1419 non-null float64\n",
      "reanalysis_max_air_temp_k               1419 non-null float64\n",
      "reanalysis_min_air_temp_k               1419 non-null float64\n",
      "reanalysis_relative_humidity_percent    1419 non-null float64\n",
      "reanalysis_tdtr_k                       1419 non-null float64\n",
      "station_diur_temp_rng_c                 1388 non-null float64\n",
      "total_cases                             1429 non-null int64\n",
      "Jan_Apr                                 1429 non-null category\n",
      "May_Aug                                 1429 non-null category\n",
      "Sep_Dec                                 1429 non-null category\n",
      "dtypes: category(8), float64(6), int64(1)\n",
      "memory usage: 101.2 KB\n"
     ]
    }
   ],
   "source": [
    "current_dataset.city = current_dataset[\"city\"].astype(\"category\")\n",
    "current_dataset.Jan_Apr = current_dataset[\"Jan_Apr\"].astype(\"category\")\n",
    "current_dataset.May_Aug = current_dataset[\"May_Aug\"].astype(\"category\")\n",
    "current_dataset.Sep_Dec = current_dataset[\"Sep_Dec\"].astype(\"category\")\n",
    "current_dataset.ndvi_ne = current_dataset[\"ndvi_ne\"].astype(\"category\")\n",
    "current_dataset.ndvi_nw = current_dataset[\"ndvi_nw\"].astype(\"category\")\n",
    "current_dataset.ndvi_se = current_dataset[\"ndvi_se\"].astype(\"category\")\n",
    "current_dataset.ndvi_sw = current_dataset[\"ndvi_sw\"].astype(\"category\")\n",
    "current_dataset.info()"
   ]
  },
  {
   "cell_type": "markdown",
   "metadata": {},
   "source": [
    "2.D Abbreviate the column names"
   ]
  },
  {
   "cell_type": "code",
   "execution_count": 26,
   "metadata": {},
   "outputs": [],
   "source": [
    "#changing the column names\n",
    "current_dataset.columns = current_dataset.columns.str.replace(\"station\",\"stn\")\n",
    "current_dataset.columns = current_dataset.columns.str.replace(\"reanalysis\",\"re_an\")\n",
    "current_dataset.columns = current_dataset.columns.str.replace(\"humidity\",\"hd\")\n",
    "current_dataset.columns = current_dataset.columns.str.replace(\"precipitation\",\"prec\")"
   ]
  },
  {
   "cell_type": "markdown",
   "metadata": {},
   "source": [
    "2.E Standardize the numerical features"
   ]
  },
  {
   "cell_type": "code",
   "execution_count": 27,
   "metadata": {},
   "outputs": [],
   "source": [
    "#create a dataframe for numerical attribute\n",
    "dengue_num = current_dataset.drop([\"city\",\"Jan_Apr\",\"May_Aug\",\"Sep_Dec\",\"ndvi_ne\",\"ndvi_nw\",\"ndvi_se\",\"ndvi_sw\",\"total_cases\"], axis =1)"
   ]
  },
  {
   "cell_type": "code",
   "execution_count": 28,
   "metadata": {},
   "outputs": [
    {
     "data": {
      "text/html": [
       "<div>\n",
       "<style scoped>\n",
       "    .dataframe tbody tr th:only-of-type {\n",
       "        vertical-align: middle;\n",
       "    }\n",
       "\n",
       "    .dataframe tbody tr th {\n",
       "        vertical-align: top;\n",
       "    }\n",
       "\n",
       "    .dataframe thead th {\n",
       "        text-align: right;\n",
       "    }\n",
       "</style>\n",
       "<table border=\"1\" class=\"dataframe\">\n",
       "  <thead>\n",
       "    <tr style=\"text-align: right;\">\n",
       "      <th></th>\n",
       "      <th>0</th>\n",
       "      <th>1</th>\n",
       "      <th>2</th>\n",
       "      <th>3</th>\n",
       "      <th>4</th>\n",
       "      <th>5</th>\n",
       "    </tr>\n",
       "  </thead>\n",
       "  <tbody>\n",
       "    <tr>\n",
       "      <td>0</td>\n",
       "      <td>-1.429226</td>\n",
       "      <td>1.195519</td>\n",
       "      <td>-1.012560</td>\n",
       "      <td>1.432092</td>\n",
       "      <td>1.129120</td>\n",
       "      <td>1.265491</td>\n",
       "    </tr>\n",
       "    <tr>\n",
       "      <td>1</td>\n",
       "      <td>-1.506709</td>\n",
       "      <td>0.979471</td>\n",
       "      <td>-1.791536</td>\n",
       "      <td>1.594100</td>\n",
       "      <td>1.519524</td>\n",
       "      <td>1.636138</td>\n",
       "    </tr>\n",
       "    <tr>\n",
       "      <td>2</td>\n",
       "      <td>-1.666911</td>\n",
       "      <td>0.331326</td>\n",
       "      <td>-1.207304</td>\n",
       "      <td>1.909956</td>\n",
       "      <td>0.694444</td>\n",
       "      <td>1.589319</td>\n",
       "    </tr>\n",
       "    <tr>\n",
       "      <td>3</td>\n",
       "      <td>-2.442789</td>\n",
       "      <td>0.053550</td>\n",
       "      <td>-2.765257</td>\n",
       "      <td>0.709823</td>\n",
       "      <td>1.181442</td>\n",
       "      <td>1.152347</td>\n",
       "    </tr>\n",
       "    <tr>\n",
       "      <td>4</td>\n",
       "      <td>-1.654346</td>\n",
       "      <td>1.102927</td>\n",
       "      <td>-1.635741</td>\n",
       "      <td>0.838992</td>\n",
       "      <td>1.290111</td>\n",
       "      <td>1.595562</td>\n",
       "    </tr>\n",
       "    <tr>\n",
       "      <td>...</td>\n",
       "      <td>...</td>\n",
       "      <td>...</td>\n",
       "      <td>...</td>\n",
       "      <td>...</td>\n",
       "      <td>...</td>\n",
       "      <td>...</td>\n",
       "    </tr>\n",
       "    <tr>\n",
       "      <td>1424</td>\n",
       "      <td>-1.269025</td>\n",
       "      <td>-1.150148</td>\n",
       "      <td>-0.506225</td>\n",
       "      <td>-1.099531</td>\n",
       "      <td>-0.573363</td>\n",
       "      <td>-1.070416</td>\n",
       "    </tr>\n",
       "    <tr>\n",
       "      <td>1425</td>\n",
       "      <td>-0.446029</td>\n",
       "      <td>-1.119284</td>\n",
       "      <td>0.311700</td>\n",
       "      <td>-1.050372</td>\n",
       "      <td>-0.621660</td>\n",
       "      <td>-0.588854</td>\n",
       "    </tr>\n",
       "    <tr>\n",
       "      <td>1426</td>\n",
       "      <td>-0.901504</td>\n",
       "      <td>-1.242740</td>\n",
       "      <td>0.039059</td>\n",
       "      <td>-0.990862</td>\n",
       "      <td>-0.770577</td>\n",
       "      <td>-1.103858</td>\n",
       "    </tr>\n",
       "    <tr>\n",
       "      <td>1427</td>\n",
       "      <td>-0.776903</td>\n",
       "      <td>-1.150148</td>\n",
       "      <td>0.078007</td>\n",
       "      <td>-1.372795</td>\n",
       "      <td>-0.601536</td>\n",
       "      <td>-0.856388</td>\n",
       "    </tr>\n",
       "    <tr>\n",
       "      <td>1428</td>\n",
       "      <td>-0.012543</td>\n",
       "      <td>-0.779779</td>\n",
       "      <td>0.078007</td>\n",
       "      <td>-0.721579</td>\n",
       "      <td>-0.271504</td>\n",
       "      <td>-0.261125</td>\n",
       "    </tr>\n",
       "  </tbody>\n",
       "</table>\n",
       "<p>1429 rows × 6 columns</p>\n",
       "</div>"
      ],
      "text/plain": [
       "             0         1         2         3         4         5\n",
       "0    -1.429226  1.195519 -1.012560  1.432092  1.129120  1.265491\n",
       "1    -1.506709  0.979471 -1.791536  1.594100  1.519524  1.636138\n",
       "2    -1.666911  0.331326 -1.207304  1.909956  0.694444  1.589319\n",
       "3    -2.442789  0.053550 -2.765257  0.709823  1.181442  1.152347\n",
       "4    -1.654346  1.102927 -1.635741  0.838992  1.290111  1.595562\n",
       "...        ...       ...       ...       ...       ...       ...\n",
       "1424 -1.269025 -1.150148 -0.506225 -1.099531 -0.573363 -1.070416\n",
       "1425 -0.446029 -1.119284  0.311700 -1.050372 -0.621660 -0.588854\n",
       "1426 -0.901504 -1.242740  0.039059 -0.990862 -0.770577 -1.103858\n",
       "1427 -0.776903 -1.150148  0.078007 -1.372795 -0.601536 -0.856388\n",
       "1428 -0.012543 -0.779779  0.078007 -0.721579 -0.271504 -0.261125\n",
       "\n",
       "[1429 rows x 6 columns]"
      ]
     },
     "execution_count": 28,
     "metadata": {},
     "output_type": "execute_result"
    }
   ],
   "source": [
    "# Standardize the numerical attributes\n",
    "sd = StandardScaler()\n",
    "std_dataset = pd.DataFrame(sd.fit_transform(dengue_num))\n",
    "std_dataset"
   ]
  },
  {
   "cell_type": "code",
   "execution_count": 29,
   "metadata": {},
   "outputs": [
    {
     "data": {
      "text/html": [
       "<div>\n",
       "<style scoped>\n",
       "    .dataframe tbody tr th:only-of-type {\n",
       "        vertical-align: middle;\n",
       "    }\n",
       "\n",
       "    .dataframe tbody tr th {\n",
       "        vertical-align: top;\n",
       "    }\n",
       "\n",
       "    .dataframe thead th {\n",
       "        text-align: right;\n",
       "    }\n",
       "</style>\n",
       "<table border=\"1\" class=\"dataframe\">\n",
       "  <thead>\n",
       "    <tr style=\"text-align: right;\">\n",
       "      <th></th>\n",
       "      <th>re_an_air_temp_k</th>\n",
       "      <th>re_an_max_air_temp_k</th>\n",
       "      <th>re_an_min_air_temp_k</th>\n",
       "      <th>re_an_relative_hd_percent</th>\n",
       "      <th>re_an_tdtr_k</th>\n",
       "      <th>stn_diur_temp_rng_c</th>\n",
       "    </tr>\n",
       "  </thead>\n",
       "  <tbody>\n",
       "    <tr>\n",
       "      <td>0</td>\n",
       "      <td>-1.429226</td>\n",
       "      <td>1.195519</td>\n",
       "      <td>-1.012560</td>\n",
       "      <td>1.432092</td>\n",
       "      <td>1.129120</td>\n",
       "      <td>1.265491</td>\n",
       "    </tr>\n",
       "    <tr>\n",
       "      <td>1</td>\n",
       "      <td>-1.506709</td>\n",
       "      <td>0.979471</td>\n",
       "      <td>-1.791536</td>\n",
       "      <td>1.594100</td>\n",
       "      <td>1.519524</td>\n",
       "      <td>1.636138</td>\n",
       "    </tr>\n",
       "  </tbody>\n",
       "</table>\n",
       "</div>"
      ],
      "text/plain": [
       "   re_an_air_temp_k  re_an_max_air_temp_k  re_an_min_air_temp_k  \\\n",
       "0         -1.429226              1.195519             -1.012560   \n",
       "1         -1.506709              0.979471             -1.791536   \n",
       "\n",
       "   re_an_relative_hd_percent  re_an_tdtr_k  stn_diur_temp_rng_c  \n",
       "0                   1.432092      1.129120             1.265491  \n",
       "1                   1.594100      1.519524             1.636138  "
      ]
     },
     "execution_count": 29,
     "metadata": {},
     "output_type": "execute_result"
    }
   ],
   "source": [
    "# assigning the columnn names\n",
    "std_dataset.columns = dengue_num.columns\n",
    "std_dataset.head(2)"
   ]
  },
  {
   "cell_type": "markdown",
   "metadata": {},
   "source": [
    "2.F Handle NaNs (either fill them with Median values or make a better choice if available)"
   ]
  },
  {
   "cell_type": "code",
   "execution_count": 30,
   "metadata": {
    "scrolled": false
   },
   "outputs": [
    {
     "data": {
      "text/plain": [
       "re_an_air_temp_k             10\n",
       "re_an_max_air_temp_k         10\n",
       "re_an_min_air_temp_k         10\n",
       "re_an_relative_hd_percent    10\n",
       "re_an_tdtr_k                 10\n",
       "stn_diur_temp_rng_c          41\n",
       "dtype: int64"
      ]
     },
     "execution_count": 30,
     "metadata": {},
     "output_type": "execute_result"
    }
   ],
   "source": [
    "std_dataset.isnull().sum()"
   ]
  },
  {
   "cell_type": "markdown",
   "metadata": {},
   "source": [
    "I have tried handling the missing values using mean, median and imputation using KNN, the best MAE I achieved is using mean."
   ]
  },
  {
   "cell_type": "code",
   "execution_count": 31,
   "metadata": {},
   "outputs": [],
   "source": [
    "# from sklearn.impute import KNNImputer\n",
    "# imputer = KNNImputer(n_neighbors=2)\n",
    "# std_dataset = imputer.fit_transform(std_dataset)\n",
    "# # std_dataset = std_dataset.fillna(imputer)\n",
    "# std_dataset\n",
    "#std_dataset = std_dataset.fillna(std_dataset.median())\n",
    "# std_dataset = pd.DataFrame(std_dataset)\n",
    "# type(std_dataset)\n",
    "# std_dataset.head()\n",
    "# std_dataset.columns = dengue_num.columns\n"
   ]
  },
  {
   "cell_type": "code",
   "execution_count": 32,
   "metadata": {},
   "outputs": [],
   "source": [
    "std_dataset = std_dataset.fillna(std_dataset.mean())"
   ]
  },
  {
   "cell_type": "code",
   "execution_count": 33,
   "metadata": {},
   "outputs": [
    {
     "name": "stdout",
     "output_type": "stream",
     "text": [
      "<class 'pandas.core.frame.DataFrame'>\n",
      "RangeIndex: 1429 entries, 0 to 1428\n",
      "Data columns (total 6 columns):\n",
      "re_an_air_temp_k             1429 non-null float64\n",
      "re_an_max_air_temp_k         1429 non-null float64\n",
      "re_an_min_air_temp_k         1429 non-null float64\n",
      "re_an_relative_hd_percent    1429 non-null float64\n",
      "re_an_tdtr_k                 1429 non-null float64\n",
      "stn_diur_temp_rng_c          1429 non-null float64\n",
      "dtypes: float64(6)\n",
      "memory usage: 67.1 KB\n"
     ]
    }
   ],
   "source": [
    "std_dataset.info()"
   ]
  },
  {
   "cell_type": "code",
   "execution_count": 34,
   "metadata": {
    "scrolled": true
   },
   "outputs": [
    {
     "name": "stderr",
     "output_type": "stream",
     "text": [
      "C:\\ProgramData\\Anaconda3\\lib\\site-packages\\ipykernel_launcher.py:1: UserWarning: Pandas doesn't allow columns to be created via a new attribute name - see https://pandas.pydata.org/pandas-docs/stable/indexing.html#attribute-access\n",
      "  \"\"\"Entry point for launching an IPython kernel.\n"
     ]
    }
   ],
   "source": [
    "std_dataset.ndvi_nw = std_dataset[\"re_an_air_temp_k\"].astype(\"float64\")"
   ]
  },
  {
   "cell_type": "code",
   "execution_count": 35,
   "metadata": {},
   "outputs": [],
   "source": [
    "# extract categorical and target columns\n",
    "cat_dataset= current_dataset[['city','Jan_Apr','May_Aug','Sep_Dec','ndvi_sw','ndvi_se','ndvi_nw','ndvi_ne','total_cases']]\n",
    "#setting the same index for numeraical and categorical dataframe \n",
    "cat_dataset.index = std_dataset.index"
   ]
  },
  {
   "cell_type": "code",
   "execution_count": 36,
   "metadata": {
    "scrolled": true
   },
   "outputs": [
    {
     "name": "stdout",
     "output_type": "stream",
     "text": [
      "<class 'pandas.core.frame.DataFrame'>\n",
      "RangeIndex: 1429 entries, 0 to 1428\n",
      "Data columns (total 15 columns):\n",
      "re_an_air_temp_k             1429 non-null float64\n",
      "re_an_max_air_temp_k         1429 non-null float64\n",
      "re_an_min_air_temp_k         1429 non-null float64\n",
      "re_an_relative_hd_percent    1429 non-null float64\n",
      "re_an_tdtr_k                 1429 non-null float64\n",
      "stn_diur_temp_rng_c          1429 non-null float64\n",
      "city                         1429 non-null category\n",
      "Jan_Apr                      1429 non-null category\n",
      "May_Aug                      1429 non-null category\n",
      "Sep_Dec                      1429 non-null category\n",
      "ndvi_sw                      1429 non-null category\n",
      "ndvi_se                      1429 non-null category\n",
      "ndvi_nw                      1429 non-null category\n",
      "ndvi_ne                      1429 non-null category\n",
      "total_cases                  1429 non-null int64\n",
      "dtypes: category(8), float64(6), int64(1)\n",
      "memory usage: 90.2 KB\n"
     ]
    }
   ],
   "source": [
    "#concat the numerical, categorical and target attributes after transformations\n",
    "final_df = pd.concat([std_dataset,cat_dataset],axis=1)\n",
    "final_df.info()"
   ]
  },
  {
   "cell_type": "code",
   "execution_count": 37,
   "metadata": {
    "scrolled": true
   },
   "outputs": [
    {
     "data": {
      "text/html": [
       "<div>\n",
       "<style scoped>\n",
       "    .dataframe tbody tr th:only-of-type {\n",
       "        vertical-align: middle;\n",
       "    }\n",
       "\n",
       "    .dataframe tbody tr th {\n",
       "        vertical-align: top;\n",
       "    }\n",
       "\n",
       "    .dataframe thead th {\n",
       "        text-align: right;\n",
       "    }\n",
       "</style>\n",
       "<table border=\"1\" class=\"dataframe\">\n",
       "  <thead>\n",
       "    <tr style=\"text-align: right;\">\n",
       "      <th></th>\n",
       "      <th>re_an_air_temp_k</th>\n",
       "      <th>re_an_max_air_temp_k</th>\n",
       "      <th>re_an_min_air_temp_k</th>\n",
       "      <th>re_an_relative_hd_percent</th>\n",
       "      <th>re_an_tdtr_k</th>\n",
       "      <th>stn_diur_temp_rng_c</th>\n",
       "      <th>city</th>\n",
       "      <th>Jan_Apr</th>\n",
       "      <th>May_Aug</th>\n",
       "      <th>Sep_Dec</th>\n",
       "      <th>ndvi_sw</th>\n",
       "      <th>ndvi_se</th>\n",
       "      <th>ndvi_nw</th>\n",
       "      <th>ndvi_ne</th>\n",
       "      <th>total_cases</th>\n",
       "    </tr>\n",
       "  </thead>\n",
       "  <tbody>\n",
       "    <tr>\n",
       "      <td>0</td>\n",
       "      <td>-1.429226</td>\n",
       "      <td>1.195519</td>\n",
       "      <td>-1.012560</td>\n",
       "      <td>1.432092</td>\n",
       "      <td>1.129120</td>\n",
       "      <td>1.265491</td>\n",
       "      <td>0</td>\n",
       "      <td>0</td>\n",
       "      <td>1</td>\n",
       "      <td>0</td>\n",
       "      <td>0</td>\n",
       "      <td>1</td>\n",
       "      <td>0</td>\n",
       "      <td>0</td>\n",
       "      <td>0</td>\n",
       "    </tr>\n",
       "    <tr>\n",
       "      <td>1</td>\n",
       "      <td>-1.506709</td>\n",
       "      <td>0.979471</td>\n",
       "      <td>-1.791536</td>\n",
       "      <td>1.594100</td>\n",
       "      <td>1.519524</td>\n",
       "      <td>1.636138</td>\n",
       "      <td>0</td>\n",
       "      <td>0</td>\n",
       "      <td>1</td>\n",
       "      <td>0</td>\n",
       "      <td>0</td>\n",
       "      <td>1</td>\n",
       "      <td>0</td>\n",
       "      <td>0</td>\n",
       "      <td>0</td>\n",
       "    </tr>\n",
       "    <tr>\n",
       "      <td>2</td>\n",
       "      <td>-1.666911</td>\n",
       "      <td>0.331326</td>\n",
       "      <td>-1.207304</td>\n",
       "      <td>1.909956</td>\n",
       "      <td>0.694444</td>\n",
       "      <td>1.589319</td>\n",
       "      <td>0</td>\n",
       "      <td>0</td>\n",
       "      <td>1</td>\n",
       "      <td>0</td>\n",
       "      <td>0</td>\n",
       "      <td>0</td>\n",
       "      <td>0</td>\n",
       "      <td>0</td>\n",
       "      <td>0</td>\n",
       "    </tr>\n",
       "    <tr>\n",
       "      <td>3</td>\n",
       "      <td>-2.442789</td>\n",
       "      <td>0.053550</td>\n",
       "      <td>-2.765257</td>\n",
       "      <td>0.709823</td>\n",
       "      <td>1.181442</td>\n",
       "      <td>1.152347</td>\n",
       "      <td>0</td>\n",
       "      <td>0</td>\n",
       "      <td>1</td>\n",
       "      <td>0</td>\n",
       "      <td>0</td>\n",
       "      <td>1</td>\n",
       "      <td>0</td>\n",
       "      <td>0</td>\n",
       "      <td>0</td>\n",
       "    </tr>\n",
       "    <tr>\n",
       "      <td>4</td>\n",
       "      <td>-1.654346</td>\n",
       "      <td>1.102927</td>\n",
       "      <td>-1.635741</td>\n",
       "      <td>0.838992</td>\n",
       "      <td>1.290111</td>\n",
       "      <td>1.595562</td>\n",
       "      <td>0</td>\n",
       "      <td>0</td>\n",
       "      <td>1</td>\n",
       "      <td>0</td>\n",
       "      <td>1</td>\n",
       "      <td>1</td>\n",
       "      <td>1</td>\n",
       "      <td>1</td>\n",
       "      <td>0</td>\n",
       "    </tr>\n",
       "  </tbody>\n",
       "</table>\n",
       "</div>"
      ],
      "text/plain": [
       "   re_an_air_temp_k  re_an_max_air_temp_k  re_an_min_air_temp_k  \\\n",
       "0         -1.429226              1.195519             -1.012560   \n",
       "1         -1.506709              0.979471             -1.791536   \n",
       "2         -1.666911              0.331326             -1.207304   \n",
       "3         -2.442789              0.053550             -2.765257   \n",
       "4         -1.654346              1.102927             -1.635741   \n",
       "\n",
       "   re_an_relative_hd_percent  re_an_tdtr_k  stn_diur_temp_rng_c city Jan_Apr  \\\n",
       "0                   1.432092      1.129120             1.265491    0       0   \n",
       "1                   1.594100      1.519524             1.636138    0       0   \n",
       "2                   1.909956      0.694444             1.589319    0       0   \n",
       "3                   0.709823      1.181442             1.152347    0       0   \n",
       "4                   0.838992      1.290111             1.595562    0       0   \n",
       "\n",
       "  May_Aug Sep_Dec ndvi_sw ndvi_se ndvi_nw ndvi_ne  total_cases  \n",
       "0       1       0       0       1       0       0            0  \n",
       "1       1       0       0       1       0       0            0  \n",
       "2       1       0       0       0       0       0            0  \n",
       "3       1       0       0       1       0       0            0  \n",
       "4       1       0       1       1       1       1            0  "
      ]
     },
     "execution_count": 37,
     "metadata": {},
     "output_type": "execute_result"
    }
   ],
   "source": [
    "final_df.head()"
   ]
  },
  {
   "cell_type": "code",
   "execution_count": 38,
   "metadata": {},
   "outputs": [
    {
     "data": {
      "text/plain": [
       "(1429, 15)"
      ]
     },
     "execution_count": 38,
     "metadata": {},
     "output_type": "execute_result"
    }
   ],
   "source": [
    "final_df.shape"
   ]
  },
  {
   "cell_type": "markdown",
   "metadata": {},
   "source": [
    "2.G Make an 80-20 train-test split"
   ]
  },
  {
   "cell_type": "code",
   "execution_count": 39,
   "metadata": {},
   "outputs": [],
   "source": [
    "#performing stratified split on city to maintain the ratio of records for city sj and iq in train and test dataset\n",
    "split = StratifiedShuffleSplit(n_splits=1,test_size=0.2,random_state=42)\n",
    "for train_index, test_index in split.split(final_df,final_df[\"city\"]):\n",
    "    strat_train_set = final_df.loc[train_index]\n",
    "    strat_test_set = final_df.loc[test_index]"
   ]
  },
  {
   "cell_type": "code",
   "execution_count": 40,
   "metadata": {
    "scrolled": true
   },
   "outputs": [
    {
     "name": "stdout",
     "output_type": "stream",
     "text": [
      "1    0.641295\n",
      "0    0.358705\n",
      "Name: city, dtype: float64\n",
      "1    0.63986\n",
      "0    0.36014\n",
      "Name: city, dtype: float64\n"
     ]
    }
   ],
   "source": [
    "#verifying the ratio \n",
    "print(strat_train_set[\"city\"].value_counts()/len(strat_train_set)) \n",
    "print(strat_test_set[\"city\"].value_counts()/len(strat_test_set)) "
   ]
  },
  {
   "cell_type": "code",
   "execution_count": 41,
   "metadata": {},
   "outputs": [
    {
     "name": "stdout",
     "output_type": "stream",
     "text": [
      "train : (1143, 14)\n",
      "train_target : (1143,)\n",
      "test : (286, 14)\n",
      "test_target : (286,)\n"
     ]
    }
   ],
   "source": [
    "# drop the target coulmn and create a target variable dataframe separately\n",
    "train = strat_train_set.drop(\"total_cases\", axis = 1)\n",
    "train_target = strat_train_set[\"total_cases\"].copy()\n",
    "test = strat_test_set.drop(\"total_cases\", axis = 1)\n",
    "test_target = strat_test_set[\"total_cases\"].copy()\n",
    "print(\"train :\",train.shape)\n",
    "print(\"train_target :\",train_target.shape)\n",
    "print(\"test :\",test.shape)\n",
    "print(\"test_target :\",test_target.shape)"
   ]
  },
  {
   "cell_type": "markdown",
   "metadata": {},
   "source": [
    "3. Build a Linear SVR regressor, train the model\n",
    "\n",
    "A. Evaluate your model based on applicable metrics. Show the metric(s) you chose and why you chose this(these) metrics."
   ]
  },
  {
   "cell_type": "code",
   "execution_count": 42,
   "metadata": {},
   "outputs": [
    {
     "data": {
      "text/plain": [
       "LinearSVR(C=1.0, dual=True, epsilon=0.0, fit_intercept=True,\n",
       "          intercept_scaling=1.0, loss='epsilon_insensitive', max_iter=1000,\n",
       "          random_state=None, tol=0.0001, verbose=0)"
      ]
     },
     "execution_count": 42,
     "metadata": {},
     "output_type": "execute_result"
    }
   ],
   "source": [
    "svr_linearreg = LinearSVR()\n",
    "svr_linearreg.fit(train,train_target)"
   ]
  },
  {
   "cell_type": "code",
   "execution_count": 43,
   "metadata": {},
   "outputs": [],
   "source": [
    "# predictions on target data\n",
    "dengue_predictions_svr =  svr_linearreg.predict(test)"
   ]
  },
  {
   "cell_type": "code",
   "execution_count": 44,
   "metadata": {},
   "outputs": [
    {
     "name": "stdout",
     "output_type": "stream",
     "text": [
      "mean absolute error: 14.846116207427633\n"
     ]
    }
   ],
   "source": [
    "#calculating the mean absolute error\n",
    "svr_mae = mean_absolute_error(test_target,dengue_predictions_svr)\n",
    "print(\"mean absolute error:\",svr_mae)\n",
    "#svr_mse = mean_squared_error(test_target,dengue_predictions_svr)\n",
    "#svr_rmse = np.sqrt(svr_mse)\n",
    "#r2score = r2_score(test_target,dengue_predictions_svr)"
   ]
  },
  {
   "cell_type": "markdown",
   "metadata": {},
   "source": [
    "\n",
    "I have considered Mean Absolute Error as the evaluation metrics for the model LInearSVR used above.It is because it will consider the equal weight of all individual difference between prectiction and actual observation of total cases.And since our target attribute,total_cases is a continuous variable for the prediction of which we will be calculating the accuracy using the regression model. This helps in quantifying our results properly. "
   ]
  },
  {
   "cell_type": "markdown",
   "metadata": {},
   "source": [
    "3.B List the hyper-parameters that can be tuned in Linear SVR. Explain the meaning of each hyper-parameter. Show the code along with comments on the parameter value chosen (use class presentation, discussion notes, some online reading) and why this value was chosen. Show the improvement you achieved in model accuracy."
   ]
  },
  {
   "cell_type": "markdown",
   "metadata": {},
   "source": [
    "*The hyper-parameters that can be tuned in Linear SVR are:-*\n",
    "    \n",
    "epsilon - The value of epsilon defines the margin of tolerance where no penalty is given to the errors.It controls the width of the street and denotes how much error we allow per training data instance.\n",
    "\n",
    "C - C parameter is used to find a good balance between keeping the street as large as possible and limiting the margin violations.C  defines the weight of how much samples inside the margin contribute to the overall error.The bigger this parameter, the less regularization is used.\n",
    "\n",
    "tol-It is a stopping criteria, the model stop searching for a minimum once some tolerance is achieved, i.e. once you're close enough.\n",
    "\n",
    "loss- The loss is measured based on the distance between observed value y and the ε boundary.\n",
    "\n",
    "max_iter- The maximum number of iterations to be run.\n",
    "\n",
    "fit_intercept- If set to true,it will calculate the intercept for this model.\n",
    "\n",
    "intercept_scaling - When self.fit_intercept is True, instance vector x becomes [x, self.intercept_scaling],i.e. a \"synthetic\" feature with constant value equals to intercept_scaling is appended to the instance vector.\n",
    "\n",
    "verbose - Enable verbose output. \n",
    "\n",
    "random_state - The seed of the pseudo random number generator to use when shuffling the data.\n",
    "\n",
    "dual -  Prefer dual=False when n_samples > n_features."
   ]
  },
  {
   "cell_type": "markdown",
   "metadata": {},
   "source": [
    "To perform tuning of hyperparameters, I have used grid search to find the best estimators using multiple set of values."
   ]
  },
  {
   "cell_type": "code",
   "execution_count": 45,
   "metadata": {
    "scrolled": true
   },
   "outputs": [],
   "source": [
    "# param_grid_LinearSVR = [\n",
    "#         {\"epsilon\" :[0.8,1,1.5,1.6], \n",
    "#          \"C\" : [5,5.2,10,100],\n",
    "# #          \"tol\" :[0.1,0.15],\n",
    "#          \"loss\" : ['squared_epsilon_insensitive','epsilon_insensitive'],\n",
    "         \n",
    "#         }]\n",
    "# # \n",
    "# #\"max_iter\" :[10,50,100]\n",
    "# grid1 = GridSearchCV(svr_linearreg, param_grid_LinearSVR,scoring = \"neg_mean_absolute_error\",\n",
    "#                     return_train_score= True)\n",
    "# grid1.fit(train,train_target)        \n"
   ]
  },
  {
   "cell_type": "code",
   "execution_count": 46,
   "metadata": {},
   "outputs": [],
   "source": [
    "# # summarize the results of the grid search\n",
    "# print(grid1.best_score_)\n",
    "# print(grid1.best_params_)"
   ]
  },
  {
   "cell_type": "code",
   "execution_count": 47,
   "metadata": {},
   "outputs": [
    {
     "data": {
      "text/plain": [
       "LinearSVR(C=5.2, dual=True, epsilon=0.8, fit_intercept=True,\n",
       "          intercept_scaling=1.0, loss='epsilon_insensitive', max_iter=1000,\n",
       "          random_state=None, tol=0.0001, verbose=0)"
      ]
     },
     "execution_count": 47,
     "metadata": {},
     "output_type": "execute_result"
    }
   ],
   "source": [
    "svr_linearreg = LinearSVR(C =5.2, epsilon = 0.8, loss = 'epsilon_insensitive')\n",
    "svr_linearreg.fit(train,train_target)"
   ]
  },
  {
   "cell_type": "code",
   "execution_count": 48,
   "metadata": {},
   "outputs": [
    {
     "name": "stdout",
     "output_type": "stream",
     "text": [
      "mean absolute error: 14.796736480435259\n"
     ]
    }
   ],
   "source": [
    "# predictions on target data\n",
    "dengue_predictions_svr =  svr_linearreg.predict(test)\n",
    "svr_mae = mean_absolute_error(test_target,dengue_predictions_svr)\n",
    "print(\"mean absolute error:\",svr_mae)"
   ]
  },
  {
   "cell_type": "markdown",
   "metadata": {},
   "source": [
    "**There is a slight improvment achieved in the model by using the hyperparameters.The MAE has decreased**"
   ]
  },
  {
   "cell_type": "markdown",
   "metadata": {},
   "source": [
    "3.C Plot Learning curve and provide insights\n"
   ]
  },
  {
   "cell_type": "code",
   "execution_count": 49,
   "metadata": {},
   "outputs": [],
   "source": [
    "train_set_size, train_error,cv_error= learning_curve(svr_linearreg,train,train_target,cv=2,\n",
    "                                            train_sizes= np.linspace(0.01, 1.0, 50),\n",
    "                                            scoring = \"neg_mean_absolute_error\")"
   ]
  },
  {
   "cell_type": "code",
   "execution_count": 50,
   "metadata": {},
   "outputs": [],
   "source": [
    "train_errs_mean = -train_error.mean(axis = 1)\n",
    "cv_errs_mean = -cv_error.mean(axis = 1)"
   ]
  },
  {
   "cell_type": "code",
   "execution_count": 51,
   "metadata": {
    "scrolled": true
   },
   "outputs": [
    {
     "data": {
      "image/png": "[encoded data removed]",
      "text/plain": [
       "<Figure size 576x396 with 1 Axes>"
      ]
     },
     "metadata": {},
     "output_type": "display_data"
    }
   ],
   "source": [
    "plt.style.use('seaborn')\n",
    "plt.plot(train_set_size,train_errs_mean,\"g-\", label = 'Training error')\n",
    "plt.plot(train_set_size, cv_errs_mean,\"--m\", label = 'Validation error')\n",
    "plt.ylabel('MAE', fontsize = 14)\n",
    "plt.xlabel('Training set size', fontsize = 14)\n",
    "plt.title('Learning curves', fontsize = 18)\n",
    "plt.legend()\n",
    "plt.show()"
   ]
  },
  {
   "cell_type": "markdown",
   "metadata": {},
   "source": [
    "The Learning curve above shows that :\n",
    "\n",
    "    * The MAE for the training data is less initially and it increases when the the data points increase but when data points increases more than 50 the MAE tend to decrease and then there are fluctuations.\n",
    "    * The MAE for the validation data is more initially but starts decreasing as the train size increase and then becomes stable, with no major changes on increasing the train set size.\n",
    "The gap between training and validation loss learning curve is a \"generalization gap\" which seems to be less,when the train size increases but since there are continuous change in MAE on increasing the train set size. This model might not generalize well."
   ]
  },
  {
   "cell_type": "markdown",
   "metadata": {},
   "source": [
    "4. Build a SVR model with Linear Kernel, train the model\n",
    "\n",
    "A. Evaluate your model based on applicable metrics. Show the metric(s) you chose and why you chose this(these) metrics."
   ]
  },
  {
   "cell_type": "code",
   "execution_count": 52,
   "metadata": {},
   "outputs": [
    {
     "data": {
      "text/plain": [
       "SVR(C=1.0, cache_size=200, coef0=0.0, degree=3, epsilon=0.1, gamma='scale',\n",
       "    kernel='linear', max_iter=-1, shrinking=True, tol=0.001, verbose=False)"
      ]
     },
     "execution_count": 52,
     "metadata": {},
     "output_type": "execute_result"
    }
   ],
   "source": [
    "svm_kernel_reg = SVR(kernel=\"linear\")\n",
    "svm_kernel_reg.fit(train,train_target)"
   ]
  },
  {
   "cell_type": "code",
   "execution_count": 53,
   "metadata": {},
   "outputs": [
    {
     "name": "stdout",
     "output_type": "stream",
     "text": [
      "mean absolute error: 14.876340828400156\n"
     ]
    }
   ],
   "source": [
    "# predictions on target data\n",
    "dengue_predictions_svm_kernel =  svm_kernel_reg.predict(test)\n",
    "#calculate the mean absolute error\n",
    "svm_kernel_mae = mean_absolute_error(test_target,dengue_predictions_svm_kernel)\n",
    "print(\"mean absolute error:\",svm_kernel_mae)"
   ]
  },
  {
   "cell_type": "markdown",
   "metadata": {},
   "source": [
    "The mean absolute error is used as a evaluation metrics for this model as the target is a continuous variable and mae is steady,measures the average magnitude of the errors in a set of predictions, without considering their direction. "
   ]
  },
  {
   "cell_type": "markdown",
   "metadata": {},
   "source": [
    "4. B. List the hyper-parameters that can be tuned in SVR model with Linear Kernel. Show the code along with comments on the parameter value chosen (use class presentation, discussion notes, some online reading) and why this value was chosen. Show the improvement you achieved in model accuracy."
   ]
  },
  {
   "cell_type": "code",
   "execution_count": 54,
   "metadata": {},
   "outputs": [],
   "source": [
    "# param_grid_LinearkernelSVR = [\n",
    "#         { \n",
    "#          \"C\" : [1,10,95.2,95.25,95.3],\n",
    "#          \"epsilon\" :[0.9,1,1.2,1.5],\n",
    "# #          \"gamma\": [0.1,0.15,0.11,],\n",
    "#          \"tol\" :[0.1,0.12,0.15,0.2],\n",
    "            \n",
    "#         }]\n",
    " \n",
    "# #\"tol\" :[0.001,0.01,0.1],\n",
    "# #\"max_iter\" : [10,50,100],\n",
    "#  #   \"coef0\": [0.1,0.5,1,1.5]\n",
    "# grid2 = GridSearchCV(svm_kernel_reg, param_grid_LinearkernelSVR,scoring = \"neg_mean_absolute_error\",\n",
    "#                     return_train_score= True)\n",
    "# grid2.fit(train,train_target)"
   ]
  },
  {
   "cell_type": "code",
   "execution_count": 55,
   "metadata": {
    "scrolled": true
   },
   "outputs": [],
   "source": [
    "# print(grid2.best_score_)\n",
    "# print(grid2.best_params_)"
   ]
  },
  {
   "cell_type": "code",
   "execution_count": 56,
   "metadata": {},
   "outputs": [
    {
     "data": {
      "text/plain": [
       "SVR(C=95.2, cache_size=200, coef0=0.0, degree=3, epsilon=1.5, gamma='auto',\n",
       "    kernel='linear', max_iter=-1, shrinking=True, tol=0.2, verbose=False)"
      ]
     },
     "execution_count": 56,
     "metadata": {},
     "output_type": "execute_result"
    }
   ],
   "source": [
    "svr_kernel_reg = SVR(kernel=\"linear\",C= 95.2,gamma='auto', epsilon= 1.5,tol=0.2)\n",
    "svr_kernel_reg.fit(train,train_target)"
   ]
  },
  {
   "cell_type": "code",
   "execution_count": 57,
   "metadata": {},
   "outputs": [
    {
     "name": "stdout",
     "output_type": "stream",
     "text": [
      "mean absolute error: 14.785900600077252\n"
     ]
    }
   ],
   "source": [
    "# predictions on test data\n",
    "dengue_predictions_svr_kernel =  svr_kernel_reg.predict(test)\n",
    "#calculating the mean absolute error\n",
    "svr_kernel_mae = mean_absolute_error(test_target,dengue_predictions_svr_kernel)\n",
    "print(\"mean absolute error:\",svr_kernel_mae)\n",
    "#svm_kernel_mse = mean_squared_error(test_target,dengue_predictions_svm_kernel)\n",
    "#svm_kernel_rmse = np.sqrt(svm_kernel_mse)\n",
    "#r2score = r2_score(test_target,dengue_predictions_svm_kernel)"
   ]
  },
  {
   "cell_type": "markdown",
   "metadata": {},
   "source": [
    "**The MAE has decreased on tuning the hyperparameters.**"
   ]
  },
  {
   "cell_type": "markdown",
   "metadata": {},
   "source": [
    " 4.C Plot Learning curve and provide insights"
   ]
  },
  {
   "cell_type": "code",
   "execution_count": 58,
   "metadata": {},
   "outputs": [],
   "source": [
    "train_set_size, train_error,cv_error= learning_curve(svr_kernel_reg,train,train_target,cv=2,\n",
    "                                            train_sizes= np.linspace(0.01, 1.0, 50),\n",
    "                                            scoring = \"neg_mean_absolute_error\")"
   ]
  },
  {
   "cell_type": "code",
   "execution_count": 59,
   "metadata": {},
   "outputs": [],
   "source": [
    "train_errs_mean = -train_error.mean(axis = 1)\n",
    "cv_errs_mean = -cv_error.mean(axis = 1)"
   ]
  },
  {
   "cell_type": "code",
   "execution_count": 60,
   "metadata": {
    "scrolled": true
   },
   "outputs": [
    {
     "data": {
      "image/png": "[encoded data removed]",
      "text/plain": [
       "<Figure size 576x396 with 1 Axes>"
      ]
     },
     "metadata": {},
     "output_type": "display_data"
    }
   ],
   "source": [
    "plt.style.use('seaborn')\n",
    "plt.plot(train_set_size,train_errs_mean,\"g-\", label = 'Training error')\n",
    "plt.plot(train_set_size, cv_errs_mean,\"--m\", label = 'Validation error')\n",
    "plt.ylabel('MAE', fontsize = 14)\n",
    "plt.xlabel('Training set size', fontsize = 14)\n",
    "plt.title('Learning curves', fontsize = 18)\n",
    "plt.legend()\n",
    "plt.show()"
   ]
  },
  {
   "cell_type": "markdown",
   "metadata": {},
   "source": [
    "The Learning curve above shows that :\n",
    "\n",
    "* The MAE for the training data is less initially and it increases when the the data points increase but when data points increases more than 50 the MAE tend to decrease slightly and becomes stable.\n",
    "\n",
    "* The MAE for the validation data is more initially but starts decreasing as the train size increase and then becomes stable, with no major changes on increasing the train set size.\n",
    "\n",
    "The gap between training and validation loss learning curve is a \"generalization gap\" which seems to be very less,when the train size is more than 50. As the model is shown more training examples, it learns and thus the validation error goes down and becomes stable.It means the model generalizes well."
   ]
  },
  {
   "cell_type": "markdown",
   "metadata": {},
   "source": [
    "## Perform the same analysis on dengue_features_test and create submission file"
   ]
  },
  {
   "cell_type": "markdown",
   "metadata": {},
   "source": [
    "5. Create a submission file which has predictions for both cities in the submission format prescribed by the contest at the link https://www.drivendata.org/competitions/44/dengai-predicting-disease-spread/data/. To get this, you need to use the file 'dengue_features_test.csv'"
   ]
  },
  {
   "cell_type": "code",
   "execution_count": 61,
   "metadata": {
    "scrolled": true
   },
   "outputs": [
    {
     "data": {
      "text/html": [
       "<div>\n",
       "<style scoped>\n",
       "    .dataframe tbody tr th:only-of-type {\n",
       "        vertical-align: middle;\n",
       "    }\n",
       "\n",
       "    .dataframe tbody tr th {\n",
       "        vertical-align: top;\n",
       "    }\n",
       "\n",
       "    .dataframe thead th {\n",
       "        text-align: right;\n",
       "    }\n",
       "</style>\n",
       "<table border=\"1\" class=\"dataframe\">\n",
       "  <thead>\n",
       "    <tr style=\"text-align: right;\">\n",
       "      <th></th>\n",
       "      <th>city</th>\n",
       "      <th>year</th>\n",
       "      <th>weekofyear</th>\n",
       "      <th>week_start_date</th>\n",
       "      <th>ndvi_ne</th>\n",
       "      <th>ndvi_nw</th>\n",
       "      <th>ndvi_se</th>\n",
       "      <th>ndvi_sw</th>\n",
       "      <th>precipitation_amt_mm</th>\n",
       "      <th>reanalysis_air_temp_k</th>\n",
       "      <th>...</th>\n",
       "      <th>reanalysis_precip_amt_kg_per_m2</th>\n",
       "      <th>reanalysis_relative_humidity_percent</th>\n",
       "      <th>reanalysis_sat_precip_amt_mm</th>\n",
       "      <th>reanalysis_specific_humidity_g_per_kg</th>\n",
       "      <th>reanalysis_tdtr_k</th>\n",
       "      <th>station_avg_temp_c</th>\n",
       "      <th>station_diur_temp_rng_c</th>\n",
       "      <th>station_max_temp_c</th>\n",
       "      <th>station_min_temp_c</th>\n",
       "      <th>station_precip_mm</th>\n",
       "    </tr>\n",
       "  </thead>\n",
       "  <tbody>\n",
       "    <tr>\n",
       "      <td>0</td>\n",
       "      <td>sj</td>\n",
       "      <td>2008</td>\n",
       "      <td>18</td>\n",
       "      <td>2008-04-29</td>\n",
       "      <td>-0.0189</td>\n",
       "      <td>-0.018900</td>\n",
       "      <td>0.102729</td>\n",
       "      <td>0.091200</td>\n",
       "      <td>78.60</td>\n",
       "      <td>298.492857</td>\n",
       "      <td>...</td>\n",
       "      <td>25.37</td>\n",
       "      <td>78.781429</td>\n",
       "      <td>78.60</td>\n",
       "      <td>15.918571</td>\n",
       "      <td>3.128571</td>\n",
       "      <td>26.528571</td>\n",
       "      <td>7.057143</td>\n",
       "      <td>33.3</td>\n",
       "      <td>21.7</td>\n",
       "      <td>75.2</td>\n",
       "    </tr>\n",
       "    <tr>\n",
       "      <td>1</td>\n",
       "      <td>sj</td>\n",
       "      <td>2008</td>\n",
       "      <td>19</td>\n",
       "      <td>2008-05-06</td>\n",
       "      <td>-0.0180</td>\n",
       "      <td>-0.012400</td>\n",
       "      <td>0.082043</td>\n",
       "      <td>0.072314</td>\n",
       "      <td>12.56</td>\n",
       "      <td>298.475714</td>\n",
       "      <td>...</td>\n",
       "      <td>21.83</td>\n",
       "      <td>78.230000</td>\n",
       "      <td>12.56</td>\n",
       "      <td>15.791429</td>\n",
       "      <td>2.571429</td>\n",
       "      <td>26.071429</td>\n",
       "      <td>5.557143</td>\n",
       "      <td>30.0</td>\n",
       "      <td>22.2</td>\n",
       "      <td>34.3</td>\n",
       "    </tr>\n",
       "    <tr>\n",
       "      <td>2</td>\n",
       "      <td>sj</td>\n",
       "      <td>2008</td>\n",
       "      <td>20</td>\n",
       "      <td>2008-05-13</td>\n",
       "      <td>-0.0015</td>\n",
       "      <td>NaN</td>\n",
       "      <td>0.151083</td>\n",
       "      <td>0.091529</td>\n",
       "      <td>3.66</td>\n",
       "      <td>299.455714</td>\n",
       "      <td>...</td>\n",
       "      <td>4.12</td>\n",
       "      <td>78.270000</td>\n",
       "      <td>3.66</td>\n",
       "      <td>16.674286</td>\n",
       "      <td>4.428571</td>\n",
       "      <td>27.928571</td>\n",
       "      <td>7.785714</td>\n",
       "      <td>32.8</td>\n",
       "      <td>22.8</td>\n",
       "      <td>3.0</td>\n",
       "    </tr>\n",
       "    <tr>\n",
       "      <td>3</td>\n",
       "      <td>sj</td>\n",
       "      <td>2008</td>\n",
       "      <td>21</td>\n",
       "      <td>2008-05-20</td>\n",
       "      <td>NaN</td>\n",
       "      <td>-0.019867</td>\n",
       "      <td>0.124329</td>\n",
       "      <td>0.125686</td>\n",
       "      <td>0.00</td>\n",
       "      <td>299.690000</td>\n",
       "      <td>...</td>\n",
       "      <td>2.20</td>\n",
       "      <td>73.015714</td>\n",
       "      <td>0.00</td>\n",
       "      <td>15.775714</td>\n",
       "      <td>4.342857</td>\n",
       "      <td>28.057143</td>\n",
       "      <td>6.271429</td>\n",
       "      <td>33.3</td>\n",
       "      <td>24.4</td>\n",
       "      <td>0.3</td>\n",
       "    </tr>\n",
       "    <tr>\n",
       "      <td>4</td>\n",
       "      <td>sj</td>\n",
       "      <td>2008</td>\n",
       "      <td>22</td>\n",
       "      <td>2008-05-27</td>\n",
       "      <td>0.0568</td>\n",
       "      <td>0.039833</td>\n",
       "      <td>0.062267</td>\n",
       "      <td>0.075914</td>\n",
       "      <td>0.76</td>\n",
       "      <td>299.780000</td>\n",
       "      <td>...</td>\n",
       "      <td>4.36</td>\n",
       "      <td>74.084286</td>\n",
       "      <td>0.76</td>\n",
       "      <td>16.137143</td>\n",
       "      <td>3.542857</td>\n",
       "      <td>27.614286</td>\n",
       "      <td>7.085714</td>\n",
       "      <td>33.3</td>\n",
       "      <td>23.3</td>\n",
       "      <td>84.1</td>\n",
       "    </tr>\n",
       "  </tbody>\n",
       "</table>\n",
       "<p>5 rows × 24 columns</p>\n",
       "</div>"
      ],
      "text/plain": [
       "  city  year  weekofyear week_start_date  ndvi_ne   ndvi_nw   ndvi_se  \\\n",
       "0   sj  2008          18      2008-04-29  -0.0189 -0.018900  0.102729   \n",
       "1   sj  2008          19      2008-05-06  -0.0180 -0.012400  0.082043   \n",
       "2   sj  2008          20      2008-05-13  -0.0015       NaN  0.151083   \n",
       "3   sj  2008          21      2008-05-20      NaN -0.019867  0.124329   \n",
       "4   sj  2008          22      2008-05-27   0.0568  0.039833  0.062267   \n",
       "\n",
       "    ndvi_sw  precipitation_amt_mm  reanalysis_air_temp_k  ...  \\\n",
       "0  0.091200                 78.60             298.492857  ...   \n",
       "1  0.072314                 12.56             298.475714  ...   \n",
       "2  0.091529                  3.66             299.455714  ...   \n",
       "3  0.125686                  0.00             299.690000  ...   \n",
       "4  0.075914                  0.76             299.780000  ...   \n",
       "\n",
       "   reanalysis_precip_amt_kg_per_m2  reanalysis_relative_humidity_percent  \\\n",
       "0                            25.37                             78.781429   \n",
       "1                            21.83                             78.230000   \n",
       "2                             4.12                             78.270000   \n",
       "3                             2.20                             73.015714   \n",
       "4                             4.36                             74.084286   \n",
       "\n",
       "   reanalysis_sat_precip_amt_mm  reanalysis_specific_humidity_g_per_kg  \\\n",
       "0                         78.60                              15.918571   \n",
       "1                         12.56                              15.791429   \n",
       "2                          3.66                              16.674286   \n",
       "3                          0.00                              15.775714   \n",
       "4                          0.76                              16.137143   \n",
       "\n",
       "   reanalysis_tdtr_k  station_avg_temp_c  station_diur_temp_rng_c  \\\n",
       "0           3.128571           26.528571                 7.057143   \n",
       "1           2.571429           26.071429                 5.557143   \n",
       "2           4.428571           27.928571                 7.785714   \n",
       "3           4.342857           28.057143                 6.271429   \n",
       "4           3.542857           27.614286                 7.085714   \n",
       "\n",
       "   station_max_temp_c  station_min_temp_c  station_precip_mm  \n",
       "0                33.3                21.7               75.2  \n",
       "1                30.0                22.2               34.3  \n",
       "2                32.8                22.8                3.0  \n",
       "3                33.3                24.4                0.3  \n",
       "4                33.3                23.3               84.1  \n",
       "\n",
       "[5 rows x 24 columns]"
      ]
     },
     "execution_count": 61,
     "metadata": {},
     "output_type": "execute_result"
    }
   ],
   "source": [
    "dengue_features_test = pd.read_csv(\"dengue_features_test.csv\")\n",
    "\n",
    "dengue_features_test.head()"
   ]
  },
  {
   "cell_type": "code",
   "execution_count": 62,
   "metadata": {},
   "outputs": [
    {
     "data": {
      "text/plain": [
       "(416, 24)"
      ]
     },
     "execution_count": 62,
     "metadata": {},
     "output_type": "execute_result"
    }
   ],
   "source": [
    "dengue_features_test.shape"
   ]
  },
  {
   "cell_type": "code",
   "execution_count": 63,
   "metadata": {},
   "outputs": [],
   "source": [
    "dengue_features_test_final = dengue_features_test.drop([\"precipitation_amt_mm\",\"reanalysis_sat_precip_amt_mm\",\"reanalysis_dew_point_temp_k\"\n",
    "                                                    ,\"reanalysis_specific_humidity_g_per_kg\",\"reanalysis_precip_amt_kg_per_m2\",\"reanalysis_avg_temp_k\",\n",
    "                                                    \"station_precip_mm\",\"station_max_temp_c\",\"station_avg_temp_c\",\"station_min_temp_c\",\"year\",\"weekofyear\"],axis=1)"
   ]
  },
  {
   "cell_type": "code",
   "execution_count": 64,
   "metadata": {
    "scrolled": true
   },
   "outputs": [
    {
     "data": {
      "text/html": [
       "<div>\n",
       "<style scoped>\n",
       "    .dataframe tbody tr th:only-of-type {\n",
       "        vertical-align: middle;\n",
       "    }\n",
       "\n",
       "    .dataframe tbody tr th {\n",
       "        vertical-align: top;\n",
       "    }\n",
       "\n",
       "    .dataframe thead th {\n",
       "        text-align: right;\n",
       "    }\n",
       "</style>\n",
       "<table border=\"1\" class=\"dataframe\">\n",
       "  <thead>\n",
       "    <tr style=\"text-align: right;\">\n",
       "      <th></th>\n",
       "      <th>city</th>\n",
       "      <th>week_start_date</th>\n",
       "      <th>ndvi_ne</th>\n",
       "      <th>ndvi_nw</th>\n",
       "      <th>ndvi_se</th>\n",
       "      <th>ndvi_sw</th>\n",
       "      <th>reanalysis_air_temp_k</th>\n",
       "      <th>reanalysis_max_air_temp_k</th>\n",
       "      <th>reanalysis_min_air_temp_k</th>\n",
       "      <th>reanalysis_relative_humidity_percent</th>\n",
       "      <th>reanalysis_tdtr_k</th>\n",
       "      <th>station_diur_temp_rng_c</th>\n",
       "    </tr>\n",
       "  </thead>\n",
       "  <tbody>\n",
       "    <tr>\n",
       "      <td>0</td>\n",
       "      <td>sj</td>\n",
       "      <td>2008-04-29</td>\n",
       "      <td>-0.0189</td>\n",
       "      <td>-0.018900</td>\n",
       "      <td>0.102729</td>\n",
       "      <td>0.091200</td>\n",
       "      <td>298.492857</td>\n",
       "      <td>301.1</td>\n",
       "      <td>296.4</td>\n",
       "      <td>78.781429</td>\n",
       "      <td>3.128571</td>\n",
       "      <td>7.057143</td>\n",
       "    </tr>\n",
       "    <tr>\n",
       "      <td>1</td>\n",
       "      <td>sj</td>\n",
       "      <td>2008-05-06</td>\n",
       "      <td>-0.0180</td>\n",
       "      <td>-0.012400</td>\n",
       "      <td>0.082043</td>\n",
       "      <td>0.072314</td>\n",
       "      <td>298.475714</td>\n",
       "      <td>300.8</td>\n",
       "      <td>296.7</td>\n",
       "      <td>78.230000</td>\n",
       "      <td>2.571429</td>\n",
       "      <td>5.557143</td>\n",
       "    </tr>\n",
       "    <tr>\n",
       "      <td>2</td>\n",
       "      <td>sj</td>\n",
       "      <td>2008-05-13</td>\n",
       "      <td>-0.0015</td>\n",
       "      <td>NaN</td>\n",
       "      <td>0.151083</td>\n",
       "      <td>0.091529</td>\n",
       "      <td>299.455714</td>\n",
       "      <td>302.2</td>\n",
       "      <td>296.4</td>\n",
       "      <td>78.270000</td>\n",
       "      <td>4.428571</td>\n",
       "      <td>7.785714</td>\n",
       "    </tr>\n",
       "    <tr>\n",
       "      <td>3</td>\n",
       "      <td>sj</td>\n",
       "      <td>2008-05-20</td>\n",
       "      <td>NaN</td>\n",
       "      <td>-0.019867</td>\n",
       "      <td>0.124329</td>\n",
       "      <td>0.125686</td>\n",
       "      <td>299.690000</td>\n",
       "      <td>303.0</td>\n",
       "      <td>296.9</td>\n",
       "      <td>73.015714</td>\n",
       "      <td>4.342857</td>\n",
       "      <td>6.271429</td>\n",
       "    </tr>\n",
       "    <tr>\n",
       "      <td>4</td>\n",
       "      <td>sj</td>\n",
       "      <td>2008-05-27</td>\n",
       "      <td>0.0568</td>\n",
       "      <td>0.039833</td>\n",
       "      <td>0.062267</td>\n",
       "      <td>0.075914</td>\n",
       "      <td>299.780000</td>\n",
       "      <td>302.3</td>\n",
       "      <td>297.3</td>\n",
       "      <td>74.084286</td>\n",
       "      <td>3.542857</td>\n",
       "      <td>7.085714</td>\n",
       "    </tr>\n",
       "  </tbody>\n",
       "</table>\n",
       "</div>"
      ],
      "text/plain": [
       "  city week_start_date  ndvi_ne   ndvi_nw   ndvi_se   ndvi_sw  \\\n",
       "0   sj      2008-04-29  -0.0189 -0.018900  0.102729  0.091200   \n",
       "1   sj      2008-05-06  -0.0180 -0.012400  0.082043  0.072314   \n",
       "2   sj      2008-05-13  -0.0015       NaN  0.151083  0.091529   \n",
       "3   sj      2008-05-20      NaN -0.019867  0.124329  0.125686   \n",
       "4   sj      2008-05-27   0.0568  0.039833  0.062267  0.075914   \n",
       "\n",
       "   reanalysis_air_temp_k  reanalysis_max_air_temp_k  \\\n",
       "0             298.492857                      301.1   \n",
       "1             298.475714                      300.8   \n",
       "2             299.455714                      302.2   \n",
       "3             299.690000                      303.0   \n",
       "4             299.780000                      302.3   \n",
       "\n",
       "   reanalysis_min_air_temp_k  reanalysis_relative_humidity_percent  \\\n",
       "0                      296.4                             78.781429   \n",
       "1                      296.7                             78.230000   \n",
       "2                      296.4                             78.270000   \n",
       "3                      296.9                             73.015714   \n",
       "4                      297.3                             74.084286   \n",
       "\n",
       "   reanalysis_tdtr_k  station_diur_temp_rng_c  \n",
       "0           3.128571                 7.057143  \n",
       "1           2.571429                 5.557143  \n",
       "2           4.428571                 7.785714  \n",
       "3           4.342857                 6.271429  \n",
       "4           3.542857                 7.085714  "
      ]
     },
     "execution_count": 64,
     "metadata": {},
     "output_type": "execute_result"
    }
   ],
   "source": [
    "dengue_features_test_final.head()"
   ]
  },
  {
   "cell_type": "code",
   "execution_count": 65,
   "metadata": {},
   "outputs": [],
   "source": [
    "dengue_features_test_final[\"reanalysis_relative_humidity_percent\"] = dengue_features_test_final[\"reanalysis_relative_humidity_percent\"]/100"
   ]
  },
  {
   "cell_type": "code",
   "execution_count": 66,
   "metadata": {},
   "outputs": [],
   "source": [
    "dengue_features_test_final['ndvi_ne'] = np.where(dengue_features_test_final[\"ndvi_ne\"] <= 0.25, 0,1) \n",
    "dengue_features_test_final['ndvi_nw'] = np.where(dengue_features_test_final[\"ndvi_ne\"] <= 0.25, 0,1) \n",
    "dengue_features_test_final['ndvi_se'] = np.where(dengue_features_test_final[\"ndvi_se\"] <= 0.25, 0,1) \n",
    "dengue_features_test_final['ndvi_sw'] = np.where(dengue_features_test_final[\"ndvi_sw\"] <= 0.25, 0,1) "
   ]
  },
  {
   "cell_type": "code",
   "execution_count": 67,
   "metadata": {},
   "outputs": [],
   "source": [
    "#create new columns by extracting the month from week_start_date\n",
    "dengue_features_test_final[\"month\"] = pd.to_datetime(dengue_features_test_final[\"week_start_date\"]).dt.month\n",
    "dengue_features_test_final[\"Jan_Apr\"]= np.where(dengue_features_test_final[\"month\"].isin([1,2,3,4]),1,0)\n",
    "dengue_features_test_final[\"May_Aug\"]= np.where(dengue_features_test_final[\"month\"].isin([5,6,7,8]),1,0)\n",
    "dengue_features_test_final[\"Sep_Dec\"]= np.where(dengue_features_test_final[\"month\"].isin([9,10,11,12]),1,0)\n",
    "dengue_features_test_final = dengue_features_test_final.drop([\"month\",\"week_start_date\"],axis =1)"
   ]
  },
  {
   "cell_type": "code",
   "execution_count": 68,
   "metadata": {},
   "outputs": [],
   "source": [
    "#Label-Encoding on city attribute\n",
    "le = LabelEncoder() \n",
    "dengue_features_test_final['city']= le.fit_transform(dengue_features_test_final['city']) "
   ]
  },
  {
   "cell_type": "code",
   "execution_count": 69,
   "metadata": {},
   "outputs": [],
   "source": [
    "dengue_features_test_final.city = dengue_features_test_final[\"city\"].astype(\"category\")\n",
    "dengue_features_test_final.Jan_Apr = dengue_features_test_final[\"Jan_Apr\"].astype(\"category\")\n",
    "dengue_features_test_final.May_Aug = dengue_features_test_final[\"May_Aug\"].astype(\"category\")\n",
    "dengue_features_test_final.Sep_Dec = dengue_features_test_final[\"Sep_Dec\"].astype(\"category\")\n",
    "dengue_features_test_final.ndvi_ne = dengue_features_test_final[\"ndvi_ne\"].astype(\"category\")\n",
    "dengue_features_test_final.ndvi_nw = dengue_features_test_final[\"ndvi_nw\"].astype(\"category\")\n",
    "dengue_features_test_final.ndvi_se = dengue_features_test_final[\"ndvi_se\"].astype(\"category\")\n",
    "dengue_features_test_final.ndvi_sw = dengue_features_test_final[\"ndvi_sw\"].astype(\"category\")"
   ]
  },
  {
   "cell_type": "code",
   "execution_count": 70,
   "metadata": {},
   "outputs": [],
   "source": [
    "dengue_features_test_final.columns = dengue_features_test_final.columns.str.replace(\"station\",\"stn\")\n",
    "dengue_features_test_final.columns = dengue_features_test_final.columns.str.replace(\"reanalysis\",\"re_an\")\n",
    "dengue_features_test_final.columns = dengue_features_test_final.columns.str.replace(\"humidity\",\"hd\")\n",
    "dengue_features_test_final.columns = dengue_features_test_final.columns.str.replace(\"precipitation\",\"prec\")"
   ]
  },
  {
   "cell_type": "code",
   "execution_count": 71,
   "metadata": {},
   "outputs": [
    {
     "name": "stdout",
     "output_type": "stream",
     "text": [
      "<class 'pandas.core.frame.DataFrame'>\n",
      "RangeIndex: 416 entries, 0 to 415\n",
      "Data columns (total 14 columns):\n",
      "city                         416 non-null category\n",
      "ndvi_ne                      416 non-null category\n",
      "ndvi_nw                      416 non-null category\n",
      "ndvi_se                      416 non-null category\n",
      "ndvi_sw                      416 non-null category\n",
      "re_an_air_temp_k             414 non-null float64\n",
      "re_an_max_air_temp_k         414 non-null float64\n",
      "re_an_min_air_temp_k         414 non-null float64\n",
      "re_an_relative_hd_percent    414 non-null float64\n",
      "re_an_tdtr_k                 414 non-null float64\n",
      "stn_diur_temp_rng_c          404 non-null float64\n",
      "Jan_Apr                      416 non-null category\n",
      "May_Aug                      416 non-null category\n",
      "Sep_Dec                      416 non-null category\n",
      "dtypes: category(8), float64(6)\n",
      "memory usage: 23.6 KB\n"
     ]
    }
   ],
   "source": [
    "dengue_features_test_final.info()"
   ]
  },
  {
   "cell_type": "code",
   "execution_count": 72,
   "metadata": {},
   "outputs": [],
   "source": [
    "#create a dataframe for numerical attribute\n",
    "dengue_num_test = dengue_features_test_final.drop([\"city\",\"Jan_Apr\",\"May_Aug\",\"Sep_Dec\",\"ndvi_ne\",\"ndvi_nw\",\"ndvi_se\",\"ndvi_sw\"], axis =1)"
   ]
  },
  {
   "cell_type": "code",
   "execution_count": 73,
   "metadata": {},
   "outputs": [],
   "source": [
    "# Standardize the numerical attributes\n",
    "sd = StandardScaler()\n",
    "std_dataset_test = pd.DataFrame(sd.fit_transform(dengue_num_test))"
   ]
  },
  {
   "cell_type": "code",
   "execution_count": 74,
   "metadata": {},
   "outputs": [],
   "source": [
    "std_dataset_test.columns = dengue_num_test.columns"
   ]
  },
  {
   "cell_type": "code",
   "execution_count": 75,
   "metadata": {
    "scrolled": true
   },
   "outputs": [
    {
     "data": {
      "text/plain": [
       "re_an_air_temp_k              2\n",
       "re_an_max_air_temp_k          2\n",
       "re_an_min_air_temp_k          2\n",
       "re_an_relative_hd_percent     2\n",
       "re_an_tdtr_k                  2\n",
       "stn_diur_temp_rng_c          12\n",
       "dtype: int64"
      ]
     },
     "execution_count": 75,
     "metadata": {},
     "output_type": "execute_result"
    }
   ],
   "source": [
    "std_dataset_test.isnull().sum()"
   ]
  },
  {
   "cell_type": "code",
   "execution_count": 76,
   "metadata": {},
   "outputs": [],
   "source": [
    "std_dataset_test = std_dataset_test.fillna(std_dataset_test.mean())"
   ]
  },
  {
   "cell_type": "code",
   "execution_count": 77,
   "metadata": {},
   "outputs": [],
   "source": [
    "# extract categorical and target columns\n",
    "cat_dataset_test= dengue_features_test_final[['city','Jan_Apr','May_Aug','Sep_Dec','ndvi_sw','ndvi_se','ndvi_nw','ndvi_ne']]"
   ]
  },
  {
   "cell_type": "code",
   "execution_count": 78,
   "metadata": {},
   "outputs": [],
   "source": [
    "cat_dataset_test.index = std_dataset_test.index"
   ]
  },
  {
   "cell_type": "code",
   "execution_count": 79,
   "metadata": {},
   "outputs": [
    {
     "name": "stdout",
     "output_type": "stream",
     "text": [
      "<class 'pandas.core.frame.DataFrame'>\n",
      "RangeIndex: 416 entries, 0 to 415\n",
      "Data columns (total 14 columns):\n",
      "re_an_air_temp_k             416 non-null float64\n",
      "re_an_max_air_temp_k         416 non-null float64\n",
      "re_an_min_air_temp_k         416 non-null float64\n",
      "re_an_relative_hd_percent    416 non-null float64\n",
      "re_an_tdtr_k                 416 non-null float64\n",
      "stn_diur_temp_rng_c          416 non-null float64\n",
      "city                         416 non-null category\n",
      "Jan_Apr                      416 non-null category\n",
      "May_Aug                      416 non-null category\n",
      "Sep_Dec                      416 non-null category\n",
      "ndvi_sw                      416 non-null category\n",
      "ndvi_se                      416 non-null category\n",
      "ndvi_nw                      416 non-null category\n",
      "ndvi_ne                      416 non-null category\n",
      "dtypes: category(8), float64(6)\n",
      "memory usage: 23.6 KB\n"
     ]
    }
   ],
   "source": [
    "#concat the numerical, categorical and target attributes after transformations\n",
    "final_df_test = pd.concat([std_dataset_test,cat_dataset_test],axis=1)\n",
    "\n",
    "final_df_test.info()"
   ]
  },
  {
   "cell_type": "code",
   "execution_count": 80,
   "metadata": {},
   "outputs": [],
   "source": [
    "svr_linearreg_test = SVR(kernel=\"linear\",C= 95.2,gamma='auto', epsilon= 1.5,tol=0.2)\n",
    "svr_linearreg_test.fit(train,train_target)\n",
    "dengue_predictions_svr_test =  svr_linearreg_test.predict(final_df_test)"
   ]
  },
  {
   "cell_type": "code",
   "execution_count": 81,
   "metadata": {},
   "outputs": [
    {
     "data": {
      "text/html": [
       "<div>\n",
       "<style scoped>\n",
       "    .dataframe tbody tr th:only-of-type {\n",
       "        vertical-align: middle;\n",
       "    }\n",
       "\n",
       "    .dataframe tbody tr th {\n",
       "        vertical-align: top;\n",
       "    }\n",
       "\n",
       "    .dataframe thead th {\n",
       "        text-align: right;\n",
       "    }\n",
       "</style>\n",
       "<table border=\"1\" class=\"dataframe\">\n",
       "  <thead>\n",
       "    <tr style=\"text-align: right;\">\n",
       "      <th></th>\n",
       "      <th>city</th>\n",
       "      <th>year</th>\n",
       "      <th>weekofyear</th>\n",
       "      <th>total_cases</th>\n",
       "    </tr>\n",
       "  </thead>\n",
       "  <tbody>\n",
       "    <tr>\n",
       "      <td>0</td>\n",
       "      <td>sj</td>\n",
       "      <td>2008</td>\n",
       "      <td>18</td>\n",
       "      <td>17.668267</td>\n",
       "    </tr>\n",
       "    <tr>\n",
       "      <td>1</td>\n",
       "      <td>sj</td>\n",
       "      <td>2008</td>\n",
       "      <td>19</td>\n",
       "      <td>14.978916</td>\n",
       "    </tr>\n",
       "    <tr>\n",
       "      <td>2</td>\n",
       "      <td>sj</td>\n",
       "      <td>2008</td>\n",
       "      <td>20</td>\n",
       "      <td>16.972283</td>\n",
       "    </tr>\n",
       "    <tr>\n",
       "      <td>3</td>\n",
       "      <td>sj</td>\n",
       "      <td>2008</td>\n",
       "      <td>21</td>\n",
       "      <td>14.123514</td>\n",
       "    </tr>\n",
       "    <tr>\n",
       "      <td>4</td>\n",
       "      <td>sj</td>\n",
       "      <td>2008</td>\n",
       "      <td>22</td>\n",
       "      <td>14.761418</td>\n",
       "    </tr>\n",
       "  </tbody>\n",
       "</table>\n",
       "</div>"
      ],
      "text/plain": [
       "  city  year  weekofyear  total_cases\n",
       "0   sj  2008          18    17.668267\n",
       "1   sj  2008          19    14.978916\n",
       "2   sj  2008          20    16.972283\n",
       "3   sj  2008          21    14.123514\n",
       "4   sj  2008          22    14.761418"
      ]
     },
     "execution_count": 81,
     "metadata": {},
     "output_type": "execute_result"
    }
   ],
   "source": [
    "#Create a  DataFrame with the city,months divided,and total cases\n",
    "submission = pd.DataFrame({'city':dengue_features_test['city'],'year': dengue_features_test['year'],'weekofyear':dengue_features_test['weekofyear'],\n",
    "                           'total_cases':dengue_predictions_svr_test})\n",
    "#Visualize the first 5 rows\n",
    "submission.head()\n"
   ]
  },
  {
   "cell_type": "code",
   "execution_count": 82,
   "metadata": {},
   "outputs": [
    {
     "name": "stdout",
     "output_type": "stream",
     "text": [
      "Saved file: Dengue_Prediction_Submission_final2.csv\n"
     ]
    }
   ],
   "source": [
    "#Convert DataFrame to a csv file that can be uploaded\n",
    "#This is saved in the same directory as notebook\n",
    "filename = 'Dengue_Prediction_Submission_final2.csv'\n",
    "submission.to_csv(filename,index=False)\n",
    "print('Saved file: ' + filename)"
   ]
  },
  {
   "cell_type": "markdown",
   "metadata": {},
   "source": [
    "6. Optional: Submit your predictions to the contest. You will get a submission score. Use any other models of your choice discusssed in the class and check if you get improved result. Show it here."
   ]
  },
  {
   "cell_type": "markdown",
   "metadata": {},
   "source": [
    "Submitted :- Score in competition are below \n",
    "\n",
    "SGD - 27.60\n",
    "\n",
    "Score for SVR with Linear kernel - 28.30"
   ]
  },
  {
   "cell_type": "markdown",
   "metadata": {},
   "source": [
    "7.Compare the Model Evaluation metric of SGD (Assignment 2), Linear SVR and SVR with Linear Kernel and state which model performed better along with reason why you consider so."
   ]
  },
  {
   "cell_type": "markdown",
   "metadata": {},
   "source": [
    "The best MAE received from 3 models are below on test:-\n",
    "\n",
    "SGD - 15.85\n",
    "\n",
    "Linear SVR - 14.799\n",
    "\n",
    "SVR with Linear Kernel - 14.785\n",
    "\n",
    "The best MAE is achieved in SVR with Linear kernel though not much big difference in MAE from other two models for the test data while SGD score looks good better in competition. As we can see from the learning curves for all the 3 models, the curve for SVR with linear curve becomes stable for taining and validation set.Adding more training instances within the margin does not affect the model's predictions much and it can be seen that the gap between the learning curves of validation and training set which is less. Hence we can say that this model generalize much better than other two. Again, there is scope for improvement and other modeling techniques can be used to see the results."
   ]
  }
 ],
 "metadata": {
  "kernelspec": {
   "display_name": "Python 3",
   "language": "python",
   "name": "python3"
  },
  "language_info": {
   "codemirror_mode": {
    "name": "ipython",
    "version": 3
   },
   "file_extension": ".py",
   "mimetype": "text/x-python",
   "name": "python",
   "nbconvert_exporter": "python",
   "pygments_lexer": "ipython3",
   "version": "3.7.4"
  }
 },
 "nbformat": 4,
 "nbformat_minor": 2
}
