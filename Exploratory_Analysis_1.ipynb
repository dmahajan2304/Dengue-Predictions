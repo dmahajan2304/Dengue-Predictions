{
 "cells": [
  {
   "cell_type": "markdown",
   "metadata": {},
   "source": [
    "# Assignment 1"
   ]
  },
  {
   "cell_type": "code",
   "execution_count": 1,
   "metadata": {},
   "outputs": [],
   "source": [
    "#import required libraries like pandas, numpy, matplotlib\n",
    "import pandas as pd\n",
    "import numpy as np\n",
    "import matplotlib.pyplot as plt\n",
    "import seaborn as sns\n",
    "%matplotlib inline\n",
    "import random\n",
    "from numpy import mean\n",
    "from numpy import std"
   ]
  },
  {
   "cell_type": "code",
   "execution_count": 2,
   "metadata": {},
   "outputs": [],
   "source": [
    "#read the train data into dataframe\n",
    "dengue_train = pd.read_csv(\"dengue_features_train.csv\") "
   ]
  },
  {
   "cell_type": "code",
   "execution_count": 3,
   "metadata": {
    "scrolled": true
   },
   "outputs": [
    {
     "data": {
      "text/html": [
       "<div>\n",
       "<style scoped>\n",
       "    .dataframe tbody tr th:only-of-type {\n",
       "        vertical-align: middle;\n",
       "    }\n",
       "\n",
       "    .dataframe tbody tr th {\n",
       "        vertical-align: top;\n",
       "    }\n",
       "\n",
       "    .dataframe thead th {\n",
       "        text-align: right;\n",
       "    }\n",
       "</style>\n",
       "<table border=\"1\" class=\"dataframe\">\n",
       "  <thead>\n",
       "    <tr style=\"text-align: right;\">\n",
       "      <th></th>\n",
       "      <th>city</th>\n",
       "      <th>year</th>\n",
       "      <th>weekofyear</th>\n",
       "      <th>week_start_date</th>\n",
       "      <th>ndvi_ne</th>\n",
       "      <th>ndvi_nw</th>\n",
       "      <th>ndvi_se</th>\n",
       "      <th>ndvi_sw</th>\n",
       "      <th>precipitation_amt_mm</th>\n",
       "      <th>reanalysis_air_temp_k</th>\n",
       "      <th>...</th>\n",
       "      <th>reanalysis_precip_amt_kg_per_m2</th>\n",
       "      <th>reanalysis_relative_humidity_percent</th>\n",
       "      <th>reanalysis_sat_precip_amt_mm</th>\n",
       "      <th>reanalysis_specific_humidity_g_per_kg</th>\n",
       "      <th>reanalysis_tdtr_k</th>\n",
       "      <th>station_avg_temp_c</th>\n",
       "      <th>station_diur_temp_rng_c</th>\n",
       "      <th>station_max_temp_c</th>\n",
       "      <th>station_min_temp_c</th>\n",
       "      <th>station_precip_mm</th>\n",
       "    </tr>\n",
       "  </thead>\n",
       "  <tbody>\n",
       "    <tr>\n",
       "      <td>0</td>\n",
       "      <td>sj</td>\n",
       "      <td>1990</td>\n",
       "      <td>18</td>\n",
       "      <td>1990-04-30</td>\n",
       "      <td>0.12260</td>\n",
       "      <td>0.103725</td>\n",
       "      <td>0.198483</td>\n",
       "      <td>0.177617</td>\n",
       "      <td>12.42</td>\n",
       "      <td>297.572857</td>\n",
       "      <td>...</td>\n",
       "      <td>32.00</td>\n",
       "      <td>73.365714</td>\n",
       "      <td>12.42</td>\n",
       "      <td>14.012857</td>\n",
       "      <td>2.628571</td>\n",
       "      <td>25.442857</td>\n",
       "      <td>6.900000</td>\n",
       "      <td>29.4</td>\n",
       "      <td>20.0</td>\n",
       "      <td>16.0</td>\n",
       "    </tr>\n",
       "    <tr>\n",
       "      <td>1</td>\n",
       "      <td>sj</td>\n",
       "      <td>1990</td>\n",
       "      <td>19</td>\n",
       "      <td>1990-05-07</td>\n",
       "      <td>0.16990</td>\n",
       "      <td>0.142175</td>\n",
       "      <td>0.162357</td>\n",
       "      <td>0.155486</td>\n",
       "      <td>22.82</td>\n",
       "      <td>298.211429</td>\n",
       "      <td>...</td>\n",
       "      <td>17.94</td>\n",
       "      <td>77.368571</td>\n",
       "      <td>22.82</td>\n",
       "      <td>15.372857</td>\n",
       "      <td>2.371429</td>\n",
       "      <td>26.714286</td>\n",
       "      <td>6.371429</td>\n",
       "      <td>31.7</td>\n",
       "      <td>22.2</td>\n",
       "      <td>8.6</td>\n",
       "    </tr>\n",
       "    <tr>\n",
       "      <td>2</td>\n",
       "      <td>sj</td>\n",
       "      <td>1990</td>\n",
       "      <td>20</td>\n",
       "      <td>1990-05-14</td>\n",
       "      <td>0.03225</td>\n",
       "      <td>0.172967</td>\n",
       "      <td>0.157200</td>\n",
       "      <td>0.170843</td>\n",
       "      <td>34.54</td>\n",
       "      <td>298.781429</td>\n",
       "      <td>...</td>\n",
       "      <td>26.10</td>\n",
       "      <td>82.052857</td>\n",
       "      <td>34.54</td>\n",
       "      <td>16.848571</td>\n",
       "      <td>2.300000</td>\n",
       "      <td>26.714286</td>\n",
       "      <td>6.485714</td>\n",
       "      <td>32.2</td>\n",
       "      <td>22.8</td>\n",
       "      <td>41.4</td>\n",
       "    </tr>\n",
       "  </tbody>\n",
       "</table>\n",
       "<p>3 rows × 24 columns</p>\n",
       "</div>"
      ],
      "text/plain": [
       "  city  year  weekofyear week_start_date  ndvi_ne   ndvi_nw   ndvi_se  \\\n",
       "0   sj  1990          18      1990-04-30  0.12260  0.103725  0.198483   \n",
       "1   sj  1990          19      1990-05-07  0.16990  0.142175  0.162357   \n",
       "2   sj  1990          20      1990-05-14  0.03225  0.172967  0.157200   \n",
       "\n",
       "    ndvi_sw  precipitation_amt_mm  reanalysis_air_temp_k  ...  \\\n",
       "0  0.177617                 12.42             297.572857  ...   \n",
       "1  0.155486                 22.82             298.211429  ...   \n",
       "2  0.170843                 34.54             298.781429  ...   \n",
       "\n",
       "   reanalysis_precip_amt_kg_per_m2  reanalysis_relative_humidity_percent  \\\n",
       "0                            32.00                             73.365714   \n",
       "1                            17.94                             77.368571   \n",
       "2                            26.10                             82.052857   \n",
       "\n",
       "   reanalysis_sat_precip_amt_mm  reanalysis_specific_humidity_g_per_kg  \\\n",
       "0                         12.42                              14.012857   \n",
       "1                         22.82                              15.372857   \n",
       "2                         34.54                              16.848571   \n",
       "\n",
       "   reanalysis_tdtr_k  station_avg_temp_c  station_diur_temp_rng_c  \\\n",
       "0           2.628571           25.442857                 6.900000   \n",
       "1           2.371429           26.714286                 6.371429   \n",
       "2           2.300000           26.714286                 6.485714   \n",
       "\n",
       "   station_max_temp_c  station_min_temp_c  station_precip_mm  \n",
       "0                29.4                20.0               16.0  \n",
       "1                31.7                22.2                8.6  \n",
       "2                32.2                22.8               41.4  \n",
       "\n",
       "[3 rows x 24 columns]"
      ]
     },
     "execution_count": 3,
     "metadata": {},
     "output_type": "execute_result"
    }
   ],
   "source": [
    "#view first 3 rows of the dataframe\n",
    "dengue_train.head(3)"
   ]
  },
  {
   "cell_type": "code",
   "execution_count": 4,
   "metadata": {
    "scrolled": true
   },
   "outputs": [
    {
     "name": "stdout",
     "output_type": "stream",
     "text": [
      "<class 'pandas.core.frame.DataFrame'>\n",
      "RangeIndex: 1456 entries, 0 to 1455\n",
      "Data columns (total 24 columns):\n",
      "city                                     1456 non-null object\n",
      "year                                     1456 non-null int64\n",
      "weekofyear                               1456 non-null int64\n",
      "week_start_date                          1456 non-null object\n",
      "ndvi_ne                                  1262 non-null float64\n",
      "ndvi_nw                                  1404 non-null float64\n",
      "ndvi_se                                  1434 non-null float64\n",
      "ndvi_sw                                  1434 non-null float64\n",
      "precipitation_amt_mm                     1443 non-null float64\n",
      "reanalysis_air_temp_k                    1446 non-null float64\n",
      "reanalysis_avg_temp_k                    1446 non-null float64\n",
      "reanalysis_dew_point_temp_k              1446 non-null float64\n",
      "reanalysis_max_air_temp_k                1446 non-null float64\n",
      "reanalysis_min_air_temp_k                1446 non-null float64\n",
      "reanalysis_precip_amt_kg_per_m2          1446 non-null float64\n",
      "reanalysis_relative_humidity_percent     1446 non-null float64\n",
      "reanalysis_sat_precip_amt_mm             1443 non-null float64\n",
      "reanalysis_specific_humidity_g_per_kg    1446 non-null float64\n",
      "reanalysis_tdtr_k                        1446 non-null float64\n",
      "station_avg_temp_c                       1413 non-null float64\n",
      "station_diur_temp_rng_c                  1413 non-null float64\n",
      "station_max_temp_c                       1436 non-null float64\n",
      "station_min_temp_c                       1442 non-null float64\n",
      "station_precip_mm                        1434 non-null float64\n",
      "dtypes: float64(20), int64(2), object(2)\n",
      "memory usage: 273.1+ KB\n"
     ]
    }
   ],
   "source": [
    "#display a quick overview of the dataset\n",
    "dengue_train.info()"
   ]
  },
  {
   "cell_type": "code",
   "execution_count": 5,
   "metadata": {},
   "outputs": [
    {
     "data": {
      "text/plain": [
       "(1456, 24)"
      ]
     },
     "execution_count": 5,
     "metadata": {},
     "output_type": "execute_result"
    }
   ],
   "source": [
    "#display number of rows and columns in the dataframe\n",
    "dengue_train.shape"
   ]
  },
  {
   "cell_type": "code",
   "execution_count": 6,
   "metadata": {
    "scrolled": false
   },
   "outputs": [
    {
     "data": {
      "text/plain": [
       "Index(['city', 'year', 'weekofyear', 'week_start_date', 'ndvi_ne', 'ndvi_nw',\n",
       "       'ndvi_se', 'ndvi_sw', 'precipitation_amt_mm', 'reanalysis_air_temp_k',\n",
       "       'reanalysis_avg_temp_k', 'reanalysis_dew_point_temp_k',\n",
       "       'reanalysis_max_air_temp_k', 'reanalysis_min_air_temp_k',\n",
       "       'reanalysis_precip_amt_kg_per_m2',\n",
       "       'reanalysis_relative_humidity_percent', 'reanalysis_sat_precip_amt_mm',\n",
       "       'reanalysis_specific_humidity_g_per_kg', 'reanalysis_tdtr_k',\n",
       "       'station_avg_temp_c', 'station_diur_temp_rng_c', 'station_max_temp_c',\n",
       "       'station_min_temp_c', 'station_precip_mm'],\n",
       "      dtype='object')"
      ]
     },
     "execution_count": 6,
     "metadata": {},
     "output_type": "execute_result"
    }
   ],
   "source": [
    "#display names of the columns in the dataframe\n",
    "dengue_train.columns"
   ]
  },
  {
   "cell_type": "markdown",
   "metadata": {},
   "source": [
    "#### 1. Renaming the column names"
   ]
  },
  {
   "cell_type": "markdown",
   "metadata": {},
   "source": [
    "a). Rename columns which have 'station' such that 'station' is abbreviated to 'stn' "
   ]
  },
  {
   "cell_type": "code",
   "execution_count": 7,
   "metadata": {
    "scrolled": true
   },
   "outputs": [],
   "source": [
    "dengue_train.columns = dengue_train.columns.str.replace(\"station\",\"stn\")"
   ]
  },
  {
   "cell_type": "markdown",
   "metadata": {},
   "source": [
    "b). Rename columns which have 'reanalysis' to abbreviate 're_an'"
   ]
  },
  {
   "cell_type": "code",
   "execution_count": 8,
   "metadata": {
    "scrolled": true
   },
   "outputs": [],
   "source": [
    "dengue_train.columns = dengue_train.columns.str.replace(\"reanalysis\",\"re_an\")"
   ]
  },
  {
   "cell_type": "markdown",
   "metadata": {},
   "source": [
    "c). Rename columns which have 'humidity' to abbreviate to 'hd'"
   ]
  },
  {
   "cell_type": "code",
   "execution_count": 9,
   "metadata": {},
   "outputs": [],
   "source": [
    "dengue_train.columns = dengue_train.columns.str.replace(\"humidity\",\"hd\")"
   ]
  },
  {
   "cell_type": "markdown",
   "metadata": {},
   "source": [
    "d). Abbreviate 'precipitation' part of column name to 'prec'"
   ]
  },
  {
   "cell_type": "code",
   "execution_count": 10,
   "metadata": {
    "scrolled": true
   },
   "outputs": [],
   "source": [
    "dengue_train.columns = dengue_train.columns.str.replace(\"precipitation\",\"prec\")"
   ]
  },
  {
   "cell_type": "markdown",
   "metadata": {},
   "source": [
    " e). View top 3 rows and recheck if column name changes have taken effect "
   ]
  },
  {
   "cell_type": "code",
   "execution_count": 11,
   "metadata": {
    "scrolled": false
   },
   "outputs": [
    {
     "data": {
      "text/html": [
       "<div>\n",
       "<style scoped>\n",
       "    .dataframe tbody tr th:only-of-type {\n",
       "        vertical-align: middle;\n",
       "    }\n",
       "\n",
       "    .dataframe tbody tr th {\n",
       "        vertical-align: top;\n",
       "    }\n",
       "\n",
       "    .dataframe thead th {\n",
       "        text-align: right;\n",
       "    }\n",
       "</style>\n",
       "<table border=\"1\" class=\"dataframe\">\n",
       "  <thead>\n",
       "    <tr style=\"text-align: right;\">\n",
       "      <th></th>\n",
       "      <th>city</th>\n",
       "      <th>year</th>\n",
       "      <th>weekofyear</th>\n",
       "      <th>week_start_date</th>\n",
       "      <th>ndvi_ne</th>\n",
       "      <th>ndvi_nw</th>\n",
       "      <th>ndvi_se</th>\n",
       "      <th>ndvi_sw</th>\n",
       "      <th>prec_amt_mm</th>\n",
       "      <th>re_an_air_temp_k</th>\n",
       "      <th>...</th>\n",
       "      <th>re_an_precip_amt_kg_per_m2</th>\n",
       "      <th>re_an_relative_hd_percent</th>\n",
       "      <th>re_an_sat_precip_amt_mm</th>\n",
       "      <th>re_an_specific_hd_g_per_kg</th>\n",
       "      <th>re_an_tdtr_k</th>\n",
       "      <th>stn_avg_temp_c</th>\n",
       "      <th>stn_diur_temp_rng_c</th>\n",
       "      <th>stn_max_temp_c</th>\n",
       "      <th>stn_min_temp_c</th>\n",
       "      <th>stn_precip_mm</th>\n",
       "    </tr>\n",
       "  </thead>\n",
       "  <tbody>\n",
       "    <tr>\n",
       "      <td>0</td>\n",
       "      <td>sj</td>\n",
       "      <td>1990</td>\n",
       "      <td>18</td>\n",
       "      <td>1990-04-30</td>\n",
       "      <td>0.12260</td>\n",
       "      <td>0.103725</td>\n",
       "      <td>0.198483</td>\n",
       "      <td>0.177617</td>\n",
       "      <td>12.42</td>\n",
       "      <td>297.572857</td>\n",
       "      <td>...</td>\n",
       "      <td>32.00</td>\n",
       "      <td>73.365714</td>\n",
       "      <td>12.42</td>\n",
       "      <td>14.012857</td>\n",
       "      <td>2.628571</td>\n",
       "      <td>25.442857</td>\n",
       "      <td>6.900000</td>\n",
       "      <td>29.4</td>\n",
       "      <td>20.0</td>\n",
       "      <td>16.0</td>\n",
       "    </tr>\n",
       "    <tr>\n",
       "      <td>1</td>\n",
       "      <td>sj</td>\n",
       "      <td>1990</td>\n",
       "      <td>19</td>\n",
       "      <td>1990-05-07</td>\n",
       "      <td>0.16990</td>\n",
       "      <td>0.142175</td>\n",
       "      <td>0.162357</td>\n",
       "      <td>0.155486</td>\n",
       "      <td>22.82</td>\n",
       "      <td>298.211429</td>\n",
       "      <td>...</td>\n",
       "      <td>17.94</td>\n",
       "      <td>77.368571</td>\n",
       "      <td>22.82</td>\n",
       "      <td>15.372857</td>\n",
       "      <td>2.371429</td>\n",
       "      <td>26.714286</td>\n",
       "      <td>6.371429</td>\n",
       "      <td>31.7</td>\n",
       "      <td>22.2</td>\n",
       "      <td>8.6</td>\n",
       "    </tr>\n",
       "    <tr>\n",
       "      <td>2</td>\n",
       "      <td>sj</td>\n",
       "      <td>1990</td>\n",
       "      <td>20</td>\n",
       "      <td>1990-05-14</td>\n",
       "      <td>0.03225</td>\n",
       "      <td>0.172967</td>\n",
       "      <td>0.157200</td>\n",
       "      <td>0.170843</td>\n",
       "      <td>34.54</td>\n",
       "      <td>298.781429</td>\n",
       "      <td>...</td>\n",
       "      <td>26.10</td>\n",
       "      <td>82.052857</td>\n",
       "      <td>34.54</td>\n",
       "      <td>16.848571</td>\n",
       "      <td>2.300000</td>\n",
       "      <td>26.714286</td>\n",
       "      <td>6.485714</td>\n",
       "      <td>32.2</td>\n",
       "      <td>22.8</td>\n",
       "      <td>41.4</td>\n",
       "    </tr>\n",
       "  </tbody>\n",
       "</table>\n",
       "<p>3 rows × 24 columns</p>\n",
       "</div>"
      ],
      "text/plain": [
       "  city  year  weekofyear week_start_date  ndvi_ne   ndvi_nw   ndvi_se  \\\n",
       "0   sj  1990          18      1990-04-30  0.12260  0.103725  0.198483   \n",
       "1   sj  1990          19      1990-05-07  0.16990  0.142175  0.162357   \n",
       "2   sj  1990          20      1990-05-14  0.03225  0.172967  0.157200   \n",
       "\n",
       "    ndvi_sw  prec_amt_mm  re_an_air_temp_k  ...  re_an_precip_amt_kg_per_m2  \\\n",
       "0  0.177617        12.42        297.572857  ...                       32.00   \n",
       "1  0.155486        22.82        298.211429  ...                       17.94   \n",
       "2  0.170843        34.54        298.781429  ...                       26.10   \n",
       "\n",
       "   re_an_relative_hd_percent  re_an_sat_precip_amt_mm  \\\n",
       "0                  73.365714                    12.42   \n",
       "1                  77.368571                    22.82   \n",
       "2                  82.052857                    34.54   \n",
       "\n",
       "   re_an_specific_hd_g_per_kg  re_an_tdtr_k  stn_avg_temp_c  \\\n",
       "0                   14.012857      2.628571       25.442857   \n",
       "1                   15.372857      2.371429       26.714286   \n",
       "2                   16.848571      2.300000       26.714286   \n",
       "\n",
       "   stn_diur_temp_rng_c  stn_max_temp_c  stn_min_temp_c  stn_precip_mm  \n",
       "0             6.900000            29.4            20.0           16.0  \n",
       "1             6.371429            31.7            22.2            8.6  \n",
       "2             6.485714            32.2            22.8           41.4  \n",
       "\n",
       "[3 rows x 24 columns]"
      ]
     },
     "execution_count": 11,
     "metadata": {},
     "output_type": "execute_result"
    }
   ],
   "source": [
    "dengue_train.head(3)"
   ]
  },
  {
   "cell_type": "markdown",
   "metadata": {},
   "source": [
    "f). Check the type of columns in dataframe"
   ]
  },
  {
   "cell_type": "code",
   "execution_count": 12,
   "metadata": {},
   "outputs": [
    {
     "name": "stdout",
     "output_type": "stream",
     "text": [
      "<class 'pandas.core.indexes.base.Index'>\n"
     ]
    }
   ],
   "source": [
    "print(type(dengue_train.columns)) #display the type of the column"
   ]
  },
  {
   "cell_type": "code",
   "execution_count": 13,
   "metadata": {
    "scrolled": true
   },
   "outputs": [
    {
     "data": {
      "text/plain": [
       "city                           object\n",
       "year                            int64\n",
       "weekofyear                      int64\n",
       "week_start_date                object\n",
       "ndvi_ne                       float64\n",
       "ndvi_nw                       float64\n",
       "ndvi_se                       float64\n",
       "ndvi_sw                       float64\n",
       "prec_amt_mm                   float64\n",
       "re_an_air_temp_k              float64\n",
       "re_an_avg_temp_k              float64\n",
       "re_an_dew_point_temp_k        float64\n",
       "re_an_max_air_temp_k          float64\n",
       "re_an_min_air_temp_k          float64\n",
       "re_an_precip_amt_kg_per_m2    float64\n",
       "re_an_relative_hd_percent     float64\n",
       "re_an_sat_precip_amt_mm       float64\n",
       "re_an_specific_hd_g_per_kg    float64\n",
       "re_an_tdtr_k                  float64\n",
       "stn_avg_temp_c                float64\n",
       "stn_diur_temp_rng_c           float64\n",
       "stn_max_temp_c                float64\n",
       "stn_min_temp_c                float64\n",
       "stn_precip_mm                 float64\n",
       "dtype: object"
      ]
     },
     "execution_count": 13,
     "metadata": {},
     "output_type": "execute_result"
    }
   ],
   "source": [
    " dengue_train.dtypes  #display the datatypes for each column"
   ]
  },
  {
   "cell_type": "markdown",
   "metadata": {},
   "source": [
    "g). Change the column 'year' as categorical variable"
   ]
  },
  {
   "cell_type": "code",
   "execution_count": 14,
   "metadata": {},
   "outputs": [],
   "source": [
    "dengue_train.year = dengue_train.year.astype(\"category\")  #change the datatype of year column to categorical"
   ]
  },
  {
   "cell_type": "code",
   "execution_count": 15,
   "metadata": {
    "scrolled": true
   },
   "outputs": [
    {
     "data": {
      "text/plain": [
       "CategoricalDtype(categories=[1990, 1991, 1992, 1993, 1994, 1995, 1996, 1997, 1998, 1999,\n",
       "                  2000, 2001, 2002, 2003, 2004, 2005, 2006, 2007, 2008, 2009,\n",
       "                  2010],\n",
       "                 ordered=False)"
      ]
     },
     "execution_count": 15,
     "metadata": {},
     "output_type": "execute_result"
    }
   ],
   "source": [
    "dengue_train[\"year\"].dtypes "
   ]
  },
  {
   "cell_type": "code",
   "execution_count": 16,
   "metadata": {
    "scrolled": true
   },
   "outputs": [
    {
     "data": {
      "text/html": [
       "<div>\n",
       "<style scoped>\n",
       "    .dataframe tbody tr th:only-of-type {\n",
       "        vertical-align: middle;\n",
       "    }\n",
       "\n",
       "    .dataframe tbody tr th {\n",
       "        vertical-align: top;\n",
       "    }\n",
       "\n",
       "    .dataframe thead th {\n",
       "        text-align: right;\n",
       "    }\n",
       "</style>\n",
       "<table border=\"1\" class=\"dataframe\">\n",
       "  <thead>\n",
       "    <tr style=\"text-align: right;\">\n",
       "      <th></th>\n",
       "      <th>city</th>\n",
       "      <th>year</th>\n",
       "      <th>weekofyear</th>\n",
       "      <th>total_cases</th>\n",
       "    </tr>\n",
       "  </thead>\n",
       "  <tbody>\n",
       "    <tr>\n",
       "      <td>0</td>\n",
       "      <td>sj</td>\n",
       "      <td>1990</td>\n",
       "      <td>18</td>\n",
       "      <td>4</td>\n",
       "    </tr>\n",
       "    <tr>\n",
       "      <td>1</td>\n",
       "      <td>sj</td>\n",
       "      <td>1990</td>\n",
       "      <td>19</td>\n",
       "      <td>5</td>\n",
       "    </tr>\n",
       "    <tr>\n",
       "      <td>2</td>\n",
       "      <td>sj</td>\n",
       "      <td>1990</td>\n",
       "      <td>20</td>\n",
       "      <td>4</td>\n",
       "    </tr>\n",
       "    <tr>\n",
       "      <td>3</td>\n",
       "      <td>sj</td>\n",
       "      <td>1990</td>\n",
       "      <td>21</td>\n",
       "      <td>3</td>\n",
       "    </tr>\n",
       "    <tr>\n",
       "      <td>4</td>\n",
       "      <td>sj</td>\n",
       "      <td>1990</td>\n",
       "      <td>22</td>\n",
       "      <td>6</td>\n",
       "    </tr>\n",
       "  </tbody>\n",
       "</table>\n",
       "</div>"
      ],
      "text/plain": [
       "  city  year  weekofyear  total_cases\n",
       "0   sj  1990          18            4\n",
       "1   sj  1990          19            5\n",
       "2   sj  1990          20            4\n",
       "3   sj  1990          21            3\n",
       "4   sj  1990          22            6"
      ]
     },
     "execution_count": 16,
     "metadata": {},
     "output_type": "execute_result"
    }
   ],
   "source": [
    "#read the dengue_labels_train dataset into another dataframe\n",
    "dengue_labels = pd.read_csv(\"dengue_labels_train.csv\")  \n",
    "dengue_labels.head()\n"
   ]
  },
  {
   "cell_type": "code",
   "execution_count": 17,
   "metadata": {},
   "outputs": [],
   "source": [
    "#dengue_labels.dtypes"
   ]
  },
  {
   "cell_type": "code",
   "execution_count": 18,
   "metadata": {
    "scrolled": true
   },
   "outputs": [
    {
     "name": "stdout",
     "output_type": "stream",
     "text": [
      "  city  year  weekofyear week_start_date  ndvi_ne   ndvi_nw   ndvi_se  \\\n",
      "0   sj  1990          18      1990-04-30  0.12260  0.103725  0.198483   \n",
      "1   sj  1990          19      1990-05-07  0.16990  0.142175  0.162357   \n",
      "2   sj  1990          20      1990-05-14  0.03225  0.172967  0.157200   \n",
      "\n",
      "    ndvi_sw  prec_amt_mm  re_an_air_temp_k  ...  re_an_relative_hd_percent  \\\n",
      "0  0.177617        12.42        297.572857  ...                  73.365714   \n",
      "1  0.155486        22.82        298.211429  ...                  77.368571   \n",
      "2  0.170843        34.54        298.781429  ...                  82.052857   \n",
      "\n",
      "   re_an_sat_precip_amt_mm  re_an_specific_hd_g_per_kg  re_an_tdtr_k  \\\n",
      "0                    12.42                   14.012857      2.628571   \n",
      "1                    22.82                   15.372857      2.371429   \n",
      "2                    34.54                   16.848571      2.300000   \n",
      "\n",
      "   stn_avg_temp_c  stn_diur_temp_rng_c  stn_max_temp_c  stn_min_temp_c  \\\n",
      "0       25.442857             6.900000            29.4            20.0   \n",
      "1       26.714286             6.371429            31.7            22.2   \n",
      "2       26.714286             6.485714            32.2            22.8   \n",
      "\n",
      "   stn_precip_mm  total_cases  \n",
      "0           16.0            4  \n",
      "1            8.6            5  \n",
      "2           41.4            4  \n",
      "\n",
      "[3 rows x 25 columns]\n",
      "(1456, 25)\n"
     ]
    }
   ],
   "source": [
    "#merge the above two dataframes on city, year and weekofyear and store it into new dataframe\n",
    "merged_train_labels = pd.merge(dengue_train,dengue_labels, on= [\"city\",'year','weekofyear'])\n",
    "print(merged_train_labels.head(3))\n",
    "print(merged_train_labels.shape)"
   ]
  },
  {
   "cell_type": "code",
   "execution_count": 19,
   "metadata": {
    "scrolled": false
   },
   "outputs": [
    {
     "data": {
      "text/plain": [
       "city                            0\n",
       "year                            0\n",
       "weekofyear                      0\n",
       "week_start_date                 0\n",
       "ndvi_ne                       194\n",
       "ndvi_nw                        52\n",
       "ndvi_se                        22\n",
       "ndvi_sw                        22\n",
       "prec_amt_mm                    13\n",
       "re_an_air_temp_k               10\n",
       "re_an_avg_temp_k               10\n",
       "re_an_dew_point_temp_k         10\n",
       "re_an_max_air_temp_k           10\n",
       "re_an_min_air_temp_k           10\n",
       "re_an_precip_amt_kg_per_m2     10\n",
       "re_an_relative_hd_percent      10\n",
       "re_an_sat_precip_amt_mm        13\n",
       "re_an_specific_hd_g_per_kg     10\n",
       "re_an_tdtr_k                   10\n",
       "stn_avg_temp_c                 43\n",
       "stn_diur_temp_rng_c            43\n",
       "stn_max_temp_c                 20\n",
       "stn_min_temp_c                 14\n",
       "stn_precip_mm                  22\n",
       "total_cases                     0\n",
       "dtype: int64"
      ]
     },
     "execution_count": 19,
     "metadata": {},
     "output_type": "execute_result"
    }
   ],
   "source": [
    "#display the count of null values for each attribute\n",
    "merged_train_labels.isna().sum()"
   ]
  },
  {
   "cell_type": "markdown",
   "metadata": {},
   "source": [
    "We can see that there are missing values for several attributes, let's try handle them -"
   ]
  },
  {
   "cell_type": "code",
   "execution_count": 20,
   "metadata": {
    "scrolled": true
   },
   "outputs": [],
   "source": [
    "#fill the null  values using forward fill method\n",
    "merged_train_labels = merged_train_labels.fillna(method=\"ffill\")"
   ]
  },
  {
   "cell_type": "code",
   "execution_count": 21,
   "metadata": {},
   "outputs": [
    {
     "data": {
      "text/plain": [
       "city                          0\n",
       "year                          0\n",
       "weekofyear                    0\n",
       "week_start_date               0\n",
       "ndvi_ne                       0\n",
       "ndvi_nw                       0\n",
       "ndvi_se                       0\n",
       "ndvi_sw                       0\n",
       "prec_amt_mm                   0\n",
       "re_an_air_temp_k              0\n",
       "re_an_avg_temp_k              0\n",
       "re_an_dew_point_temp_k        0\n",
       "re_an_max_air_temp_k          0\n",
       "re_an_min_air_temp_k          0\n",
       "re_an_precip_amt_kg_per_m2    0\n",
       "re_an_relative_hd_percent     0\n",
       "re_an_sat_precip_amt_mm       0\n",
       "re_an_specific_hd_g_per_kg    0\n",
       "re_an_tdtr_k                  0\n",
       "stn_avg_temp_c                0\n",
       "stn_diur_temp_rng_c           0\n",
       "stn_max_temp_c                0\n",
       "stn_min_temp_c                0\n",
       "stn_precip_mm                 0\n",
       "total_cases                   0\n",
       "dtype: int64"
      ]
     },
     "execution_count": 21,
     "metadata": {},
     "output_type": "execute_result"
    }
   ],
   "source": [
    "merged_train_labels.isna().sum()"
   ]
  },
  {
   "cell_type": "markdown",
   "metadata": {},
   "source": [
    "**Now, there are no null values in the merged_train_label dataset**"
   ]
  },
  {
   "cell_type": "markdown",
   "metadata": {},
   "source": [
    "2.a). Do a random check by printing few values from both files and merged file"
   ]
  },
  {
   "cell_type": "code",
   "execution_count": 22,
   "metadata": {
    "scrolled": false
   },
   "outputs": [
    {
     "data": {
      "text/html": [
       "<div>\n",
       "<style scoped>\n",
       "    .dataframe tbody tr th:only-of-type {\n",
       "        vertical-align: middle;\n",
       "    }\n",
       "\n",
       "    .dataframe tbody tr th {\n",
       "        vertical-align: top;\n",
       "    }\n",
       "\n",
       "    .dataframe thead th {\n",
       "        text-align: right;\n",
       "    }\n",
       "</style>\n",
       "<table border=\"1\" class=\"dataframe\">\n",
       "  <thead>\n",
       "    <tr style=\"text-align: right;\">\n",
       "      <th></th>\n",
       "      <th>city</th>\n",
       "      <th>year</th>\n",
       "      <th>weekofyear</th>\n",
       "      <th>week_start_date</th>\n",
       "      <th>ndvi_ne</th>\n",
       "      <th>ndvi_nw</th>\n",
       "      <th>ndvi_se</th>\n",
       "      <th>ndvi_sw</th>\n",
       "      <th>prec_amt_mm</th>\n",
       "      <th>re_an_air_temp_k</th>\n",
       "      <th>...</th>\n",
       "      <th>re_an_precip_amt_kg_per_m2</th>\n",
       "      <th>re_an_relative_hd_percent</th>\n",
       "      <th>re_an_sat_precip_amt_mm</th>\n",
       "      <th>re_an_specific_hd_g_per_kg</th>\n",
       "      <th>re_an_tdtr_k</th>\n",
       "      <th>stn_avg_temp_c</th>\n",
       "      <th>stn_diur_temp_rng_c</th>\n",
       "      <th>stn_max_temp_c</th>\n",
       "      <th>stn_min_temp_c</th>\n",
       "      <th>stn_precip_mm</th>\n",
       "    </tr>\n",
       "  </thead>\n",
       "  <tbody>\n",
       "    <tr>\n",
       "      <td>715</td>\n",
       "      <td>sj</td>\n",
       "      <td>2004</td>\n",
       "      <td>5</td>\n",
       "      <td>2004-01-29</td>\n",
       "      <td>-0.0535</td>\n",
       "      <td>-0.108</td>\n",
       "      <td>0.236257</td>\n",
       "      <td>0.280414</td>\n",
       "      <td>0.0</td>\n",
       "      <td>297.56</td>\n",
       "      <td>...</td>\n",
       "      <td>2.0</td>\n",
       "      <td>75.422857</td>\n",
       "      <td>0.0</td>\n",
       "      <td>14.39</td>\n",
       "      <td>2.457143</td>\n",
       "      <td>24.628571</td>\n",
       "      <td>6.2</td>\n",
       "      <td>28.9</td>\n",
       "      <td>20.0</td>\n",
       "      <td>1.8</td>\n",
       "    </tr>\n",
       "  </tbody>\n",
       "</table>\n",
       "<p>1 rows × 24 columns</p>\n",
       "</div>"
      ],
      "text/plain": [
       "    city  year  weekofyear week_start_date  ndvi_ne  ndvi_nw   ndvi_se  \\\n",
       "715   sj  2004           5      2004-01-29  -0.0535   -0.108  0.236257   \n",
       "\n",
       "      ndvi_sw  prec_amt_mm  re_an_air_temp_k  ...  re_an_precip_amt_kg_per_m2  \\\n",
       "715  0.280414          0.0            297.56  ...                         2.0   \n",
       "\n",
       "     re_an_relative_hd_percent  re_an_sat_precip_amt_mm  \\\n",
       "715                  75.422857                      0.0   \n",
       "\n",
       "     re_an_specific_hd_g_per_kg  re_an_tdtr_k  stn_avg_temp_c  \\\n",
       "715                       14.39      2.457143       24.628571   \n",
       "\n",
       "     stn_diur_temp_rng_c  stn_max_temp_c  stn_min_temp_c  stn_precip_mm  \n",
       "715                  6.2            28.9            20.0            1.8  \n",
       "\n",
       "[1 rows x 24 columns]"
      ]
     },
     "execution_count": 22,
     "metadata": {},
     "output_type": "execute_result"
    }
   ],
   "source": [
    "#random check for few values from both the dataset and the merged dataset\n",
    "#dengue_train.iloc[4]\n",
    "\n",
    "dengue_train.sample()"
   ]
  },
  {
   "cell_type": "code",
   "execution_count": 23,
   "metadata": {
    "scrolled": true
   },
   "outputs": [
    {
     "data": {
      "text/plain": [
       "city             sj\n",
       "year           1992\n",
       "weekofyear       47\n",
       "total_cases      47\n",
       "Name: 133, dtype: object"
      ]
     },
     "execution_count": 23,
     "metadata": {},
     "output_type": "execute_result"
    }
   ],
   "source": [
    "dengue_labels.iloc[133]"
   ]
  },
  {
   "cell_type": "code",
   "execution_count": 24,
   "metadata": {
    "scrolled": true
   },
   "outputs": [
    {
     "data": {
      "text/plain": [
       "city                                  sj\n",
       "year                                1992\n",
       "weekofyear                            47\n",
       "week_start_date               1992-11-18\n",
       "ndvi_ne                           0.0764\n",
       "ndvi_nw                        0.0561333\n",
       "ndvi_se                         0.134371\n",
       "ndvi_sw                        0.0640143\n",
       "prec_amt_mm                        43.44\n",
       "re_an_air_temp_k                 298.343\n",
       "re_an_avg_temp_k                 298.286\n",
       "re_an_dew_point_temp_k           294.653\n",
       "re_an_max_air_temp_k               300.6\n",
       "re_an_min_air_temp_k               296.6\n",
       "re_an_precip_amt_kg_per_m2         49.97\n",
       "re_an_relative_hd_percent        80.2557\n",
       "re_an_sat_precip_amt_mm            43.44\n",
       "re_an_specific_hd_g_per_kg       16.0671\n",
       "re_an_tdtr_k                     1.82857\n",
       "stn_avg_temp_c                   26.6857\n",
       "stn_diur_temp_rng_c                    7\n",
       "stn_max_temp_c                      31.1\n",
       "stn_min_temp_c                      22.2\n",
       "stn_precip_mm                       26.1\n",
       "total_cases                           47\n",
       "Name: 133, dtype: object"
      ]
     },
     "execution_count": 24,
     "metadata": {},
     "output_type": "execute_result"
    }
   ],
   "source": [
    "merged_train_labels.iloc[133]"
   ]
  },
  {
   "cell_type": "code",
   "execution_count": 25,
   "metadata": {
    "scrolled": true
   },
   "outputs": [
    {
     "data": {
      "text/plain": [
       "city                                  sj\n",
       "year                                2007\n",
       "weekofyear                            14\n",
       "week_start_date               2007-04-02\n",
       "ndvi_ne                        0.0188667\n",
       "ndvi_nw                          0.03325\n",
       "ndvi_se                         0.187057\n",
       "ndvi_sw                         0.163843\n",
       "prec_amt_mm                        90.68\n",
       "re_an_air_temp_k                 297.777\n",
       "re_an_avg_temp_k                 297.864\n",
       "re_an_dew_point_temp_k            293.27\n",
       "re_an_max_air_temp_k               299.9\n",
       "re_an_min_air_temp_k               296.5\n",
       "re_an_precip_amt_kg_per_m2          36.3\n",
       "re_an_relative_hd_percent        76.2143\n",
       "re_an_sat_precip_amt_mm            90.68\n",
       "re_an_specific_hd_g_per_kg       14.7729\n",
       "re_an_tdtr_k                     2.07143\n",
       "stn_avg_temp_c                      25.6\n",
       "stn_diur_temp_rng_c              6.01429\n",
       "stn_max_temp_c                        30\n",
       "stn_min_temp_c                      21.7\n",
       "stn_precip_mm                       40.2\n",
       "Name: 880, dtype: object"
      ]
     },
     "execution_count": 25,
     "metadata": {},
     "output_type": "execute_result"
    }
   ],
   "source": [
    "dengue_train.iloc[880]"
   ]
  },
  {
   "cell_type": "code",
   "execution_count": 26,
   "metadata": {
    "scrolled": true
   },
   "outputs": [
    {
     "data": {
      "text/plain": [
       "city             sj\n",
       "year           2007\n",
       "weekofyear       14\n",
       "total_cases       3\n",
       "Name: 880, dtype: object"
      ]
     },
     "execution_count": 26,
     "metadata": {},
     "output_type": "execute_result"
    }
   ],
   "source": [
    "dengue_labels.iloc[880]"
   ]
  },
  {
   "cell_type": "code",
   "execution_count": 27,
   "metadata": {
    "scrolled": true
   },
   "outputs": [
    {
     "data": {
      "text/plain": [
       "city                                  sj\n",
       "year                                2007\n",
       "weekofyear                            14\n",
       "week_start_date               2007-04-02\n",
       "ndvi_ne                        0.0188667\n",
       "ndvi_nw                          0.03325\n",
       "ndvi_se                         0.187057\n",
       "ndvi_sw                         0.163843\n",
       "prec_amt_mm                        90.68\n",
       "re_an_air_temp_k                 297.777\n",
       "re_an_avg_temp_k                 297.864\n",
       "re_an_dew_point_temp_k            293.27\n",
       "re_an_max_air_temp_k               299.9\n",
       "re_an_min_air_temp_k               296.5\n",
       "re_an_precip_amt_kg_per_m2          36.3\n",
       "re_an_relative_hd_percent        76.2143\n",
       "re_an_sat_precip_amt_mm            90.68\n",
       "re_an_specific_hd_g_per_kg       14.7729\n",
       "re_an_tdtr_k                     2.07143\n",
       "stn_avg_temp_c                      25.6\n",
       "stn_diur_temp_rng_c              6.01429\n",
       "stn_max_temp_c                        30\n",
       "stn_min_temp_c                      21.7\n",
       "stn_precip_mm                       40.2\n",
       "total_cases                            3\n",
       "Name: 880, dtype: object"
      ]
     },
     "execution_count": 27,
     "metadata": {},
     "output_type": "execute_result"
    }
   ],
   "source": [
    "merged_train_labels.iloc[880]"
   ]
  },
  {
   "cell_type": "markdown",
   "metadata": {},
   "source": [
    "2.b). Do a scatter plot of weekofyear on x-axis and total_cases on y-axis and observe if there is a relationship."
   ]
  },
  {
   "cell_type": "code",
   "execution_count": 28,
   "metadata": {
    "scrolled": true
   },
   "outputs": [
    {
     "data": {
      "text/plain": [
       "city\n",
       "iq    AxesSubplot(0.125,0.125;0.775x0.755)\n",
       "sj    AxesSubplot(0.125,0.125;0.775x0.755)\n",
       "dtype: object"
      ]
     },
     "execution_count": 28,
     "metadata": {},
     "output_type": "execute_result"
    },
    {
     "data": {
      "image/png": "[encoded data removed]",
      "text/plain": [
       "<Figure size 432x288 with 1 Axes>"
      ]
     },
     "metadata": {
      "needs_background": "light"
     },
     "output_type": "display_data"
    },
    {
     "data": {
      "image/png": "[encoded data removed]",
      "text/plain": [
       "<Figure size 432x288 with 1 Axes>"
      ]
     },
     "metadata": {
      "needs_background": "light"
     },
     "output_type": "display_data"
    }
   ],
   "source": [
    "#scatter plot between weekofyear and total_case grouped by city\n",
    "city_group = merged_train_labels.groupby(\"city\")\n",
    "city_group.plot(x =\"weekofyear\", y= \"total_cases\",kind=\"scatter\")\n"
   ]
  },
  {
   "cell_type": "code",
   "execution_count": 29,
   "metadata": {
    "scrolled": false
   },
   "outputs": [
    {
     "data": {
      "image/png": "[encoded data removed]",
      "text/plain": [
       "<Figure size 1440x720 with 1 Axes>"
      ]
     },
     "metadata": {
      "needs_background": "light"
     },
     "output_type": "display_data"
    }
   ],
   "source": [
    "fig, ax = plt.subplots(figsize=(20,10))\n",
    "ax.margins(0.05)\n",
    "for name, group in city_group:\n",
    "    ax.plot(group.weekofyear, group.total_cases, marker='*', linestyle='', ms=12, label=name)\n",
    "ax.legend(loc=1, prop={'size': 14})\n",
    "plt.xlabel(\"weekofyear\", fontsize=18)\n",
    "plt.ylabel(\"total_case\", fontsize = 18)\n",
    "plt.title(\"Scatter plot of total cases for week of the year\", fontsize=18,fontweight=\"bold\")\n",
    "plt.show()"
   ]
  },
  {
   "cell_type": "markdown",
   "metadata": {},
   "source": [
    "From the above two plots,we can say that\n",
    "\n",
    "* There are more number of dengue cases during starting few weeks of the year and then lesser cases for weeks between 10 and 25 for San Juan and weeks 10 and 30 for Iquitos followed with increase in number of cases in later weeks of several years for both the cities.\n",
    "* There are more total_cases of dengue in San Juan than Iquitos."
   ]
  },
  {
   "cell_type": "code",
   "execution_count": 30,
   "metadata": {
    "scrolled": false
   },
   "outputs": [
    {
     "data": {
      "image/png": "[encoded data removed]",
      "text/plain": [
       "<Figure size 720x720 with 1 Axes>"
      ]
     },
     "metadata": {
      "needs_background": "light"
     },
     "output_type": "display_data"
    }
   ],
   "source": [
    "fig, ax = plt.subplots()\n",
    "fig.set_size_inches(10,10)\n",
    "sns.boxplot(x=\"city\", y=\"total_cases\",data=merged_train_labels,hue=\"city\",ax=ax)\n",
    "ax.set_xlabel(\"city\", fontsize = 16)\n",
    "ax.set_ylabel(\"total_cases\", fontsize = 16)\n",
    "ax.legend(fontsize=14)\n",
    "sns.set(font_scale = 2)"
   ]
  },
  {
   "cell_type": "markdown",
   "metadata": {},
   "source": [
    "According to the distribution of total_case in two cities, it can be inferred that \n",
    "* The distribution of total_cases for san juan is right-skewed while it seems to be symmetric for iquitos.\n",
    "* There are several outliers for both the cities. \n",
    "* There is more variability in data points of total_cases for city San Juan than Iquitos."
   ]
  },
  {
   "cell_type": "code",
   "execution_count": 31,
   "metadata": {},
   "outputs": [
    {
     "data": {
      "image/png": "[encoded data removed]",
      "text/plain": [
       "<Figure size 1440x864 with 1 Axes>"
      ]
     },
     "metadata": {},
     "output_type": "display_data"
    }
   ],
   "source": [
    "# seed the random number generator\n",
    "random.seed(10)\n",
    "# calculate the mean of 80 instances of total_cases 500 times\n",
    "\n",
    "sample_80 = [(merged_train_labels.total_cases.sample(80).mean()) for _i in range(500)]\n",
    "\n",
    "# plot the distribution of sample means\n",
    "fig, ax = plt.subplots(figsize=(20,12))\n",
    "plt.hist(sample_80,color=\"green\")\n",
    "plt.title(\"distribution of sample of 80 total_cases\",fontsize= 18, color=\"maroon\")\n",
    "plt.xticks(fontsize=14)\n",
    "plt.yticks(fontsize=14)\n",
    "plt.show()"
   ]
  },
  {
   "cell_type": "code",
   "execution_count": 32,
   "metadata": {
    "scrolled": false
   },
   "outputs": [
    {
     "data": {
      "image/png": "[encoded data removed]",
      "text/plain": [
       "<Figure size 1440x720 with 1 Axes>"
      ]
     },
     "metadata": {},
     "output_type": "display_data"
    }
   ],
   "source": [
    "# seed the random number generator\n",
    "random.seed(10)\n",
    "# calculate the mean of 130 instances of total_cases 500 times\n",
    "\n",
    "sample_130 = [(merged_train_labels.total_cases.sample(130).mean()) for _i in range(500)]\n",
    "\n",
    "# plot the distribution of sample means\n",
    "fig, ax = plt.subplots(figsize=(20,10))\n",
    "plt.hist(sample_130,color=\"green\")\n",
    "plt.title(\"distribution of sample of 130 total_cases\",fontsize= 18, color=\"maroon\")\n",
    "plt.xticks(fontsize=14)\n",
    "plt.yticks(fontsize=14)\n",
    "plt.show()"
   ]
  },
  {
   "cell_type": "code",
   "execution_count": 33,
   "metadata": {},
   "outputs": [
    {
     "name": "stdout",
     "output_type": "stream",
     "text": [
      "The mean of total population: 24.67513736263736\n",
      "The standard deviation of total population: 43.5960001631074\n",
      "The mean of the sample means of sample size 80: 24.468524999999996\n",
      "The standard deviation of the sample means of sample size 80: 4.800958850779186\n",
      "The mean of the sample means of sample size 130: 24.558723076923076\n",
      "The standard deviation of the sample means of sample size 130: 3.589122950373727\n"
     ]
    }
   ],
   "source": [
    "print(\"The mean of total population:\",merged_train_labels.total_cases.mean())\n",
    "print(\"The standard deviation of total population:\",merged_train_labels.total_cases.std())\n",
    "print('The mean of the sample means of sample size 80: {}'.format(mean(sample_80)))\n",
    "print('The standard deviation of the sample means of sample size 80: {}'.format(std(sample_80)))\n",
    "print('The mean of the sample means of sample size 130: {}'.format(mean(sample_130)))\n",
    "print('The standard deviation of the sample means of sample size 130: {}'.format(std(sample_130)))"
   ]
  },
  {
   "cell_type": "markdown",
   "metadata": {},
   "source": [
    "The analysis performed above is done on total cases by randomly taking two samples of size 80 and 130 from the total population. Below conditions were taken into account-\n",
    "* Each sample represent random sample from the total population.\n",
    "* The sample size is lesser than the 10% of the total population.\n",
    "* The sample size is large enough that sample size is greater than 10.\n",
    "\n",
    "As per the output above we see that as the sample size increases the sample mean tends to be normally distributed around the population mean and its standard deviation shrinks as the sample size increases.\n",
    "\n",
    "**Hence it complies with the Central Limit Theorem**\n",
    "\n",
    "Similary, the distribution can be checked for other attributes as well."
   ]
  },
  {
   "cell_type": "markdown",
   "metadata": {},
   "source": [
    "d). Find the mean, min, max and standard deviation of total_cases by city"
   ]
  },
  {
   "cell_type": "code",
   "execution_count": 34,
   "metadata": {},
   "outputs": [
    {
     "name": "stdout",
     "output_type": "stream",
     "text": [
      "<class 'pandas.core.groupby.generic.DataFrameGroupBy'>\n"
     ]
    }
   ],
   "source": [
    "#create a dataframe using group by city\n",
    "grouped_df = merged_train_labels.groupby(\"city\")\n",
    "print(type(grouped_df))"
   ]
  },
  {
   "cell_type": "code",
   "execution_count": 35,
   "metadata": {},
   "outputs": [
    {
     "data": {
      "text/plain": [
       "city\n",
       "iq     7.565385\n",
       "sj    34.180556\n",
       "Name: total_cases, dtype: float64"
      ]
     },
     "execution_count": 35,
     "metadata": {},
     "output_type": "execute_result"
    }
   ],
   "source": [
    "#mean of total_cases of dengue in both the city\n",
    "grouped_df[\"total_cases\"].mean()"
   ]
  },
  {
   "cell_type": "code",
   "execution_count": 36,
   "metadata": {
    "scrolled": true
   },
   "outputs": [
    {
     "data": {
      "text/plain": [
       "city\n",
       "iq    0\n",
       "sj    0\n",
       "Name: total_cases, dtype: int64"
      ]
     },
     "execution_count": 36,
     "metadata": {},
     "output_type": "execute_result"
    }
   ],
   "source": [
    "#minimum value of total_cases of dengue in both the city\n",
    "grouped_df[\"total_cases\"].min()"
   ]
  },
  {
   "cell_type": "code",
   "execution_count": 37,
   "metadata": {},
   "outputs": [
    {
     "data": {
      "text/plain": [
       "city\n",
       "iq    116\n",
       "sj    461\n",
       "Name: total_cases, dtype: int64"
      ]
     },
     "execution_count": 37,
     "metadata": {},
     "output_type": "execute_result"
    }
   ],
   "source": [
    "#maximum value of total_cases of dengue in both the city\n",
    "grouped_df[\"total_cases\"].max()"
   ]
  },
  {
   "cell_type": "code",
   "execution_count": 38,
   "metadata": {},
   "outputs": [
    {
     "data": {
      "text/plain": [
       "city\n",
       "iq    10.765478\n",
       "sj    51.381372\n",
       "Name: total_cases, dtype: float64"
      ]
     },
     "execution_count": 38,
     "metadata": {},
     "output_type": "execute_result"
    }
   ],
   "source": [
    "#standard deviation for total_cases of dengue for both the city\n",
    "grouped_df[\"total_cases\"].std()"
   ]
  },
  {
   "cell_type": "code",
   "execution_count": 39,
   "metadata": {
    "scrolled": true
   },
   "outputs": [
    {
     "data": {
      "text/plain": [
       "city\n",
       "iq     5\n",
       "sj    19\n",
       "Name: total_cases, dtype: int64"
      ]
     },
     "execution_count": 39,
     "metadata": {},
     "output_type": "execute_result"
    }
   ],
   "source": [
    "grouped_df[\"total_cases\"].median()"
   ]
  },
  {
   "cell_type": "markdown",
   "metadata": {},
   "source": [
    "2.e). Read the relationship between mean and standard deviation and  describe the data of total_cases by city"
   ]
  },
  {
   "cell_type": "markdown",
   "metadata": {},
   "source": [
    "From the above analysis we can say that:\n",
    "* The mean value of total_case for both the cities is more than its median which means that the distribution is positively skewed.\n",
    "* Most of the data points lie in the range of +_10.8 around the mean of 7.6 for the city Iquitos.\n",
    "* Most of the data points lie in the range of +_51 around the mean of 34 for the city San Juan.\n",
    "\n",
    "Hence, we can say that there is more variation in San Juan total cases data points than Iquitos."
   ]
  },
  {
   "cell_type": "markdown",
   "metadata": {},
   "source": [
    "3. How many years in the city iq have greater than or equal to 50 total_cases of dengue and in which years?"
   ]
  },
  {
   "cell_type": "code",
   "execution_count": 40,
   "metadata": {},
   "outputs": [],
   "source": [
    "#display the city iq having total_cases greater than 50.\n",
    "year_count = merged_train_labels[(merged_train_labels[\"total_cases\"] >= 50) & (merged_train_labels[\"city\"] == \"iq\")]"
   ]
  },
  {
   "cell_type": "code",
   "execution_count": 41,
   "metadata": {},
   "outputs": [
    {
     "data": {
      "text/html": [
       "<div>\n",
       "<style scoped>\n",
       "    .dataframe tbody tr th:only-of-type {\n",
       "        vertical-align: middle;\n",
       "    }\n",
       "\n",
       "    .dataframe tbody tr th {\n",
       "        vertical-align: top;\n",
       "    }\n",
       "\n",
       "    .dataframe thead th {\n",
       "        text-align: right;\n",
       "    }\n",
       "</style>\n",
       "<table border=\"1\" class=\"dataframe\">\n",
       "  <thead>\n",
       "    <tr style=\"text-align: right;\">\n",
       "      <th></th>\n",
       "      <th>city</th>\n",
       "      <th>year</th>\n",
       "      <th>weekofyear</th>\n",
       "      <th>week_start_date</th>\n",
       "      <th>ndvi_ne</th>\n",
       "      <th>ndvi_nw</th>\n",
       "      <th>ndvi_se</th>\n",
       "      <th>ndvi_sw</th>\n",
       "      <th>prec_amt_mm</th>\n",
       "      <th>re_an_air_temp_k</th>\n",
       "      <th>...</th>\n",
       "      <th>re_an_relative_hd_percent</th>\n",
       "      <th>re_an_sat_precip_amt_mm</th>\n",
       "      <th>re_an_specific_hd_g_per_kg</th>\n",
       "      <th>re_an_tdtr_k</th>\n",
       "      <th>stn_avg_temp_c</th>\n",
       "      <th>stn_diur_temp_rng_c</th>\n",
       "      <th>stn_max_temp_c</th>\n",
       "      <th>stn_min_temp_c</th>\n",
       "      <th>stn_precip_mm</th>\n",
       "      <th>total_cases</th>\n",
       "    </tr>\n",
       "  </thead>\n",
       "  <tbody>\n",
       "    <tr>\n",
       "      <td>1166</td>\n",
       "      <td>iq</td>\n",
       "      <td>2004</td>\n",
       "      <td>49</td>\n",
       "      <td>2004-12-02</td>\n",
       "      <td>0.201943</td>\n",
       "      <td>0.159367</td>\n",
       "      <td>0.159043</td>\n",
       "      <td>0.241086</td>\n",
       "      <td>53.01</td>\n",
       "      <td>299.177143</td>\n",
       "      <td>...</td>\n",
       "      <td>87.130000</td>\n",
       "      <td>53.01</td>\n",
       "      <td>18.110000</td>\n",
       "      <td>10.957143</td>\n",
       "      <td>27.90</td>\n",
       "      <td>11.00</td>\n",
       "      <td>34.1</td>\n",
       "      <td>22.4</td>\n",
       "      <td>64.0</td>\n",
       "      <td>83</td>\n",
       "    </tr>\n",
       "    <tr>\n",
       "      <td>1167</td>\n",
       "      <td>iq</td>\n",
       "      <td>2004</td>\n",
       "      <td>50</td>\n",
       "      <td>2004-12-09</td>\n",
       "      <td>0.323429</td>\n",
       "      <td>0.309514</td>\n",
       "      <td>0.275829</td>\n",
       "      <td>0.335900</td>\n",
       "      <td>70.04</td>\n",
       "      <td>297.787143</td>\n",
       "      <td>...</td>\n",
       "      <td>93.938571</td>\n",
       "      <td>70.04</td>\n",
       "      <td>18.207143</td>\n",
       "      <td>6.500000</td>\n",
       "      <td>27.90</td>\n",
       "      <td>11.00</td>\n",
       "      <td>34.1</td>\n",
       "      <td>22.4</td>\n",
       "      <td>9.9</td>\n",
       "      <td>116</td>\n",
       "    </tr>\n",
       "    <tr>\n",
       "      <td>1327</td>\n",
       "      <td>iq</td>\n",
       "      <td>2008</td>\n",
       "      <td>2</td>\n",
       "      <td>2008-01-08</td>\n",
       "      <td>0.444933</td>\n",
       "      <td>0.275850</td>\n",
       "      <td>0.356900</td>\n",
       "      <td>0.469729</td>\n",
       "      <td>71.84</td>\n",
       "      <td>296.095714</td>\n",
       "      <td>...</td>\n",
       "      <td>95.280000</td>\n",
       "      <td>71.84</td>\n",
       "      <td>16.681429</td>\n",
       "      <td>5.100000</td>\n",
       "      <td>25.80</td>\n",
       "      <td>6.30</td>\n",
       "      <td>31.4</td>\n",
       "      <td>22.6</td>\n",
       "      <td>104.4</td>\n",
       "      <td>58</td>\n",
       "    </tr>\n",
       "    <tr>\n",
       "      <td>1367</td>\n",
       "      <td>iq</td>\n",
       "      <td>2008</td>\n",
       "      <td>42</td>\n",
       "      <td>2008-10-14</td>\n",
       "      <td>0.288200</td>\n",
       "      <td>0.227857</td>\n",
       "      <td>0.280757</td>\n",
       "      <td>0.357971</td>\n",
       "      <td>69.39</td>\n",
       "      <td>298.350000</td>\n",
       "      <td>...</td>\n",
       "      <td>88.857143</td>\n",
       "      <td>69.39</td>\n",
       "      <td>17.527143</td>\n",
       "      <td>9.971429</td>\n",
       "      <td>26.45</td>\n",
       "      <td>9.10</td>\n",
       "      <td>34.7</td>\n",
       "      <td>21.0</td>\n",
       "      <td>24.9</td>\n",
       "      <td>63</td>\n",
       "    </tr>\n",
       "    <tr>\n",
       "      <td>1369</td>\n",
       "      <td>iq</td>\n",
       "      <td>2008</td>\n",
       "      <td>44</td>\n",
       "      <td>2008-10-28</td>\n",
       "      <td>0.161743</td>\n",
       "      <td>0.196200</td>\n",
       "      <td>0.198271</td>\n",
       "      <td>0.219614</td>\n",
       "      <td>43.60</td>\n",
       "      <td>298.372857</td>\n",
       "      <td>...</td>\n",
       "      <td>92.608571</td>\n",
       "      <td>43.60</td>\n",
       "      <td>18.484286</td>\n",
       "      <td>8.571429</td>\n",
       "      <td>27.40</td>\n",
       "      <td>11.35</td>\n",
       "      <td>35.0</td>\n",
       "      <td>21.2</td>\n",
       "      <td>0.0</td>\n",
       "      <td>50</td>\n",
       "    </tr>\n",
       "  </tbody>\n",
       "</table>\n",
       "<p>5 rows × 25 columns</p>\n",
       "</div>"
      ],
      "text/plain": [
       "     city  year  weekofyear week_start_date   ndvi_ne   ndvi_nw   ndvi_se  \\\n",
       "1166   iq  2004          49      2004-12-02  0.201943  0.159367  0.159043   \n",
       "1167   iq  2004          50      2004-12-09  0.323429  0.309514  0.275829   \n",
       "1327   iq  2008           2      2008-01-08  0.444933  0.275850  0.356900   \n",
       "1367   iq  2008          42      2008-10-14  0.288200  0.227857  0.280757   \n",
       "1369   iq  2008          44      2008-10-28  0.161743  0.196200  0.198271   \n",
       "\n",
       "       ndvi_sw  prec_amt_mm  re_an_air_temp_k  ...  re_an_relative_hd_percent  \\\n",
       "1166  0.241086        53.01        299.177143  ...                  87.130000   \n",
       "1167  0.335900        70.04        297.787143  ...                  93.938571   \n",
       "1327  0.469729        71.84        296.095714  ...                  95.280000   \n",
       "1367  0.357971        69.39        298.350000  ...                  88.857143   \n",
       "1369  0.219614        43.60        298.372857  ...                  92.608571   \n",
       "\n",
       "      re_an_sat_precip_amt_mm  re_an_specific_hd_g_per_kg  re_an_tdtr_k  \\\n",
       "1166                    53.01                   18.110000     10.957143   \n",
       "1167                    70.04                   18.207143      6.500000   \n",
       "1327                    71.84                   16.681429      5.100000   \n",
       "1367                    69.39                   17.527143      9.971429   \n",
       "1369                    43.60                   18.484286      8.571429   \n",
       "\n",
       "      stn_avg_temp_c  stn_diur_temp_rng_c  stn_max_temp_c  stn_min_temp_c  \\\n",
       "1166           27.90                11.00            34.1            22.4   \n",
       "1167           27.90                11.00            34.1            22.4   \n",
       "1327           25.80                 6.30            31.4            22.6   \n",
       "1367           26.45                 9.10            34.7            21.0   \n",
       "1369           27.40                11.35            35.0            21.2   \n",
       "\n",
       "      stn_precip_mm  total_cases  \n",
       "1166           64.0           83  \n",
       "1167            9.9          116  \n",
       "1327          104.4           58  \n",
       "1367           24.9           63  \n",
       "1369            0.0           50  \n",
       "\n",
       "[5 rows x 25 columns]"
      ]
     },
     "execution_count": 41,
     "metadata": {},
     "output_type": "execute_result"
    }
   ],
   "source": [
    "year_count"
   ]
  },
  {
   "cell_type": "code",
   "execution_count": 42,
   "metadata": {},
   "outputs": [
    {
     "data": {
      "text/plain": [
       "5"
      ]
     },
     "execution_count": 42,
     "metadata": {},
     "output_type": "execute_result"
    }
   ],
   "source": [
    "#display the count and years for city iq having total_cases greater than 50.\n",
    "year_count[\"total_cases\"].count()"
   ]
  },
  {
   "cell_type": "code",
   "execution_count": 43,
   "metadata": {},
   "outputs": [
    {
     "data": {
      "text/plain": [
       "array([2004, 2008], dtype=int64)"
      ]
     },
     "execution_count": 43,
     "metadata": {},
     "output_type": "execute_result"
    }
   ],
   "source": [
    "year_count[\"year\"].unique()"
   ]
  },
  {
   "cell_type": "markdown",
   "metadata": {},
   "source": [
    "There are total 5 weeks in 2 years (2 weeks in 2004 and 3 weeks in 2008) for city Iquitos having total cases of dengue greater than or equal to 50."
   ]
  },
  {
   "cell_type": "markdown",
   "metadata": {},
   "source": [
    "#### Finding an outlier\n",
    "4. Find and remove the outliers to bring the mean and standard deviation closer to each other."
   ]
  },
  {
   "cell_type": "code",
   "execution_count": 44,
   "metadata": {},
   "outputs": [],
   "source": [
    "from scipy import stats"
   ]
  },
  {
   "cell_type": "markdown",
   "metadata": {},
   "source": [
    "In the below approach, z-scores have been calculated separately to indentify outliers from both the cities."
   ]
  },
  {
   "cell_type": "code",
   "execution_count": 45,
   "metadata": {},
   "outputs": [
    {
     "name": "stdout",
     "output_type": "stream",
     "text": [
      "520\n",
      "7.565384615384615\n",
      "10.765478342208679\n"
     ]
    }
   ],
   "source": [
    "#calculating the z-score of total_cases for city iq\n",
    "city_iq = merged_train_labels[merged_train_labels[\"city\"] == \"iq\"]\n",
    "print(city_iq[\"total_cases\"].count())\n",
    "print(city_iq[\"total_cases\"].mean())\n",
    "print(city_iq[\"total_cases\"].std())"
   ]
  },
  {
   "cell_type": "code",
   "execution_count": 46,
   "metadata": {},
   "outputs": [
    {
     "name": "stdout",
     "output_type": "stream",
     "text": [
      "(array([230, 231, 391, 429, 431, 432, 433], dtype=int64),)\n"
     ]
    }
   ],
   "source": [
    "z_iq = np.abs(stats.zscore(city_iq[\"total_cases\"])) \n",
    "threshold = 3\n",
    "print(np.where(z_iq > 3))"
   ]
  },
  {
   "cell_type": "code",
   "execution_count": 47,
   "metadata": {},
   "outputs": [
    {
     "name": "stdout",
     "output_type": "stream",
     "text": [
      "4.689357839855926\n"
     ]
    }
   ],
   "source": [
    "print(z_iq[391])"
   ]
  },
  {
   "cell_type": "markdown",
   "metadata": {},
   "source": [
    "For eg, The Z-score of 391th instance is 4.68 standard deviation away from mean i.e more than 3 standard deviation and so is considered as an outlier."
   ]
  },
  {
   "cell_type": "code",
   "execution_count": 48,
   "metadata": {},
   "outputs": [
    {
     "name": "stdout",
     "output_type": "stream",
     "text": [
      "(513, 25)\n"
     ]
    }
   ],
   "source": [
    "#removing the outliers from city iq\n",
    "oulier_rem_city_iq = city_iq[(z_iq < 3)]\n",
    "print(oulier_rem_city_iq.shape)"
   ]
  },
  {
   "cell_type": "code",
   "execution_count": 49,
   "metadata": {},
   "outputs": [
    {
     "name": "stdout",
     "output_type": "stream",
     "text": [
      "936\n",
      "34.18055555555556\n",
      "51.38137249715158\n"
     ]
    }
   ],
   "source": [
    "#calculating the z-score of total_cases for city sj\n",
    "city_sj = merged_train_labels[merged_train_labels[\"city\"] == \"sj\"]\n",
    "print(city_sj[\"total_cases\"].count())\n",
    "print(city_sj[\"total_cases\"].mean())\n",
    "print(city_sj[\"total_cases\"].std())\n"
   ]
  },
  {
   "cell_type": "code",
   "execution_count": 50,
   "metadata": {},
   "outputs": [
    {
     "name": "stdout",
     "output_type": "stream",
     "text": [
      "(array([227, 228, 229, 230, 231, 232, 233, 234, 235, 236, 237, 238, 239,\n",
      "       240, 428, 429, 430, 431, 432, 433], dtype=int64),)\n"
     ]
    }
   ],
   "source": [
    "z_sj = np.abs(stats.zscore(city_sj[\"total_cases\"]))\n",
    "threshold = 3\n",
    "print(np.where(z_sj > 3))"
   ]
  },
  {
   "cell_type": "code",
   "execution_count": 51,
   "metadata": {},
   "outputs": [
    {
     "name": "stdout",
     "output_type": "stream",
     "text": [
      "4.630989307360045\n"
     ]
    }
   ],
   "source": [
    "print(z_sj[228])"
   ]
  },
  {
   "cell_type": "markdown",
   "metadata": {},
   "source": [
    "For eg, The Z-score of 228th instance is 4.6 standard deviation away from mean i.e more than 3 standard deviation and so is considered as an outlier."
   ]
  },
  {
   "cell_type": "code",
   "execution_count": 52,
   "metadata": {},
   "outputs": [
    {
     "name": "stdout",
     "output_type": "stream",
     "text": [
      "(916, 25)\n"
     ]
    }
   ],
   "source": [
    "#removing the outliers from city sj\n",
    "oulier_rem_city_sj = city_sj[(z_sj < 3)]\n",
    "print(oulier_rem_city_sj.shape)"
   ]
  },
  {
   "cell_type": "markdown",
   "metadata": {},
   "source": [
    "Merge the dataframe having data point within 3 standard deviation for both the cities, i.e without outliers"
   ]
  },
  {
   "cell_type": "code",
   "execution_count": 53,
   "metadata": {},
   "outputs": [],
   "source": [
    "#creating a new dataframe without outliers\n",
    "df_without_outliers = pd.concat([oulier_rem_city_iq,oulier_rem_city_sj] )"
   ]
  },
  {
   "cell_type": "code",
   "execution_count": 54,
   "metadata": {
    "scrolled": true
   },
   "outputs": [
    {
     "data": {
      "text/html": [
       "<div>\n",
       "<style scoped>\n",
       "    .dataframe tbody tr th:only-of-type {\n",
       "        vertical-align: middle;\n",
       "    }\n",
       "\n",
       "    .dataframe tbody tr th {\n",
       "        vertical-align: top;\n",
       "    }\n",
       "\n",
       "    .dataframe thead th {\n",
       "        text-align: right;\n",
       "    }\n",
       "</style>\n",
       "<table border=\"1\" class=\"dataframe\">\n",
       "  <thead>\n",
       "    <tr style=\"text-align: right;\">\n",
       "      <th></th>\n",
       "      <th>city</th>\n",
       "      <th>year</th>\n",
       "      <th>weekofyear</th>\n",
       "      <th>week_start_date</th>\n",
       "      <th>ndvi_ne</th>\n",
       "      <th>ndvi_nw</th>\n",
       "      <th>ndvi_se</th>\n",
       "      <th>ndvi_sw</th>\n",
       "      <th>prec_amt_mm</th>\n",
       "      <th>re_an_air_temp_k</th>\n",
       "      <th>...</th>\n",
       "      <th>re_an_relative_hd_percent</th>\n",
       "      <th>re_an_sat_precip_amt_mm</th>\n",
       "      <th>re_an_specific_hd_g_per_kg</th>\n",
       "      <th>re_an_tdtr_k</th>\n",
       "      <th>stn_avg_temp_c</th>\n",
       "      <th>stn_diur_temp_rng_c</th>\n",
       "      <th>stn_max_temp_c</th>\n",
       "      <th>stn_min_temp_c</th>\n",
       "      <th>stn_precip_mm</th>\n",
       "      <th>total_cases</th>\n",
       "    </tr>\n",
       "  </thead>\n",
       "  <tbody>\n",
       "    <tr>\n",
       "      <td>936</td>\n",
       "      <td>iq</td>\n",
       "      <td>2000</td>\n",
       "      <td>26</td>\n",
       "      <td>2000-07-01</td>\n",
       "      <td>0.192886</td>\n",
       "      <td>0.132257</td>\n",
       "      <td>0.340886</td>\n",
       "      <td>0.247200</td>\n",
       "      <td>25.41</td>\n",
       "      <td>296.740000</td>\n",
       "      <td>...</td>\n",
       "      <td>92.418571</td>\n",
       "      <td>25.41</td>\n",
       "      <td>16.651429</td>\n",
       "      <td>8.928571</td>\n",
       "      <td>26.400000</td>\n",
       "      <td>10.775000</td>\n",
       "      <td>32.5</td>\n",
       "      <td>20.7</td>\n",
       "      <td>3.0</td>\n",
       "      <td>0</td>\n",
       "    </tr>\n",
       "    <tr>\n",
       "      <td>937</td>\n",
       "      <td>iq</td>\n",
       "      <td>2000</td>\n",
       "      <td>27</td>\n",
       "      <td>2000-07-08</td>\n",
       "      <td>0.216833</td>\n",
       "      <td>0.276100</td>\n",
       "      <td>0.289457</td>\n",
       "      <td>0.241657</td>\n",
       "      <td>60.61</td>\n",
       "      <td>296.634286</td>\n",
       "      <td>...</td>\n",
       "      <td>93.581429</td>\n",
       "      <td>60.61</td>\n",
       "      <td>16.862857</td>\n",
       "      <td>10.314286</td>\n",
       "      <td>26.900000</td>\n",
       "      <td>11.566667</td>\n",
       "      <td>34.0</td>\n",
       "      <td>20.8</td>\n",
       "      <td>55.6</td>\n",
       "      <td>0</td>\n",
       "    </tr>\n",
       "    <tr>\n",
       "      <td>938</td>\n",
       "      <td>iq</td>\n",
       "      <td>2000</td>\n",
       "      <td>28</td>\n",
       "      <td>2000-07-15</td>\n",
       "      <td>0.176757</td>\n",
       "      <td>0.173129</td>\n",
       "      <td>0.204114</td>\n",
       "      <td>0.128014</td>\n",
       "      <td>55.52</td>\n",
       "      <td>296.415714</td>\n",
       "      <td>...</td>\n",
       "      <td>95.848571</td>\n",
       "      <td>55.52</td>\n",
       "      <td>17.120000</td>\n",
       "      <td>7.385714</td>\n",
       "      <td>26.800000</td>\n",
       "      <td>11.466667</td>\n",
       "      <td>33.0</td>\n",
       "      <td>20.7</td>\n",
       "      <td>38.1</td>\n",
       "      <td>0</td>\n",
       "    </tr>\n",
       "    <tr>\n",
       "      <td>939</td>\n",
       "      <td>iq</td>\n",
       "      <td>2000</td>\n",
       "      <td>29</td>\n",
       "      <td>2000-07-22</td>\n",
       "      <td>0.227729</td>\n",
       "      <td>0.145429</td>\n",
       "      <td>0.254200</td>\n",
       "      <td>0.200314</td>\n",
       "      <td>5.60</td>\n",
       "      <td>295.357143</td>\n",
       "      <td>...</td>\n",
       "      <td>87.234286</td>\n",
       "      <td>5.60</td>\n",
       "      <td>14.431429</td>\n",
       "      <td>9.114286</td>\n",
       "      <td>25.766667</td>\n",
       "      <td>10.533333</td>\n",
       "      <td>31.5</td>\n",
       "      <td>14.7</td>\n",
       "      <td>30.0</td>\n",
       "      <td>0</td>\n",
       "    </tr>\n",
       "    <tr>\n",
       "      <td>940</td>\n",
       "      <td>iq</td>\n",
       "      <td>2000</td>\n",
       "      <td>30</td>\n",
       "      <td>2000-07-29</td>\n",
       "      <td>0.328643</td>\n",
       "      <td>0.322129</td>\n",
       "      <td>0.254371</td>\n",
       "      <td>0.361043</td>\n",
       "      <td>62.76</td>\n",
       "      <td>296.432857</td>\n",
       "      <td>...</td>\n",
       "      <td>88.161429</td>\n",
       "      <td>62.76</td>\n",
       "      <td>15.444286</td>\n",
       "      <td>9.500000</td>\n",
       "      <td>26.600000</td>\n",
       "      <td>11.480000</td>\n",
       "      <td>33.3</td>\n",
       "      <td>19.1</td>\n",
       "      <td>4.0</td>\n",
       "      <td>0</td>\n",
       "    </tr>\n",
       "  </tbody>\n",
       "</table>\n",
       "<p>5 rows × 25 columns</p>\n",
       "</div>"
      ],
      "text/plain": [
       "    city  year  weekofyear week_start_date   ndvi_ne   ndvi_nw   ndvi_se  \\\n",
       "936   iq  2000          26      2000-07-01  0.192886  0.132257  0.340886   \n",
       "937   iq  2000          27      2000-07-08  0.216833  0.276100  0.289457   \n",
       "938   iq  2000          28      2000-07-15  0.176757  0.173129  0.204114   \n",
       "939   iq  2000          29      2000-07-22  0.227729  0.145429  0.254200   \n",
       "940   iq  2000          30      2000-07-29  0.328643  0.322129  0.254371   \n",
       "\n",
       "      ndvi_sw  prec_amt_mm  re_an_air_temp_k  ...  re_an_relative_hd_percent  \\\n",
       "936  0.247200        25.41        296.740000  ...                  92.418571   \n",
       "937  0.241657        60.61        296.634286  ...                  93.581429   \n",
       "938  0.128014        55.52        296.415714  ...                  95.848571   \n",
       "939  0.200314         5.60        295.357143  ...                  87.234286   \n",
       "940  0.361043        62.76        296.432857  ...                  88.161429   \n",
       "\n",
       "     re_an_sat_precip_amt_mm  re_an_specific_hd_g_per_kg  re_an_tdtr_k  \\\n",
       "936                    25.41                   16.651429      8.928571   \n",
       "937                    60.61                   16.862857     10.314286   \n",
       "938                    55.52                   17.120000      7.385714   \n",
       "939                     5.60                   14.431429      9.114286   \n",
       "940                    62.76                   15.444286      9.500000   \n",
       "\n",
       "     stn_avg_temp_c  stn_diur_temp_rng_c  stn_max_temp_c  stn_min_temp_c  \\\n",
       "936       26.400000            10.775000            32.5            20.7   \n",
       "937       26.900000            11.566667            34.0            20.8   \n",
       "938       26.800000            11.466667            33.0            20.7   \n",
       "939       25.766667            10.533333            31.5            14.7   \n",
       "940       26.600000            11.480000            33.3            19.1   \n",
       "\n",
       "     stn_precip_mm  total_cases  \n",
       "936            3.0            0  \n",
       "937           55.6            0  \n",
       "938           38.1            0  \n",
       "939           30.0            0  \n",
       "940            4.0            0  \n",
       "\n",
       "[5 rows x 25 columns]"
      ]
     },
     "execution_count": 54,
     "metadata": {},
     "output_type": "execute_result"
    }
   ],
   "source": [
    "df_without_outliers.head()"
   ]
  },
  {
   "cell_type": "code",
   "execution_count": 55,
   "metadata": {
    "scrolled": false
   },
   "outputs": [
    {
     "name": "stdout",
     "output_type": "stream",
     "text": [
      "(1456, 25)\n",
      "(1429, 25)\n"
     ]
    }
   ],
   "source": [
    "print(merged_train_labels.shape)\n",
    "print(df_without_outliers.shape)"
   ]
  },
  {
   "cell_type": "markdown",
   "metadata": {},
   "source": [
    "From above analysis, we saw that there were 7 outliers for city Iquitos and 20 outliers for city San Juan, which were removed and now we have 1429 records left in our dataset."
   ]
  },
  {
   "cell_type": "code",
   "execution_count": 56,
   "metadata": {},
   "outputs": [
    {
     "name": "stdout",
     "output_type": "stream",
     "text": [
      "mean of total_cases of original dataset: 24.67513736263736\n",
      "standard deviation of total_cases of original dataset: 43.5960001631074\n",
      "mean of total_cases of new dataset with no outliers: 20.46046186144157\n",
      "standard deviation of total_cases of new dataset with no outliers: 25.821963922113625\n"
     ]
    }
   ],
   "source": [
    "print(\"mean of total_cases of original dataset:\",merged_train_labels.total_cases.mean())\n",
    "print(\"standard deviation of total_cases of original dataset:\",merged_train_labels.total_cases.std())\n",
    "print(\"mean of total_cases of new dataset with no outliers:\",df_without_outliers.total_cases.mean())\n",
    "print(\"standard deviation of total_cases of new dataset with no outliers:\",df_without_outliers.total_cases.std())"
   ]
  },
  {
   "cell_type": "markdown",
   "metadata": {},
   "source": [
    "According to above output, we see that on removing the ouliers standard deviation came closer to the mean."
   ]
  },
  {
   "cell_type": "markdown",
   "metadata": {},
   "source": [
    "5. Create a temp data frame by grouping the total_cases by weekofyear and draw a histogram of total_cases and provide insights based on the distribution."
   ]
  },
  {
   "cell_type": "code",
   "execution_count": 57,
   "metadata": {},
   "outputs": [],
   "source": [
    "#create a temp dataframe by grouping the total_cases by weekofyear \n",
    "temp = pd.DataFrame(df_without_outliers.groupby([\"weekofyear\"])[\"total_cases\"].agg('sum'))"
   ]
  },
  {
   "cell_type": "code",
   "execution_count": 58,
   "metadata": {
    "scrolled": false
   },
   "outputs": [
    {
     "data": {
      "text/plain": [
       "(array([0., 1., 2., 3., 4., 5., 6., 7., 8.]),\n",
       " <a list of 9 Text yticklabel objects>)"
      ]
     },
     "execution_count": 58,
     "metadata": {},
     "output_type": "execute_result"
    },
    {
     "data": {
      "image/png": "[encoded data removed]",
      "text/plain": [
       "<Figure size 720x576 with 1 Axes>"
      ]
     },
     "metadata": {},
     "output_type": "display_data"
    }
   ],
   "source": [
    "temp.hist(bins = 20,grid=False,color =\"maroon\", figsize=(10,8))\n",
    "plt.xlabel(\"total_cases\", fontsize=16)\n",
    "plt.ylabel(\"frequency of weekofyear\",fontsize=16)\n",
    "plt.title(\"total cases grouped by weekofyear\",fontsize=16)\n",
    "plt.xticks(fontsize=14)\n",
    "plt.yticks(fontsize=14)"
   ]
  },
  {
   "cell_type": "markdown",
   "metadata": {},
   "source": [
    "From the above output, we can say that\n",
    "* There are 7 + 6 = 13 particular weeks of several years in the dataset when the sum of total cases of dengue is between 250 and 350.\n",
    "* There are 2 empty bins indicating that there were no weeks \n",
    " * when the sum of total cases were around 750 and lesser than 800 and \n",
    " * when the sum of total cases is some around below 200 and above 150.\n",
    "* There are 6 weeks having sum of total cases of dengue around 900."
   ]
  }
 ],
 "metadata": {
  "kernelspec": {
   "display_name": "Python 3",
   "language": "python",
   "name": "python3"
  },
  "language_info": {
   "codemirror_mode": {
    "name": "ipython",
    "version": 3
   },
   "file_extension": ".py",
   "mimetype": "text/x-python",
   "name": "python",
   "nbconvert_exporter": "python",
   "pygments_lexer": "ipython3",
   "version": "3.7.4"
  }
 },
 "nbformat": 4,
 "nbformat_minor": 2
}
